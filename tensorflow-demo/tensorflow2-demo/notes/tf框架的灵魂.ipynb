{
 "cells": [
  {
   "cell_type": "markdown",
   "metadata": {
    "collapsed": true,
    "pycharm": {
     "name": "#%% md\n"
    }
   },
   "source": [
    "tf1和tf2的最明显差别就是，前者是name-based，后者是object-based\n",
    "\n",
    "但无论是tf1还是tf2，tf的核心永远是一张graph\n",
    "\n",
    "可以把tf的理解为一台吊车，我们使用python来操作tf这台吊车，然后利用tf，在graph上放置各个变量和操作\n",
    "\n",
    "真实的计算是在graph上进行的，而无论是name-based还是object-based，这只是我们操纵吊车的手段而已\n",
    "\n",
    "以下面的exponentialMovingAverage为例"
   ]
  },
  {
   "cell_type": "code",
   "execution_count": 2,
   "outputs": [
    {
     "name": "stdout",
     "output_type": "stream",
     "text": [
      "对var1进行apply，相当于告诉ema需要维护关于var1的滑动平均值\n",
      "\n",
      "正常返回值\n",
      "1.0899999\n",
      "\n",
      "返回值为None\n",
      "None\n"
     ]
    }
   ],
   "source": [
    "import tensorflow as tf\n",
    "\n",
    "decay=0.99\n",
    "ema=tf.train.ExponentialMovingAverage(decay=decay)\n",
    "var1=tf.Variable(1.)\n",
    "print(\"对var1进行apply，相当于告诉ema需要维护关于var1的滑动平均值\")\n",
    "ema.apply([var1])\n",
    "var1.assign(10)\n",
    "ema.apply([var1])\n",
    "print(\"\\n正常返回值\")\n",
    "print(ema.average(var1).numpy())\n",
    "\n",
    "print(\"\\n返回值为None\")\n",
    "var1=tf.Variable(1.)\n",
    "print(ema.average(var1))"
   ],
   "metadata": {
    "collapsed": false,
    "pycharm": {
     "name": "#%%\n"
    }
   }
  },
  {
   "cell_type": "markdown",
   "source": [
    "为什么造成上面的事情呢？\n",
    "\n",
    "因为第一个var1和第二个var1并不是同一个东西了，第一个tf.Variable(1.)操作，tf这台吊车在graph上放置了一个变量，假设称其为var_a，\n",
    "然后用ema记录这个var_a的滑动平均值\n",
    "\n",
    "但第二个tf.Variable(1.)操作，tf这台吊车在graph上又放置了一个新的变量，假设称其为var_b，注意var_a和var_b不是同一个东西了，即使在python眼里，他们的变量名都是var1\n",
    "所以对于var_b求滑动平均的时候，ema并不认识var_b，所以返回值为None\n"
   ],
   "metadata": {
    "collapsed": false,
    "pycharm": {
     "name": "#%% md\n"
    }
   }
  }
 ],
 "metadata": {
  "kernelspec": {
   "display_name": "Python 3",
   "language": "python",
   "name": "python3"
  },
  "language_info": {
   "codemirror_mode": {
    "name": "ipython",
    "version": 2
   },
   "file_extension": ".py",
   "mimetype": "text/x-python",
   "name": "python",
   "nbconvert_exporter": "python",
   "pygments_lexer": "ipython2",
   "version": "2.7.6"
  }
 },
 "nbformat": 4,
 "nbformat_minor": 0
}