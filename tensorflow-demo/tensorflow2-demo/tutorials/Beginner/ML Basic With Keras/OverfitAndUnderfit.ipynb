{
 "cells": [
  {
   "cell_type": "code",
   "execution_count": 1,
   "metadata": {
    "collapsed": true
   },
   "outputs": [
    {
     "name": "stdout",
     "output_type": "stream",
     "text": [
      "2.3.0\n"
     ]
    }
   ],
   "source": [
    "import tensorflow as tf\n",
    "\n",
    "from tensorflow.keras import layers\n",
    "from tensorflow.keras import regularizers\n",
    "\n",
    "print(tf.__version__)"
   ]
  },
  {
   "cell_type": "code",
   "execution_count": 2,
   "outputs": [],
   "source": [
    "# !pip install -q git+https://github.com/tensorflow/docs\n",
    "# 已经安装成功就不继续安装了\n",
    "\n",
    "import tensorflow_docs as tfdocs\n",
    "import tensorflow_docs.modeling\n",
    "import tensorflow_docs.plots\n"
   ],
   "metadata": {
    "collapsed": false,
    "pycharm": {
     "name": "#%%\n"
    }
   }
  },
  {
   "cell_type": "code",
   "execution_count": 20,
   "outputs": [],
   "source": [
    "from  IPython import display\n",
    "from matplotlib import pyplot as plt\n",
    "\n",
    "import numpy as np\n",
    "\n",
    "import pathlib\n",
    "import shutil\n",
    "import tempfile\n"
   ],
   "metadata": {
    "collapsed": false,
    "pycharm": {
     "name": "#%%\n"
    }
   }
  },
  {
   "cell_type": "code",
   "execution_count": 21,
   "outputs": [],
   "source": [
    "logdir = pathlib.Path(tempfile.mkdtemp())/\"tensorboard_logs\"\n",
    "shutil.rmtree(logdir, ignore_errors=True)"
   ],
   "metadata": {
    "collapsed": false,
    "pycharm": {
     "name": "#%%\n"
    }
   }
  },
  {
   "cell_type": "code",
   "execution_count": 22,
   "outputs": [
    {
     "data": {
      "text/plain": "PosixPath('/tmp/tmp01ywhvy2/tensorboard_logs')"
     },
     "execution_count": 22,
     "metadata": {},
     "output_type": "execute_result"
    }
   ],
   "source": [
    "logdir\n"
   ],
   "metadata": {
    "collapsed": false,
    "pycharm": {
     "name": "#%%\n"
    }
   }
  },
  {
   "cell_type": "code",
   "execution_count": 23,
   "outputs": [],
   "source": [
    "gz = tf.keras.utils.get_file('HIGGS.csv.gz', 'http://mlphysics.ics.uci.edu/data/higgs/HIGGS.csv.gz')\n",
    "FEATURES = 28\n",
    "ds = tf.data.experimental.CsvDataset(gz,[float(),]*(FEATURES+1), compression_type=\"GZIP\")"
   ],
   "metadata": {
    "collapsed": false,
    "pycharm": {
     "name": "#%%\n"
    }
   }
  },
  {
   "cell_type": "code",
   "execution_count": 24,
   "outputs": [],
   "source": [
    "def pack_row(*row):\n",
    "  label = row[0]\n",
    "  features = tf.stack(row[1:],1)\n",
    "  return features, label\n",
    "packed_ds = ds.batch(10000).map(pack_row).unbatch()\n",
    "# ds持有的是一个tuple，所以batch之后，持有的仍然是tuple\n",
    "# 只不过每个tuple的元素都变成了一个(10000,)的列表\n",
    "# 所以pack_row方法输入的row是一个有着29个(10000,)列表的tuple\n",
    "# row[0]，就是10000个label\n",
    "# row[1:]，就是(28*(10000,))的tuple。对其进行stack，就变成了(10000,28)的矩阵\n",
    "# stack方法的使用请google吧"
   ],
   "metadata": {
    "collapsed": false,
    "pycharm": {
     "name": "#%%\n"
    }
   }
  },
  {
   "cell_type": "code",
   "execution_count": 25,
   "outputs": [
    {
     "name": "stdout",
     "output_type": "stream",
     "text": [
      "tf.Tensor(\n",
      "[ 0.8692932  -0.6350818   0.22569026  0.32747006 -0.6899932   0.75420225\n",
      " -0.24857314 -1.0920639   0.          1.3749921  -0.6536742   0.9303491\n",
      "  1.1074361   1.1389043  -1.5781983  -1.0469854   0.          0.65792954\n",
      " -0.01045457 -0.04576717  3.1019614   1.35376     0.9795631   0.97807616\n",
      "  0.92000484  0.72165745  0.98875093  0.87667835], shape=(28,), dtype=float32)\n"
     ]
    },
    {
     "data": {
      "text/plain": "<Figure size 432x288 with 1 Axes>",
      "image/png": "[encoded data removed]"
     },
     "metadata": {
      "needs_background": "light"
     },
     "output_type": "display_data"
    }
   ],
   "source": [
    "for features,label in packed_ds.batch(1000).take(1):\n",
    "  print(features[0])\n",
    "  plt.hist(features.numpy().flatten(), bins = 101)"
   ],
   "metadata": {
    "collapsed": false,
    "pycharm": {
     "name": "#%%\n"
    }
   }
  },
  {
   "cell_type": "code",
   "execution_count": 26,
   "outputs": [
    {
     "name": "stdout",
     "output_type": "stream",
     "text": [
      "<MapDataset shapes: ((None, 28), (None,)), types: (tf.float32, tf.float32)>\n",
      "<_UnbatchDataset shapes: ((28,), ()), types: (tf.float32, tf.float32)>\n"
     ]
    }
   ],
   "source": [
    "print(ds.batch(10000).map(pack_row))\n",
    "print(packed_ds)"
   ],
   "metadata": {
    "collapsed": false,
    "pycharm": {
     "name": "#%%\n"
    }
   }
  },
  {
   "cell_type": "code",
   "execution_count": 27,
   "outputs": [
    {
     "name": "stdout",
     "output_type": "stream",
     "text": [
      "/root/.keras/datasets/HIGGS.csv.gz\n",
      "<CsvDatasetV2 shapes: ((), (), (), (), (), (), (), (), (), (), (), (), (), (), (), (), (), (), (), (), (), (), (), (), (), (), (), (), ()), types: (tf.float32, tf.float32, tf.float32, tf.float32, tf.float32, tf.float32, tf.float32, tf.float32, tf.float32, tf.float32, tf.float32, tf.float32, tf.float32, tf.float32, tf.float32, tf.float32, tf.float32, tf.float32, tf.float32, tf.float32, tf.float32, tf.float32, tf.float32, tf.float32, tf.float32, tf.float32, tf.float32, tf.float32, tf.float32)>\n",
      "<class 'tuple'>\n",
      "29\n",
      "(<tf.Tensor: shape=(), dtype=float32, numpy=1.0>, <tf.Tensor: shape=(), dtype=float32, numpy=0.8692932>, <tf.Tensor: shape=(), dtype=float32, numpy=-0.6350818>, <tf.Tensor: shape=(), dtype=float32, numpy=0.22569026>, <tf.Tensor: shape=(), dtype=float32, numpy=0.32747006>, <tf.Tensor: shape=(), dtype=float32, numpy=-0.6899932>, <tf.Tensor: shape=(), dtype=float32, numpy=0.75420225>, <tf.Tensor: shape=(), dtype=float32, numpy=-0.24857314>, <tf.Tensor: shape=(), dtype=float32, numpy=-1.0920639>, <tf.Tensor: shape=(), dtype=float32, numpy=0.0>, <tf.Tensor: shape=(), dtype=float32, numpy=1.3749921>, <tf.Tensor: shape=(), dtype=float32, numpy=-0.6536742>, <tf.Tensor: shape=(), dtype=float32, numpy=0.9303491>, <tf.Tensor: shape=(), dtype=float32, numpy=1.1074361>, <tf.Tensor: shape=(), dtype=float32, numpy=1.1389043>, <tf.Tensor: shape=(), dtype=float32, numpy=-1.5781983>, <tf.Tensor: shape=(), dtype=float32, numpy=-1.0469854>, <tf.Tensor: shape=(), dtype=float32, numpy=0.0>, <tf.Tensor: shape=(), dtype=float32, numpy=0.65792954>, <tf.Tensor: shape=(), dtype=float32, numpy=-0.01045457>, <tf.Tensor: shape=(), dtype=float32, numpy=-0.04576717>, <tf.Tensor: shape=(), dtype=float32, numpy=3.1019614>, <tf.Tensor: shape=(), dtype=float32, numpy=1.35376>, <tf.Tensor: shape=(), dtype=float32, numpy=0.9795631>, <tf.Tensor: shape=(), dtype=float32, numpy=0.97807616>, <tf.Tensor: shape=(), dtype=float32, numpy=0.92000484>, <tf.Tensor: shape=(), dtype=float32, numpy=0.72165745>, <tf.Tensor: shape=(), dtype=float32, numpy=0.98875093>, <tf.Tensor: shape=(), dtype=float32, numpy=0.87667835>)\n",
      "<class 'tuple'>\n",
      "29\n",
      "(<tf.Tensor: shape=(2,), dtype=float32, numpy=array([1., 1.], dtype=float32)>, <tf.Tensor: shape=(2,), dtype=float32, numpy=array([0.8692932, 0.9075421], dtype=float32)>, <tf.Tensor: shape=(2,), dtype=float32, numpy=array([-0.6350818 ,  0.32914728], dtype=float32)>, <tf.Tensor: shape=(2,), dtype=float32, numpy=array([0.22569026, 0.35941187], dtype=float32)>, <tf.Tensor: shape=(2,), dtype=float32, numpy=array([0.32747006, 1.4979699 ], dtype=float32)>, <tf.Tensor: shape=(2,), dtype=float32, numpy=array([-0.6899932 , -0.31300953], dtype=float32)>, <tf.Tensor: shape=(2,), dtype=float32, numpy=array([0.75420225, 1.0955306 ], dtype=float32)>, <tf.Tensor: shape=(2,), dtype=float32, numpy=array([-0.24857314, -0.5575249 ], dtype=float32)>, <tf.Tensor: shape=(2,), dtype=float32, numpy=array([-1.0920639, -1.5882298], dtype=float32)>, <tf.Tensor: shape=(2,), dtype=float32, numpy=array([0.       , 2.1730762], dtype=float32)>, <tf.Tensor: shape=(2,), dtype=float32, numpy=array([1.3749921, 0.8125812], dtype=float32)>, <tf.Tensor: shape=(2,), dtype=float32, numpy=array([-0.6536742 , -0.21364193], dtype=float32)>, <tf.Tensor: shape=(2,), dtype=float32, numpy=array([0.9303491, 1.2710146], dtype=float32)>, <tf.Tensor: shape=(2,), dtype=float32, numpy=array([1.1074361, 2.2148721], dtype=float32)>, <tf.Tensor: shape=(2,), dtype=float32, numpy=array([1.1389043 , 0.49999395], dtype=float32)>, <tf.Tensor: shape=(2,), dtype=float32, numpy=array([-1.5781983, -1.2614318], dtype=float32)>, <tf.Tensor: shape=(2,), dtype=float32, numpy=array([-1.0469854 ,  0.73215616], dtype=float32)>, <tf.Tensor: shape=(2,), dtype=float32, numpy=array([0., 0.], dtype=float32)>, <tf.Tensor: shape=(2,), dtype=float32, numpy=array([0.65792954, 0.3987009 ], dtype=float32)>, <tf.Tensor: shape=(2,), dtype=float32, numpy=array([-0.01045457, -1.1389301 ], dtype=float32)>, <tf.Tensor: shape=(2,), dtype=float32, numpy=array([-0.04576717, -0.00081911], dtype=float32)>, <tf.Tensor: shape=(2,), dtype=float32, numpy=array([3.1019614, 0.       ], dtype=float32)>, <tf.Tensor: shape=(2,), dtype=float32, numpy=array([1.35376  , 0.3022199], dtype=float32)>, <tf.Tensor: shape=(2,), dtype=float32, numpy=array([0.9795631 , 0.83304816], dtype=float32)>, <tf.Tensor: shape=(2,), dtype=float32, numpy=array([0.97807616, 0.98569965], dtype=float32)>, <tf.Tensor: shape=(2,), dtype=float32, numpy=array([0.92000484, 0.9780984 ], dtype=float32)>, <tf.Tensor: shape=(2,), dtype=float32, numpy=array([0.72165745, 0.77973217], dtype=float32)>, <tf.Tensor: shape=(2,), dtype=float32, numpy=array([0.98875093, 0.99235576], dtype=float32)>, <tf.Tensor: shape=(2,), dtype=float32, numpy=array([0.87667835, 0.7983426 ], dtype=float32)>)\n"
     ]
    }
   ],
   "source": [
    "print(gz)\n",
    "print(ds)\n",
    "for row in ds.take(1):\n",
    "  print(type(row))\n",
    "  print(len(row))\n",
    "  print(row)\n",
    "\n",
    "for row in ds.batch(2).take(1):\n",
    "    print(type(row))\n",
    "    print(len(row))\n",
    "    print(row)"
   ],
   "metadata": {
    "collapsed": false,
    "pycharm": {
     "name": "#%%\n"
    }
   }
  },
  {
   "cell_type": "code",
   "execution_count": 28,
   "outputs": [],
   "source": [
    "N_VALIDATION = int(1e3)\n",
    "N_TRAIN = int(1e4)\n",
    "BUFFER_SIZE = int(1e4)\n",
    "BATCH_SIZE = 500\n",
    "STEPS_PER_EPOCH = N_TRAIN//BATCH_SIZE"
   ],
   "metadata": {
    "collapsed": false,
    "pycharm": {
     "name": "#%%\n"
    }
   }
  },
  {
   "cell_type": "code",
   "execution_count": 29,
   "outputs": [],
   "source": [
    "validate_ds = packed_ds.take(N_VALIDATION).cache()\n",
    "train_ds = packed_ds.skip(N_VALIDATION).take(N_TRAIN).cache()"
   ],
   "metadata": {
    "collapsed": false,
    "pycharm": {
     "name": "#%%\n"
    }
   }
  },
  {
   "cell_type": "code",
   "execution_count": 30,
   "outputs": [
    {
     "data": {
      "text/plain": "<CacheDataset shapes: ((28,), ()), types: (tf.float32, tf.float32)>"
     },
     "execution_count": 30,
     "metadata": {},
     "output_type": "execute_result"
    }
   ],
   "source": [
    "train_ds"
   ],
   "metadata": {
    "collapsed": false,
    "pycharm": {
     "name": "#%%\n"
    }
   }
  },
  {
   "cell_type": "code",
   "execution_count": 31,
   "outputs": [],
   "source": [
    "validate_ds = validate_ds.batch(BATCH_SIZE)\n",
    "# train_ds = train_ds.shuffle(BUFFER_SIZE).repeat().batch(BATCH_SIZE)\n",
    "train_ds = train_ds.repeat().batch(BATCH_SIZE)"
   ],
   "metadata": {
    "collapsed": false,
    "pycharm": {
     "name": "#%%\n"
    }
   }
  },
  {
   "cell_type": "code",
   "execution_count": 34,
   "outputs": [
    {
     "data": {
      "text/plain": "<Figure size 576x432 with 1 Axes>",
      "image/png": "[encoded data removed]"
     },
     "metadata": {
      "needs_background": "light"
     },
     "output_type": "display_data"
    }
   ],
   "source": [
    "\n",
    "lr_schedule = tf.keras.optimizers.schedules.InverseTimeDecay(\n",
    "  0.001,\n",
    "  decay_steps=STEPS_PER_EPOCH*1000,\n",
    "  decay_rate=1,\n",
    "  staircase=False)\n",
    "\n",
    "def get_optimizer():\n",
    "  return tf.keras.optimizers.Adam(lr_schedule)\n",
    "\n",
    "step = np.linspace(0,100000)\n",
    "lr = lr_schedule(step)\n",
    "plt.figure(figsize = (8,6))\n",
    "plt.plot(step/STEPS_PER_EPOCH, lr)\n",
    "plt.ylim([0,max(plt.ylim())])\n",
    "plt.xlabel('Epoch')\n",
    "_ = plt.ylabel('Learning Rate')\n"
   ],
   "metadata": {
    "collapsed": false,
    "pycharm": {
     "name": "#%%\n"
    }
   }
  },
  {
   "cell_type": "code",
   "execution_count": 35,
   "outputs": [],
   "source": [
    "def get_callbacks(name):\n",
    "  return [\n",
    "    tfdocs.modeling.EpochDots(),\n",
    "    # tf.keras.callbacks.EarlyStopping(monitor='val_binary_crossentropy', patience=200),\n",
    "    tf.keras.callbacks.EarlyStopping(monitor='val_loss1', patience=200),\n",
    "    # 教程上说这地方要用val_binary_crossentropy不能用val_loss，但实测发现，这俩其实没区别\n",
    "    # val_loss的值就等于crossentropy啊\n",
    "    # tf.keras.callbacks.EarlyStopping(monitor='val_loss', patience=200),\n",
    "    tf.keras.callbacks.TensorBoard(logdir/name),\n",
    "  ]"
   ],
   "metadata": {
    "collapsed": false,
    "pycharm": {
     "name": "#%%\n"
    }
   }
  },
  {
   "cell_type": "code",
   "execution_count": 36,
   "outputs": [],
   "source": [
    "def compile_and_fit(model, name, optimizer=None, max_epochs=10000):\n",
    "  if optimizer is None:\n",
    "    optimizer = get_optimizer()\n",
    "  model.compile(optimizer=optimizer,\n",
    "                loss=tf.keras.losses.BinaryCrossentropy(from_logits=True),\n",
    "                metrics=[\n",
    "                  tf.keras.losses.BinaryCrossentropy(\n",
    "                      from_logits=True, name='binary_crossentropy'),\n",
    "                  tf.keras.losses.BinaryCrossentropy(\n",
    "                      from_logits=True, name='loss1'),\n",
    "                  'accuracy'])\n",
    "\n",
    "  model.summary()\n",
    "\n",
    "  history = model.fit(\n",
    "    train_ds,\n",
    "    steps_per_epoch = STEPS_PER_EPOCH,\n",
    "    epochs=max_epochs,\n",
    "    validation_data=validate_ds,\n",
    "    callbacks=get_callbacks(name),\n",
    "    verbose=0)\n",
    "  return history"
   ],
   "metadata": {
    "collapsed": false,
    "pycharm": {
     "name": "#%%\n"
    }
   }
  },
  {
   "cell_type": "code",
   "execution_count": 37,
   "outputs": [],
   "source": [
    "size_histories = {}"
   ],
   "metadata": {
    "collapsed": false,
    "pycharm": {
     "name": "#%%\n"
    }
   }
  },
  {
   "cell_type": "code",
   "execution_count": 38,
   "outputs": [
    {
     "name": "stdout",
     "output_type": "stream",
     "text": [
      "Model: \"sequential_1\"\n",
      "_________________________________________________________________\n",
      "Layer (type)                 Output Shape              Param #   \n",
      "=================================================================\n",
      "dense_2 (Dense)              (None, 16)                464       \n",
      "_________________________________________________________________\n",
      "dense_3 (Dense)              (None, 1)                 17        \n",
      "=================================================================\n",
      "Total params: 481\n",
      "Trainable params: 481\n",
      "Non-trainable params: 0\n",
      "_________________________________________________________________\n",
      "WARNING:tensorflow:Callbacks method `on_train_batch_end` is slow compared to the batch time (batch time: 0.0031s vs `on_train_batch_end` time: 0.0535s). Check your callbacks.\n",
      "\n",
      "Epoch: 0, accuracy:0.4995,  binary_crossentropy:0.7996,  loss:0.7996,  loss1:0.7996,  val_accuracy:0.4820,  val_binary_crossentropy:0.7338,  val_loss:0.7338,  val_loss1:0.7338,  \n",
      "....................................................................................................\n",
      "Epoch: 100, accuracy:0.5923,  binary_crossentropy:0.6300,  loss:0.6300,  loss1:0.6300,  val_accuracy:0.5900,  val_binary_crossentropy:0.6303,  val_loss:0.6303,  val_loss1:0.6303,  \n",
      "....................................................................................................\n",
      "Epoch: 200, accuracy:0.6060,  binary_crossentropy:0.6201,  loss:0.6201,  loss1:0.6201,  val_accuracy:0.6090,  val_binary_crossentropy:0.6198,  val_loss:0.6198,  val_loss1:0.6198,  \n",
      "....................................................................................................\n",
      "Epoch: 300, accuracy:0.6172,  binary_crossentropy:0.6138,  loss:0.6138,  loss1:0.6138,  val_accuracy:0.6160,  val_binary_crossentropy:0.6143,  val_loss:0.6143,  val_loss1:0.6143,  \n",
      "....................................................................................................\n",
      "Epoch: 400, accuracy:0.6264,  binary_crossentropy:0.6084,  loss:0.6084,  loss1:0.6084,  val_accuracy:0.6290,  val_binary_crossentropy:0.6108,  val_loss:0.6108,  val_loss1:0.6108,  \n",
      "....................................................................................................\n",
      "Epoch: 500, accuracy:0.6395,  binary_crossentropy:0.6033,  loss:0.6033,  loss1:0.6033,  val_accuracy:0.6300,  val_binary_crossentropy:0.6075,  val_loss:0.6075,  val_loss1:0.6075,  \n",
      "....................................................................................................\n",
      "Epoch: 600, accuracy:0.6452,  binary_crossentropy:0.5988,  loss:0.5988,  loss1:0.5988,  val_accuracy:0.6350,  val_binary_crossentropy:0.6043,  val_loss:0.6043,  val_loss1:0.6043,  \n",
      "....................................................................................................\n",
      "Epoch: 700, accuracy:0.6536,  binary_crossentropy:0.5949,  loss:0.5949,  loss1:0.5949,  val_accuracy:0.6360,  val_binary_crossentropy:0.6016,  val_loss:0.6016,  val_loss1:0.6016,  \n",
      "....................................................................................................\n",
      "Epoch: 800, accuracy:0.6572,  binary_crossentropy:0.5918,  loss:0.5918,  loss1:0.5918,  val_accuracy:0.6420,  val_binary_crossentropy:0.5998,  val_loss:0.5998,  val_loss1:0.5998,  \n",
      "....................................................................................................\n",
      "Epoch: 900, accuracy:0.6588,  binary_crossentropy:0.5892,  loss:0.5892,  loss1:0.5892,  val_accuracy:0.6510,  val_binary_crossentropy:0.5983,  val_loss:0.5983,  val_loss1:0.5983,  \n",
      "....................................................................................................\n",
      "Epoch: 1000, accuracy:0.6631,  binary_crossentropy:0.5871,  loss:0.5871,  loss1:0.5871,  val_accuracy:0.6520,  val_binary_crossentropy:0.5972,  val_loss:0.5972,  val_loss1:0.5972,  \n",
      "....................................................................................................\n",
      "Epoch: 1100, accuracy:0.6655,  binary_crossentropy:0.5853,  loss:0.5853,  loss1:0.5853,  val_accuracy:0.6570,  val_binary_crossentropy:0.5962,  val_loss:0.5962,  val_loss1:0.5962,  \n",
      "....................................................................................................\n",
      "Epoch: 1200, accuracy:0.6658,  binary_crossentropy:0.5838,  loss:0.5838,  loss1:0.5838,  val_accuracy:0.6580,  val_binary_crossentropy:0.5955,  val_loss:0.5955,  val_loss1:0.5955,  \n",
      "....................................................................................................\n",
      "Epoch: 1300, accuracy:0.6674,  binary_crossentropy:0.5825,  loss:0.5825,  loss1:0.5825,  val_accuracy:0.6590,  val_binary_crossentropy:0.5950,  val_loss:0.5950,  val_loss1:0.5950,  \n",
      "....................................................................................................\n",
      "Epoch: 1400, accuracy:0.6673,  binary_crossentropy:0.5814,  loss:0.5814,  loss1:0.5814,  val_accuracy:0.6620,  val_binary_crossentropy:0.5947,  val_loss:0.5947,  val_loss1:0.5947,  \n",
      "....................................................................................................\n",
      "Epoch: 1500, accuracy:0.6684,  binary_crossentropy:0.5804,  loss:0.5804,  loss1:0.5804,  val_accuracy:0.6650,  val_binary_crossentropy:0.5943,  val_loss:0.5943,  val_loss1:0.5943,  \n",
      "....................................................................................................\n",
      "Epoch: 1600, accuracy:0.6693,  binary_crossentropy:0.5795,  loss:0.5795,  loss1:0.5795,  val_accuracy:0.6680,  val_binary_crossentropy:0.5940,  val_loss:0.5940,  val_loss1:0.5940,  \n",
      "....................................................................................................\n",
      "Epoch: 1700, accuracy:0.6700,  binary_crossentropy:0.5788,  loss:0.5788,  loss1:0.5788,  val_accuracy:0.6670,  val_binary_crossentropy:0.5938,  val_loss:0.5938,  val_loss1:0.5938,  \n",
      "....................................................................................................\n",
      "Epoch: 1800, accuracy:0.6703,  binary_crossentropy:0.5781,  loss:0.5781,  loss1:0.5781,  val_accuracy:0.6640,  val_binary_crossentropy:0.5936,  val_loss:0.5936,  val_loss1:0.5936,  \n",
      "....................................................................................................\n",
      "Epoch: 1900, accuracy:0.6720,  binary_crossentropy:0.5775,  loss:0.5775,  loss1:0.5775,  val_accuracy:0.6670,  val_binary_crossentropy:0.5934,  val_loss:0.5934,  val_loss1:0.5934,  \n",
      "....................................................................................................\n",
      "Epoch: 2000, accuracy:0.6723,  binary_crossentropy:0.5769,  loss:0.5769,  loss1:0.5769,  val_accuracy:0.6670,  val_binary_crossentropy:0.5933,  val_loss:0.5933,  val_loss1:0.5933,  \n",
      "....................................................................................................\n",
      "Epoch: 2100, accuracy:0.6728,  binary_crossentropy:0.5764,  loss:0.5764,  loss1:0.5764,  val_accuracy:0.6650,  val_binary_crossentropy:0.5932,  val_loss:0.5932,  val_loss1:0.5932,  \n",
      "....................................................................................................\n",
      "Epoch: 2200, accuracy:0.6734,  binary_crossentropy:0.5759,  loss:0.5759,  loss1:0.5759,  val_accuracy:0.6670,  val_binary_crossentropy:0.5931,  val_loss:0.5931,  val_loss1:0.5931,  \n",
      "....................................................................................................\n",
      "Epoch: 2300, accuracy:0.6735,  binary_crossentropy:0.5755,  loss:0.5755,  loss1:0.5755,  val_accuracy:0.6670,  val_binary_crossentropy:0.5930,  val_loss:0.5930,  val_loss1:0.5930,  \n",
      "....................................................................................................\n",
      "Epoch: 2400, accuracy:0.6734,  binary_crossentropy:0.5750,  loss:0.5750,  loss1:0.5750,  val_accuracy:0.6670,  val_binary_crossentropy:0.5929,  val_loss:0.5929,  val_loss1:0.5929,  \n",
      "....................................................................................................\n",
      "Epoch: 2500, accuracy:0.6729,  binary_crossentropy:0.5746,  loss:0.5746,  loss1:0.5746,  val_accuracy:0.6660,  val_binary_crossentropy:0.5928,  val_loss:0.5928,  val_loss1:0.5928,  \n",
      "....................................................................................................\n",
      "Epoch: 2600, accuracy:0.6735,  binary_crossentropy:0.5742,  loss:0.5742,  loss1:0.5742,  val_accuracy:0.6660,  val_binary_crossentropy:0.5927,  val_loss:0.5927,  val_loss1:0.5927,  \n",
      "....................................................................................................\n",
      "Epoch: 2700, accuracy:0.6743,  binary_crossentropy:0.5738,  loss:0.5738,  loss1:0.5738,  val_accuracy:0.6680,  val_binary_crossentropy:0.5926,  val_loss:0.5926,  val_loss1:0.5926,  \n",
      "....................................................................................................\n",
      "Epoch: 2800, accuracy:0.6754,  binary_crossentropy:0.5734,  loss:0.5734,  loss1:0.5734,  val_accuracy:0.6670,  val_binary_crossentropy:0.5926,  val_loss:0.5926,  val_loss1:0.5926,  \n",
      "....................................................................................................\n",
      "Epoch: 2900, accuracy:0.6758,  binary_crossentropy:0.5730,  loss:0.5730,  loss1:0.5730,  val_accuracy:0.6650,  val_binary_crossentropy:0.5925,  val_loss:0.5925,  val_loss1:0.5925,  \n",
      "....................................................................................................\n",
      "Epoch: 3000, accuracy:0.6760,  binary_crossentropy:0.5727,  loss:0.5727,  loss1:0.5727,  val_accuracy:0.6660,  val_binary_crossentropy:0.5924,  val_loss:0.5924,  val_loss1:0.5924,  \n",
      "....................................................................................................\n",
      "Epoch: 3100, accuracy:0.6774,  binary_crossentropy:0.5723,  loss:0.5723,  loss1:0.5723,  val_accuracy:0.6660,  val_binary_crossentropy:0.5924,  val_loss:0.5924,  val_loss1:0.5924,  \n",
      "....................................................................................................\n",
      "Epoch: 3200, accuracy:0.6777,  binary_crossentropy:0.5720,  loss:0.5720,  loss1:0.5720,  val_accuracy:0.6670,  val_binary_crossentropy:0.5923,  val_loss:0.5923,  val_loss1:0.5923,  \n",
      "....................................................................................................\n",
      "Epoch: 3300, accuracy:0.6783,  binary_crossentropy:0.5717,  loss:0.5717,  loss1:0.5717,  val_accuracy:0.6670,  val_binary_crossentropy:0.5923,  val_loss:0.5923,  val_loss1:0.5923,  \n",
      "....................................................................................................\n",
      "Epoch: 3400, accuracy:0.6785,  binary_crossentropy:0.5713,  loss:0.5713,  loss1:0.5713,  val_accuracy:0.6650,  val_binary_crossentropy:0.5923,  val_loss:0.5923,  val_loss1:0.5923,  \n",
      "............................................................................................"
     ]
    }
   ],
   "source": [
    "tiny_model = tf.keras.Sequential([\n",
    "    layers.Dense(16, activation='elu', input_shape=(FEATURES,)),\n",
    "    layers.Dense(1)\n",
    "])\n",
    "\n",
    "size_histories['Tiny'] = compile_and_fit(tiny_model, 'sizes/Tiny')\n"
   ],
   "metadata": {
    "collapsed": false,
    "pycharm": {
     "name": "#%%\n"
    }
   }
  },
  {
   "cell_type": "code",
   "execution_count": 66,
   "outputs": [
    {
     "data": {
      "text/plain": "(0.5, 0.7)"
     },
     "execution_count": 66,
     "metadata": {},
     "output_type": "execute_result"
    },
    {
     "data": {
      "text/plain": "<Figure size 432x288 with 1 Axes>",
      "image/png": "[encoded data removed]"
     },
     "metadata": {
      "needs_background": "light"
     },
     "output_type": "display_data"
    }
   ],
   "source": [
    "plotter = tfdocs.plots.HistoryPlotter(metric = 'binary_crossentropy', smoothing_std=10)\n",
    "plotter.plot(size_histories)\n",
    "plt.ylim([0.5, 0.7])"
   ],
   "metadata": {
    "collapsed": false,
    "pycharm": {
     "name": "#%%\n"
    }
   }
  },
  {
   "cell_type": "code",
   "execution_count": 39,
   "outputs": [
    {
     "data": {
      "text/plain": "(0.5, 0.7)"
     },
     "execution_count": 39,
     "metadata": {},
     "output_type": "execute_result"
    },
    {
     "data": {
      "text/plain": "<Figure size 432x288 with 1 Axes>",
      "image/png": "[encoded data removed]"
     },
     "metadata": {
      "needs_background": "light"
     },
     "output_type": "display_data"
    }
   ],
   "source": [
    "plotter = tfdocs.plots.HistoryPlotter(metric = 'binary_crossentropy', smoothing_std=10)\n",
    "plotter.plot(size_histories)\n",
    "plt.ylim([0.5, 0.7])"
   ],
   "metadata": {
    "collapsed": false,
    "pycharm": {
     "name": "#%%\n"
    }
   }
  },
  {
   "cell_type": "code",
   "execution_count": 22,
   "outputs": [],
   "source": [
    "regularizer_histories = {}\n",
    "regularizer_histories['Tiny'] = size_histories['Tiny']"
   ],
   "metadata": {
    "collapsed": false,
    "pycharm": {
     "name": "#%%\n"
    }
   }
  },
  {
   "cell_type": "code",
   "execution_count": null,
   "outputs": [
    {
     "name": "stdout",
     "output_type": "stream",
     "text": [
      "Model: \"sequential_1\"\n",
      "_________________________________________________________________\n",
      "Layer (type)                 Output Shape              Param #   \n",
      "=================================================================\n",
      "dense_2 (Dense)              (None, 512)               14848     \n",
      "_________________________________________________________________\n",
      "dense_3 (Dense)              (None, 512)               262656    \n",
      "_________________________________________________________________\n",
      "dense_4 (Dense)              (None, 512)               262656    \n",
      "_________________________________________________________________\n",
      "dense_5 (Dense)              (None, 512)               262656    \n",
      "_________________________________________________________________\n",
      "dense_6 (Dense)              (None, 1)                 513       \n",
      "=================================================================\n",
      "Total params: 803,329\n",
      "Trainable params: 803,329\n",
      "Non-trainable params: 0\n",
      "_________________________________________________________________\n",
      "WARNING:tensorflow:Callbacks method `on_train_batch_end` is slow compared to the batch time (batch time: 0.0171s vs `on_train_batch_end` time: 0.0457s). Check your callbacks.\n",
      "\n",
      "Epoch: 0, accuracy:0.5089,  binary_crossentropy:0.8224,  loss:2.3507,  val_accuracy:0.4870,  val_binary_crossentropy:0.6782,  val_loss:2.1320,  \n",
      "....................................................................................................\n",
      "Epoch: 100, accuracy:0.6594,  binary_crossentropy:0.5946,  loss:0.6183,  val_accuracy:0.6690,  val_binary_crossentropy:0.5836,  val_loss:0.6073,  \n",
      ".........................................................."
     ]
    }
   ],
   "source": [
    "l2_model = tf.keras.Sequential([\n",
    "    layers.Dense(512, activation='elu',\n",
    "                 kernel_regularizer=regularizers.l2(0.001),\n",
    "                 input_shape=(FEATURES,)),\n",
    "    layers.Dense(512, activation='elu',\n",
    "                 kernel_regularizer=regularizers.l2(0.001)),\n",
    "    layers.Dense(512, activation='elu',\n",
    "                 kernel_regularizer=regularizers.l2(0.001)),\n",
    "    layers.Dense(512, activation='elu',\n",
    "                 kernel_regularizer=regularizers.l2(0.001)),\n",
    "    layers.Dense(1)\n",
    "])\n",
    "\n",
    "regularizer_histories['l2'] = compile_and_fit(l2_model, \"regularizers/l2\")"
   ],
   "metadata": {
    "collapsed": false,
    "pycharm": {
     "name": "#%%\n",
     "is_executing": true
    }
   }
  },
  {
   "cell_type": "code",
   "execution_count": null,
   "outputs": [],
   "source": [
    "dropout_model = tf.keras.Sequential([\n",
    "    layers.Dense(512, activation='elu', input_shape=(FEATURES,)),# 这个input_shape的形状是(28,)，说明这是个28元素的一维列表\n",
    "    layers.Dropout(0.5),\n",
    "    layers.Dense(512, activation='elu'),\n",
    "    layers.Dropout(0.5),\n",
    "    layers.Dense(512, activation='elu'),\n",
    "    layers.Dropout(0.5),\n",
    "    layers.Dense(512, activation='elu'),\n",
    "    layers.Dropout(0.5),\n",
    "    layers.Dense(1)\n",
    "])\n",
    "\n",
    "regularizer_histories['dropout'] = compile_and_fit(dropout_model, \"regularizers/dropout\")"
   ],
   "metadata": {
    "collapsed": false,
    "pycharm": {
     "name": "#%%\n",
     "is_executing": true
    }
   }
  },
  {
   "cell_type": "code",
   "execution_count": null,
   "outputs": [],
   "source": [
    "\n"
   ],
   "metadata": {
    "collapsed": false,
    "pycharm": {
     "name": "#%%\n"
    }
   }
  }
 ],
 "metadata": {
  "kernelspec": {
   "display_name": "Python 3",
   "language": "python",
   "name": "python3"
  },
  "language_info": {
   "codemirror_mode": {
    "name": "ipython",
    "version": 2
   },
   "file_extension": ".py",
   "mimetype": "text/x-python",
   "name": "python",
   "nbconvert_exporter": "python",
   "pygments_lexer": "ipython2",
   "version": "2.7.6"
  }
 },
 "nbformat": 4,
 "nbformat_minor": 0
}