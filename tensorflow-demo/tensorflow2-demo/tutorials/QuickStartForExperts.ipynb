{
 "cells": [
  {
   "cell_type": "code",
   "execution_count": 2,
   "metadata": {
    "collapsed": true
   },
   "outputs": [],
   "source": [
    "import tensorflow as tf\n",
    "from tensorflow.keras.layers import Dense,Flatten,Conv2D\n",
    "from tensorflow.keras import Model\n",
    "\n",
    "mnist=tf.keras.datasets.mnist\n",
    "(x_train, y_train), (x_test, y_test) = mnist.load_data()\n",
    "x_train, x_test = x_train / 255.0, x_test / 255.0\n"
   ]
  },
  {
   "cell_type": "code",
   "execution_count": 3,
   "outputs": [],
   "source": [
    "x_train=x_train[...,tf.newaxis].astype(\"float32\")\n",
    "x_test=x_test[...,tf.newaxis].astype(\"float32\")\n",
    "# 原本是n*28*28，在最后加了一个轴，相当于给每一个数加了一个括号，即变成了n*28*28*1"
   ],
   "metadata": {
    "collapsed": false,
    "pycharm": {
     "name": "#%%\n"
    }
   }
  },
  {
   "cell_type": "code",
   "execution_count": 4,
   "outputs": [],
   "source": [
    "train_ds=tf.data.Dataset.from_tensor_slices(\n",
    "    (x_train,y_train)).shuffle(10000).batch(32)\n",
    "\n",
    "test_ds=tf.data.Dataset.from_tensor_slices(\n",
    "    (x_test,y_test)).shuffle(10000).batch(32)"
   ],
   "metadata": {
    "collapsed": false,
    "pycharm": {
     "name": "#%%\n"
    }
   }
  },
  {
   "cell_type": "code",
   "execution_count": 5,
   "outputs": [],
   "source": [
    "class MyModel(Model):\n",
    "    def __init__(self):\n",
    "        super(MyModel,self).__init__()\n",
    "        self.conv1=Conv2D(32,3,activation='relu')\n",
    "        self.flatten=Flatten()\n",
    "        self.d1=Dense(128,activation='relu')\n",
    "        self.d2=Dense(10)\n",
    "\n",
    "    def call(self,x):\n",
    "        x=self.conv1(x)\n",
    "        x=self.flatten(x)\n",
    "        x=self.d1(x)\n",
    "        return self.d2(x)\n",
    "\n",
    "model=MyModel()\n",
    "loss_object=tf.keras.losses.SparseCategoricalCrossentropy(from_logits=True)\n",
    "optimizer=tf.keras.optimizers.Adam()"
   ],
   "metadata": {
    "collapsed": false,
    "pycharm": {
     "name": "#%%\n"
    }
   }
  },
  {
   "cell_type": "code",
   "execution_count": 6,
   "outputs": [],
   "source": [
    "train_loss=tf.keras.metrics.Mean(name='train_loss')\n",
    "train_accuracy=tf.keras.metrics.SparseCategoricalAccuracy(name=\"train_accuracy\")\n",
    "test_loss = tf.keras.metrics.Mean(name='test_loss')\n",
    "test_accuracy = tf.keras.metrics.SparseCategoricalAccuracy(name='test_accuracy')"
   ],
   "metadata": {
    "collapsed": false,
    "pycharm": {
     "name": "#%%\n"
    }
   }
  },
  {
   "cell_type": "code",
   "execution_count": 7,
   "outputs": [],
   "source": [
    "@tf.function\n",
    "def train_step(images,labels):\n",
    "    with tf.GradientTape() as tape:\n",
    "        predictions=model(images,training=True)\n",
    "        loss=loss_object(labels,predictions) #计算出损失\n",
    "    gradients = tape.gradient(loss, model.trainable_variables)#根据损失计算导数\n",
    "    optimizer.apply_gradients(zip(gradients, model.trainable_variables))#根据导数以及优化方案，将导数与变量绑定在一起然后进行梯度下降\n",
    "    #这样设计不错奥\n",
    "    train_loss(loss)\n",
    "    train_accuracy(labels,predictions)\n",
    "\n",
    "@tf.function #将这个方法改造为graph中的一个op\n",
    "def test_step(images,labels):\n",
    "    predictions=model(images,training=False)\n",
    "    t_loss=loss_object(labels,predictions)\n",
    "    test_loss(t_loss)\n",
    "    test_accuracy(labels,predictions)"
   ],
   "metadata": {
    "collapsed": false,
    "pycharm": {
     "name": "#%%\n"
    }
   }
  },
  {
   "cell_type": "code",
   "execution_count": 8,
   "outputs": [
    {
     "name": "stdout",
     "output_type": "stream",
     "text": [
      "Epoch 1, Loss: 0.14318040013313293, Accuracy: 95.71499633789062, Test Loss: 0.05952138453722, Test Accuracy: 98.02999877929688\n",
      "Epoch 2, Loss: 0.042943283915519714, Accuracy: 98.66166687011719, Test Loss: 0.05447855219244957, Test Accuracy: 98.20999908447266\n",
      "Epoch 3, Loss: 0.02336840145289898, Accuracy: 99.26666259765625, Test Loss: 0.054638300091028214, Test Accuracy: 98.40999603271484\n",
      "Epoch 4, Loss: 0.014808130450546741, Accuracy: 99.49166870117188, Test Loss: 0.05886276438832283, Test Accuracy: 98.47000122070312\n",
      "Epoch 5, Loss: 0.009999511763453484, Accuracy: 99.66666412353516, Test Loss: 0.06575784832239151, Test Accuracy: 98.29000091552734\n"
     ]
    }
   ],
   "source": [
    "EPOCHS=5\n",
    "for epoch in range(EPOCHS):\n",
    "    train_loss.reset_states()\n",
    "    train_accuracy.reset_states()\n",
    "    test_loss.reset_states()\n",
    "    test_accuracy.reset_states()\n",
    "\n",
    "    for images,labels in train_ds:\n",
    "        train_step(images,labels)\n",
    "\n",
    "    for test_images,test_labels in test_ds:\n",
    "        test_step(test_images,test_labels)\n",
    "\n",
    "    template = 'Epoch {}, Loss: {}, Accuracy: {}, Test Loss: {}, Test Accuracy: {}'\n",
    "    print(template.format(epoch + 1,\n",
    "                        train_loss.result(),\n",
    "                        train_accuracy.result() * 100,\n",
    "                        test_loss.result(),\n",
    "                        test_accuracy.result() * 100))\n",
    "\n",
    "# 从上面的例子可以看出，model的__call__函数与各个layer的__call__函数对输入的要求相同\n",
    "# 都得是具体的一些样本，形如[sample_num,feature_num]这类的\n",
    "# 而不能是一个dataset\n",
    "\n"
   ],
   "metadata": {
    "collapsed": false,
    "pycharm": {
     "name": "#%%\n"
    }
   }
  },
  {
   "cell_type": "code",
   "execution_count": null,
   "outputs": [],
   "source": [
    "\n"
   ],
   "metadata": {
    "collapsed": false,
    "pycharm": {
     "name": "#%%\n"
    }
   }
  }
 ],
 "metadata": {
  "kernelspec": {
   "display_name": "Python 3",
   "language": "python",
   "name": "python3"
  },
  "language_info": {
   "codemirror_mode": {
    "name": "ipython",
    "version": 2
   },
   "file_extension": ".py",
   "mimetype": "text/x-python",
   "name": "python",
   "nbconvert_exporter": "python",
   "pygments_lexer": "ipython2",
   "version": "2.7.6"
  }
 },
 "nbformat": 4,
 "nbformat_minor": 0
}