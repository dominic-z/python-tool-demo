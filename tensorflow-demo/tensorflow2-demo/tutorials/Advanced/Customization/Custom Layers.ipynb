{
 "cells": [
  {
   "cell_type": "code",
   "execution_count": 1,
   "metadata": {
    "collapsed": true
   },
   "outputs": [
    {
     "name": "stdout",
     "output_type": "stream",
     "text": [
      "WARNING:tensorflow:From <ipython-input-1-c446e37aee10>:2: is_gpu_available (from tensorflow.python.framework.test_util) is deprecated and will be removed in a future version.\n",
      "Instructions for updating:\n",
      "Use `tf.config.list_physical_devices('GPU')` instead.\n",
      "False\n"
     ]
    }
   ],
   "source": [
    "import tensorflow as tf\n",
    "print(tf.test.is_gpu_available())"
   ]
  },
  {
   "cell_type": "code",
   "execution_count": 2,
   "outputs": [],
   "source": [
    "# In the tf.keras.layers package, layers are objects. To construct a layer,\n",
    "# simply construct the object. Most layers take as a first argument the number\n",
    "# of output dimensions / channels.\n",
    "layer = tf.keras.layers.Dense(100)\n",
    "# The number of input dimensions is often unnecessary, as it can be inferred\n",
    "# the first time the layer is used, but it can be provided if you want to\n",
    "# specify it manually, which is useful in some complex models.\n",
    "layer = tf.keras.layers.Dense(10, input_shape=(None, 5))"
   ],
   "metadata": {
    "collapsed": false,
    "pycharm": {
     "name": "#%%\n"
    }
   }
  },
  {
   "cell_type": "code",
   "execution_count": 3,
   "outputs": [
    {
     "data": {
      "text/plain": "<tf.Tensor: shape=(10, 10), dtype=float32, numpy=\narray([[0., 0., 0., 0., 0., 0., 0., 0., 0., 0.],\n       [0., 0., 0., 0., 0., 0., 0., 0., 0., 0.],\n       [0., 0., 0., 0., 0., 0., 0., 0., 0., 0.],\n       [0., 0., 0., 0., 0., 0., 0., 0., 0., 0.],\n       [0., 0., 0., 0., 0., 0., 0., 0., 0., 0.],\n       [0., 0., 0., 0., 0., 0., 0., 0., 0., 0.],\n       [0., 0., 0., 0., 0., 0., 0., 0., 0., 0.],\n       [0., 0., 0., 0., 0., 0., 0., 0., 0., 0.],\n       [0., 0., 0., 0., 0., 0., 0., 0., 0., 0.],\n       [0., 0., 0., 0., 0., 0., 0., 0., 0., 0.]], dtype=float32)>"
     },
     "execution_count": 3,
     "metadata": {},
     "output_type": "execute_result"
    }
   ],
   "source": [
    "# To use a layer, simply call it.\n",
    "layer(tf.zeros([10, 5]))"
   ],
   "metadata": {
    "collapsed": false,
    "pycharm": {
     "name": "#%%\n"
    }
   }
  },
  {
   "cell_type": "code",
   "execution_count": 4,
   "outputs": [
    {
     "data": {
      "text/plain": "[<tf.Variable 'dense_1/kernel:0' shape=(5, 10) dtype=float32, numpy=\n array([[-0.07820755, -0.35472423, -0.33291033, -0.12229198,  0.13671947,\n          0.04017973,  0.30425435, -0.17597681,  0.3455888 ,  0.28213495],\n        [-0.4871316 , -0.4500637 ,  0.5276838 ,  0.4304729 , -0.60655206,\n         -0.02040946, -0.39246994,  0.58272356,  0.01984656, -0.31247538],\n        [-0.07082051, -0.5907985 ,  0.20747393, -0.45610112, -0.17349648,\n         -0.55453146, -0.47197318,  0.556495  ,  0.06004244,  0.17278308],\n        [-0.32963955, -0.28614366,  0.57288104, -0.5853654 ,  0.1968996 ,\n         -0.21841267,  0.32983965, -0.5548594 , -0.6170287 ,  0.43566614],\n        [ 0.02472442, -0.0730257 , -0.24351996, -0.456232  ,  0.14912397,\n          0.29163253,  0.26199102,  0.14669615,  0.24232161, -0.6131984 ]],\n       dtype=float32)>,\n <tf.Variable 'dense_1/bias:0' shape=(10,) dtype=float32, numpy=array([0., 0., 0., 0., 0., 0., 0., 0., 0., 0.], dtype=float32)>]"
     },
     "execution_count": 4,
     "metadata": {},
     "output_type": "execute_result"
    }
   ],
   "source": [
    "# Layers have many useful methods. For example, you can inspect all variables\n",
    "# in a layer using `layer.variables` and trainable variables using\n",
    "# `layer.trainable_variables`. In this case a fully-connected layer\n",
    "# will have variables for weights and biases.\n",
    "layer.variables"
   ],
   "metadata": {
    "collapsed": false,
    "pycharm": {
     "name": "#%%\n"
    }
   }
  },
  {
   "cell_type": "code",
   "execution_count": 5,
   "outputs": [
    {
     "data": {
      "text/plain": "(<tf.Variable 'dense_1/kernel:0' shape=(5, 10) dtype=float32, numpy=\n array([[-0.07820755, -0.35472423, -0.33291033, -0.12229198,  0.13671947,\n          0.04017973,  0.30425435, -0.17597681,  0.3455888 ,  0.28213495],\n        [-0.4871316 , -0.4500637 ,  0.5276838 ,  0.4304729 , -0.60655206,\n         -0.02040946, -0.39246994,  0.58272356,  0.01984656, -0.31247538],\n        [-0.07082051, -0.5907985 ,  0.20747393, -0.45610112, -0.17349648,\n         -0.55453146, -0.47197318,  0.556495  ,  0.06004244,  0.17278308],\n        [-0.32963955, -0.28614366,  0.57288104, -0.5853654 ,  0.1968996 ,\n         -0.21841267,  0.32983965, -0.5548594 , -0.6170287 ,  0.43566614],\n        [ 0.02472442, -0.0730257 , -0.24351996, -0.456232  ,  0.14912397,\n          0.29163253,  0.26199102,  0.14669615,  0.24232161, -0.6131984 ]],\n       dtype=float32)>,\n <tf.Variable 'dense_1/bias:0' shape=(10,) dtype=float32, numpy=array([0., 0., 0., 0., 0., 0., 0., 0., 0., 0.], dtype=float32)>)"
     },
     "execution_count": 5,
     "metadata": {},
     "output_type": "execute_result"
    }
   ],
   "source": [
    "# The variables are also accessible through nice accessors\n",
    "layer.kernel, layer.bias"
   ],
   "metadata": {
    "collapsed": false,
    "pycharm": {
     "name": "#%%\n"
    }
   }
  },
  {
   "cell_type": "code",
   "execution_count": 7,
   "outputs": [],
   "source": [
    "class MyDenseLayer(tf.keras.layers.Layer):\n",
    "  def __init__(self, num_outputs):\n",
    "    super(MyDenseLayer, self).__init__()\n",
    "    self.num_outputs = num_outputs\n",
    "\n",
    "  def build(self, input_shape):\n",
    "    # build存在的好处在文档里说明过，可以在运行时实时计算形状\n",
    "    print(\"build\")\n",
    "    self.kernel = self.add_weight(\"kernel\",\n",
    "                                  shape=[int(input_shape[-1]),\n",
    "                                         self.num_outputs])\n",
    "\n",
    "  def call(self, input):\n",
    "    print(input)\n",
    "    return tf.matmul(input, self.kernel)\n",
    "\n",
    "layer = MyDenseLayer(10)"
   ],
   "metadata": {
    "collapsed": false,
    "pycharm": {
     "name": "#%%\n"
    }
   }
  },
  {
   "cell_type": "code",
   "execution_count": 8,
   "outputs": [
    {
     "name": "stdout",
     "output_type": "stream",
     "text": [
      "build\n",
      "tf.Tensor([0. 0. 0. 0. 0.], shape=(5,), dtype=float32)\n"
     ]
    }
   ],
   "source": [
    "_ = layer(tf.zeros([10, 5])) # Calling the layer `.builds` it.\n",
    "# 执行的是__call__方法，我猜这个方法里会执行build与call"
   ],
   "metadata": {
    "collapsed": false,
    "pycharm": {
     "name": "#%%\n"
    }
   }
  },
  {
   "cell_type": "code",
   "execution_count": 12,
   "outputs": [
    {
     "name": "stdout",
     "output_type": "stream",
     "text": [
      "[<tf.Tensor: shape=(), dtype=int32, numpy=0>, <tf.Tensor: shape=(), dtype=int32, numpy=1>, <tf.Tensor: shape=(), dtype=int32, numpy=2>]\n",
      "['my_layer_3/embedding_9/embeddings:0', 'my_layer_3/embedding_10/embeddings:0', 'my_layer_3/embedding_11/embeddings:0']\n"
     ]
    }
   ],
   "source": [
    "class MyLayer(tf.keras.layers.Layer):\n",
    "  def __init__(self):\n",
    "    super(MyLayer, self).__init__()\n",
    "\n",
    "  def build(self, input_shape):\n",
    "    self.embed_layer1=tf.keras.layers.Embedding(input_dim=11,output_dim=4)\n",
    "    self.embed_layer2=tf.keras.layers.Embedding(input_dim=11,output_dim=4)\n",
    "    self.embed_layer3=tf.keras.layers.Embedding(input_dim=11,output_dim=4)\n",
    "\n",
    "  def call(self,input):\n",
    "    print(input) # 这个input是eagerTensor\n",
    "    cate_id,shop_id,brand_id=input[0],input[1],input[2]\n",
    "    cate_emb=self.embed_layer1(cate_id)\n",
    "    shop_emb=self.embed_layer2(shop_id)\n",
    "    brand_emb=self.embed_layer3(brand_id)\n",
    "    return tf.concat((cate_emb,shop_emb,brand_emb),axis=0)\n",
    "\n",
    "layer = MyLayer()\n",
    "layer([0,1,2])\n",
    "print([var.name for var in layer.trainable_variables])"
   ],
   "metadata": {
    "collapsed": false,
    "pycharm": {
     "name": "#%%\n"
    }
   }
  },
  {
   "cell_type": "code",
   "execution_count": 8,
   "outputs": [
    {
     "name": "stdout",
     "output_type": "stream",
     "text": [
      "['my_dense_layer/kernel:0']\n"
     ]
    }
   ],
   "source": [
    "print([var.name for var in layer.trainable_variables])"
   ],
   "metadata": {
    "collapsed": false,
    "pycharm": {
     "name": "#%%\n"
    }
   }
  },
  {
   "cell_type": "code",
   "execution_count": 9,
   "outputs": [
    {
     "data": {
      "text/plain": "[<tf.Variable 'my_dense_layer/kernel:0' shape=(5, 10) dtype=float32, numpy=\n array([[-0.50721896, -0.47232395, -0.1973064 ,  0.6243182 , -0.52000153,\n         -0.33274007, -0.54664564, -0.24344924,  0.20886755,  0.52766436],\n        [-0.10194582, -0.26520237,  0.40553063, -0.1508505 , -0.2437858 ,\n          0.00684595, -0.43593943,  0.5112054 , -0.01449776,  0.62161833],\n        [ 0.2649358 , -0.39786154, -0.38311344, -0.61532545,  0.41653258,\n          0.37220067, -0.5659071 ,  0.40570682,  0.02277929,  0.1916483 ],\n        [ 0.6030242 ,  0.40876168,  0.43201512,  0.5830526 ,  0.3149292 ,\n         -0.4627903 ,  0.20632708,  0.36614305,  0.4345067 , -0.6315632 ],\n        [ 0.07500148, -0.23751885, -0.13329414,  0.43967134,  0.40748554,\n         -0.06890881,  0.47799903,  0.6097793 , -0.455846  , -0.25933594]],\n       dtype=float32)>]"
     },
     "execution_count": 9,
     "metadata": {},
     "output_type": "execute_result"
    }
   ],
   "source": [
    "layer.variables"
   ],
   "metadata": {
    "collapsed": false,
    "pycharm": {
     "name": "#%%\n"
    }
   }
  },
  {
   "cell_type": "code",
   "execution_count": 10,
   "outputs": [],
   "source": [
    "class ResnetIdentityBlock(tf.keras.Model):\n",
    "  def __init__(self, kernel_size, filters):\n",
    "    super(ResnetIdentityBlock, self).__init__(name='')\n",
    "    filters1, filters2, filters3 = filters\n",
    "\n",
    "    self.conv2a = tf.keras.layers.Conv2D(filters1, (1, 1))\n",
    "    self.bn2a = tf.keras.layers.BatchNormalization()\n",
    "\n",
    "    self.conv2b = tf.keras.layers.Conv2D(filters2, kernel_size, padding='same')\n",
    "    self.bn2b = tf.keras.layers.BatchNormalization()\n",
    "\n",
    "    self.conv2c = tf.keras.layers.Conv2D(filters3, (1, 1))\n",
    "    self.bn2c = tf.keras.layers.BatchNormalization()\n",
    "\n",
    "  def call(self, input_tensor, training=False):\n",
    "    x = self.conv2a(input_tensor)\n",
    "    x = self.bn2a(x, training=training)\n",
    "    x = tf.nn.relu(x)\n",
    "\n",
    "    x = self.conv2b(x)\n",
    "    x = self.bn2b(x, training=training)\n",
    "    x = tf.nn.relu(x)\n",
    "\n",
    "    x = self.conv2c(x)\n",
    "    x = self.bn2c(x, training=training)\n",
    "\n",
    "    x += input_tensor\n",
    "    return tf.nn.relu(x)\n",
    "\n",
    "\n",
    "block = ResnetIdentityBlock(1, [3, 2, 3])"
   ],
   "metadata": {
    "collapsed": false,
    "pycharm": {
     "name": "#%%\n"
    }
   }
  },
  {
   "cell_type": "code",
   "execution_count": 11,
   "outputs": [],
   "source": [
    "import numpy as np\n",
    "arr=np.reshape(np.arange(0,90),(3,2,5,3)).astype(np.float32)\n",
    "\n",
    "output=block.conv2a(arr)\n",
    "output=block.bn2a(output)"
   ],
   "metadata": {
    "collapsed": false,
    "pycharm": {
     "name": "#%%\n"
    }
   }
  },
  {
   "cell_type": "code",
   "execution_count": 12,
   "outputs": [
    {
     "data": {
      "text/plain": "<tf.Tensor: shape=(3, 2, 5, 3), dtype=float32, numpy=\narray([[[[1.89388788e+00, 8.08401406e-01, 6.63807020e-02],\n         [7.63102341e+00, 1.67405617e+00, 1.56192172e+00],\n         [1.33681583e+01, 2.53971076e+00, 3.05746269e+00],\n         [1.91052952e+01, 3.40536547e+00, 4.55300379e+00],\n         [2.48424301e+01, 4.27102041e+00, 6.04854488e+00]],\n\n        [[3.05795631e+01, 5.13667488e+00, 7.54408550e+00],\n         [3.63167000e+01, 6.00232983e+00, 9.03962612e+00],\n         [4.20538368e+01, 6.86798477e+00, 1.05351658e+01],\n         [4.77909698e+01, 7.73363924e+00, 1.20307083e+01],\n         [5.35281067e+01, 8.59929371e+00, 1.35262480e+01]]],\n\n\n       [[[5.92652397e+01, 9.46494770e+00, 1.50217905e+01],\n         [6.50023727e+01, 1.03306036e+01, 1.65173302e+01],\n         [7.07395096e+01, 1.11962585e+01, 1.80128708e+01],\n         [7.64766388e+01, 1.20619125e+01, 1.95084133e+01],\n         [8.22137909e+01, 1.29275675e+01, 2.10039558e+01]],\n\n        [[8.79509201e+01, 1.37932224e+01, 2.24994946e+01],\n         [9.36880569e+01, 1.46588774e+01, 2.39950371e+01],\n         [9.94251862e+01, 1.55245314e+01, 2.54905815e+01],\n         [1.05162323e+02, 1.63901863e+01, 2.69861202e+01],\n         [1.10899460e+02, 1.72558422e+01, 2.84816589e+01]]],\n\n\n       [[[1.16636589e+02, 1.81214962e+01, 2.99771996e+01],\n         [1.22373726e+02, 1.89871502e+01, 3.14727421e+01],\n         [1.28110870e+02, 1.98528042e+01, 3.29682846e+01],\n         [1.33847992e+02, 2.07184582e+01, 3.44638252e+01],\n         [1.39585129e+02, 2.15841141e+01, 3.59593658e+01]],\n\n        [[1.45322266e+02, 2.24497719e+01, 3.74549026e+01],\n         [1.51059418e+02, 2.33154240e+01, 3.89504509e+01],\n         [1.56796555e+02, 2.41810799e+01, 4.04459915e+01],\n         [1.62533691e+02, 2.50467358e+01, 4.19415207e+01],\n         [1.68270828e+02, 2.59123878e+01, 4.34370613e+01]]]],\n      dtype=float32)>"
     },
     "execution_count": 12,
     "metadata": {},
     "output_type": "execute_result"
    }
   ],
   "source": [
    "output"
   ],
   "metadata": {
    "collapsed": false,
    "pycharm": {
     "name": "#%%\n"
    }
   }
  },
  {
   "cell_type": "code",
   "execution_count": 13,
   "outputs": [
    {
     "data": {
      "text/plain": "[<tf.Variable 'batch_normalization_6/gamma:0' shape=(3,) dtype=float32, numpy=array([1., 1., 1.], dtype=float32)>,\n <tf.Variable 'batch_normalization_6/beta:0' shape=(3,) dtype=float32, numpy=array([0., 0., 0.], dtype=float32)>,\n <tf.Variable 'batch_normalization_6/moving_mean:0' shape=(3,) dtype=float32, numpy=array([0., 0., 0.], dtype=float32)>,\n <tf.Variable 'batch_normalization_6/moving_variance:0' shape=(3,) dtype=float32, numpy=array([1., 1., 1.], dtype=float32)>]"
     },
     "execution_count": 13,
     "metadata": {},
     "output_type": "execute_result"
    }
   ],
   "source": [
    "block.bn2a.weights"
   ],
   "metadata": {
    "collapsed": false,
    "pycharm": {
     "name": "#%%\n"
    }
   }
  },
  {
   "cell_type": "code",
   "execution_count": null,
   "outputs": [],
   "source": [
    "\n"
   ],
   "metadata": {
    "collapsed": false,
    "pycharm": {
     "name": "#%%\n"
    }
   }
  }
 ],
 "metadata": {
  "kernelspec": {
   "display_name": "Python 3",
   "language": "python",
   "name": "python3"
  },
  "language_info": {
   "codemirror_mode": {
    "name": "ipython",
    "version": 2
   },
   "file_extension": ".py",
   "mimetype": "text/x-python",
   "name": "python",
   "nbconvert_exporter": "python",
   "pygments_lexer": "ipython2",
   "version": "2.7.6"
  }
 },
 "nbformat": 4,
 "nbformat_minor": 0
}