{
 "cells": [
  {
   "cell_type": "code",
   "execution_count": 17,
   "metadata": {
    "collapsed": true
   },
   "outputs": [
    {
     "name": "stdout",
     "output_type": "stream",
     "text": [
      "when axis=2\n",
      "tf.Tensor(0.08612854, shape=(), dtype=float32)\n",
      "\n",
      " 手动计算axis=2\n",
      "0.08612854\n",
      "\n",
      "when axis=1\n",
      "tf.Tensor(4.509403e-05, shape=(), dtype=float32)\n",
      "\n",
      " 手动计算axis=1\n",
      "4.5094035e-05\n"
     ]
    }
   ],
   "source": [
    "# axis\n",
    "import numpy as np\n",
    "import tensorflow as tf\n",
    "\n",
    "inputs=np.arange(0,60).reshape([3,4,5]).astype(np.float32)\n",
    "res_axis2=tf.nn.softmax(inputs,axis=2)\n",
    "print(\"when axis=2\")\n",
    "print(res_axis2[0,1,2])\n",
    "\n",
    "print(\"\\n 手动计算axis=2\")\n",
    "res_calc=np.exp(inputs[0,1,2])/np.sum(list(map(np.exp,inputs[0,1,:])))\n",
    "print(res_calc)\n",
    "\n",
    "\n",
    "res_axis1=tf.nn.softmax(inputs,axis=1)\n",
    "print(\"\\nwhen axis=1\")\n",
    "print(res_axis1[0,1,2])\n",
    "\n",
    "print(\"\\n 手动计算axis=1\")\n",
    "res_calc=np.exp(inputs[0,1,2])/np.sum(list(map(np.exp,inputs[0,:,2])))\n",
    "print(res_calc)"
   ]
  },
  {
   "cell_type": "code",
   "execution_count": 14,
   "outputs": [
    {
     "data": {
      "text/plain": "<map at 0x7fd42ad5da90>"
     },
     "execution_count": 14,
     "metadata": {},
     "output_type": "execute_result"
    }
   ],
   "source": [
    "map(np.exp,inputs[0,0,:])"
   ],
   "metadata": {
    "collapsed": false,
    "pycharm": {
     "name": "#%%\n"
    }
   }
  },
  {
   "cell_type": "code",
   "execution_count": 12,
   "outputs": [
    {
     "data": {
      "text/plain": "0.03168492079612427"
     },
     "execution_count": 12,
     "metadata": {},
     "output_type": "execute_result"
    }
   ],
   "source": [
    "np.exp(1)/(np.exp(0)+np.exp(1)+np.exp(2)+np.exp(3)+np.exp(4))"
   ],
   "metadata": {
    "collapsed": false,
    "pycharm": {
     "name": "#%%\n"
    }
   }
  },
  {
   "cell_type": "code",
   "execution_count": null,
   "outputs": [],
   "source": [
    "\n"
   ],
   "metadata": {
    "collapsed": false,
    "pycharm": {
     "name": "#%%\n"
    }
   }
  }
 ],
 "metadata": {
  "kernelspec": {
   "display_name": "Python 3",
   "language": "python",
   "name": "python3"
  },
  "language_info": {
   "codemirror_mode": {
    "name": "ipython",
    "version": 2
   },
   "file_extension": ".py",
   "mimetype": "text/x-python",
   "name": "python",
   "nbconvert_exporter": "python",
   "pygments_lexer": "ipython2",
   "version": "2.7.6"
  }
 },
 "nbformat": 4,
 "nbformat_minor": 0
}