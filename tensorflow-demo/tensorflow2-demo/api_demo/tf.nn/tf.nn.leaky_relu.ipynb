{
 "cells": [
  {
   "cell_type": "code",
   "execution_count": 1,
   "metadata": {
    "collapsed": true
   },
   "outputs": [
    {
     "name": "stdout",
     "output_type": "stream",
     "text": [
      "tf.Tensor([ 1.  -0.2], shape=(2,), dtype=float32)\n"
     ]
    }
   ],
   "source": [
    "# 简单使用\n",
    "import numpy as np\n",
    "import tensorflow as tf\n",
    "\n",
    "input_arr=np.array([1,-1])\n",
    "res=tf.nn.leaky_relu(features=input_arr,alpha=0.2)\n",
    "print(res)"
   ]
  },
  {
   "cell_type": "code",
   "execution_count": 5,
   "outputs": [
    {
     "name": "stdout",
     "output_type": "stream",
     "text": [
      "tf.Tensor(\n",
      "[[ 1. ]\n",
      " [-0.3]], shape=(2, 1), dtype=float32)\n"
     ]
    }
   ],
   "source": [
    "# 集成dense\n",
    "import numpy as np\n",
    "import tensorflow as tf\n",
    "\n",
    "input_arr=np.array([[1],[-1]])\n",
    "dense_layer=tf.keras.layers.Dense(units=1,activation=lambda x:tf.nn.leaky_relu(x,alpha=0.3),kernel_initializer=tf.ones_initializer)\n",
    "res=dense_layer(input_arr)\n",
    "print(res)"
   ],
   "metadata": {
    "collapsed": false,
    "pycharm": {
     "name": "#%%\n"
    }
   }
  },
  {
   "cell_type": "code",
   "execution_count": null,
   "outputs": [],
   "source": [
    "\n"
   ],
   "metadata": {
    "collapsed": false,
    "pycharm": {
     "name": "#%%\n"
    }
   }
  }
 ],
 "metadata": {
  "kernelspec": {
   "display_name": "Python 3",
   "language": "python",
   "name": "python3"
  },
  "language_info": {
   "codemirror_mode": {
    "name": "ipython",
    "version": 2
   },
   "file_extension": ".py",
   "mimetype": "text/x-python",
   "name": "python",
   "nbconvert_exporter": "python",
   "pygments_lexer": "ipython2",
   "version": "2.7.6"
  }
 },
 "nbformat": 4,
 "nbformat_minor": 0
}