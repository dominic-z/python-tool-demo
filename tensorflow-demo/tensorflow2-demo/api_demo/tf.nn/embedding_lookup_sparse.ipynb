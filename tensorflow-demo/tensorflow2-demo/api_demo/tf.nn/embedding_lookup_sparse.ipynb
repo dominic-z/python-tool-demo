{
 "cells": [
  {
   "cell_type": "code",
   "execution_count": 1,
   "metadata": {
    "collapsed": true
   },
   "outputs": [
    {
     "name": "stdout",
     "output_type": "stream",
     "text": [
      "tf.Tensor(\n",
      "[[ 0.13745588 -0.9272701   0.46019742 -0.94227225]\n",
      " [ 0.02170722 -0.38628224 -1.3451751  -0.06946333]\n",
      " [-0.71220106  0.9938434  -0.1525272  -0.12594076]], shape=(3, 4), dtype=float32)\n"
     ]
    },
    {
     "data": {
      "text/plain": "<tf.Tensor: shape=(3, 4), dtype=float32, numpy=\narray([[-0.3452469 ,  0.30378056, -0.7488512 , -0.09770204],\n       [ 0.13745588, -0.9272701 ,  0.46019742, -0.94227225],\n       [ 0.13745588, -0.9272701 ,  0.46019742, -0.94227225]],\n      dtype=float32)>"
     },
     "execution_count": 1,
     "metadata": {},
     "output_type": "execute_result"
    }
   ],
   "source": [
    "#embedding_lookup_sparse\n",
    "\n",
    "import tensorflow as tf\n",
    "\n",
    "embedding_param=tf.random.truncated_normal(shape=(3,4))\n",
    "# sp_ids\tN x M SparseTensor of int64 ids where N is typically batch size and M is arbitrary.\n",
    "# 必须是二维的\n",
    "sparse_tensor=tf.sparse.SparseTensor(indices=[[0, 0],[0,1], [1, 2],[2,1]], values=[1,2,0,0], dense_shape=[3, 4])\n",
    "print(embedding_param)\n",
    "tf.nn.embedding_lookup_sparse(params=embedding_param,sp_ids=sparse_tensor,sp_weights=None)\n"
   ]
  },
  {
   "cell_type": "code",
   "execution_count": 2,
   "outputs": [
    {
     "data": {
      "text/plain": "<tf.Tensor: shape=(3, 4), dtype=float32, numpy=\narray([[ 0.9345739 , -1.4069617 , -0.7429723 ,  0.8072176 ],\n       [-1.4666234 ,  0.24595565, -0.07708965, -0.8432094 ],\n       [ 0.86420554, -0.4516989 ,  0.55323076, -1.2629642 ]],\n      dtype=float32)>"
     },
     "execution_count": 2,
     "metadata": {},
     "output_type": "execute_result"
    }
   ],
   "source": [
    "embedding_param"
   ],
   "metadata": {
    "collapsed": false,
    "pycharm": {
     "name": "#%%\n"
    }
   }
  },
  {
   "cell_type": "code",
   "execution_count": 3,
   "outputs": [
    {
     "name": "stdout",
     "output_type": "stream",
     "text": [
      "tf.Tensor(\n",
      "[[ 0.39849102  0.04478563  1.1137065  -0.51978874]\n",
      " [-1.1783928   0.26040432  0.57563895 -0.13123561]\n",
      " [ 0.75754    -0.1416459  -0.30816194  0.13963704]], shape=(3, 4), dtype=float32)\n"
     ]
    },
    {
     "data": {
      "text/plain": "<tf.Tensor: shape=(11, 4), dtype=float32, numpy=\narray([[-0.21042639,  0.05937921,  0.1337385 ,  0.00420071],\n       [ 0.39849102,  0.04478563,  1.1137065 , -0.51978874],\n       [ 0.        ,  0.        ,  0.        ,  0.        ],\n       [ 0.        ,  0.        ,  0.        ,  0.        ],\n       [ 0.        ,  0.        ,  0.        ,  0.        ],\n       [ 0.        ,  0.        ,  0.        ,  0.        ],\n       [ 0.        ,  0.        ,  0.        ,  0.        ],\n       [ 0.        ,  0.        ,  0.        ,  0.        ],\n       [ 0.        ,  0.        ,  0.        ,  0.        ],\n       [ 0.        ,  0.        ,  0.        ,  0.        ],\n       [ 0.39849102,  0.04478563,  1.1137065 , -0.51978874]],\n      dtype=float32)>"
     },
     "execution_count": 3,
     "metadata": {},
     "output_type": "execute_result"
    }
   ],
   "source": [
    "import tensorflow as tf\n",
    "\n",
    "embedding_param=tf.random.truncated_normal(shape=(3,4))\n",
    "# 实际上这个sparse_tensor是不合法的，但embedding_lookup_sparse并没有校验合法性\n",
    "sparse_tensor=tf.sparse.SparseTensor(indices=[[0, 0],[0,1], [1, 2],[10,1]], values=[1,2,0,0], dense_shape=[3, 4])\n",
    "print(embedding_param)\n",
    "tf.nn.embedding_lookup_sparse(params=embedding_param,sp_ids=sparse_tensor,sp_weights=None)"
   ],
   "metadata": {
    "collapsed": false,
    "pycharm": {
     "name": "#%%\n"
    }
   }
  },
  {
   "cell_type": "code",
   "execution_count": 7,
   "outputs": [
    {
     "name": "stdout",
     "output_type": "stream",
     "text": [
      "SparseTensor(indices=tf.Tensor(\n",
      "[[ 0  0]\n",
      " [ 0  1]\n",
      " [ 1  2]\n",
      " [10  1]], shape=(4, 2), dtype=int64), values=tf.Tensor([1 2 0 0], shape=(4,), dtype=int32), dense_shape=tf.Tensor([3 4], shape=(2,), dtype=int64))\n"
     ]
    }
   ],
   "source": [
    "print(sparse_tensor)\n"
   ],
   "metadata": {
    "collapsed": false,
    "pycharm": {
     "name": "#%%\n"
    }
   }
  },
  {
   "cell_type": "code",
   "execution_count": 12,
   "outputs": [
    {
     "name": "stdout",
     "output_type": "stream",
     "text": [
      "tf.Tensor(\n",
      "[[-0.7208965   0.35720897  1.2735151   0.59348965]\n",
      " [-0.2979291  -0.31340468  0.760616   -0.75253844]\n",
      " [ 1.0593032  -1.076854    0.67688084  0.30121157]], shape=(3, 4), dtype=float32)\n"
     ]
    },
    {
     "data": {
      "text/plain": "<tf.Tensor: shape=(3, 4), dtype=float32, numpy=\narray([[ 1.8206773 , -2.4671125 ,  2.1143777 , -0.15011531],\n       [-0.2979291 , -0.31340468,  0.760616  , -0.75253844],\n       [-0.5958582 , -0.62680936,  1.521232  , -1.5050769 ]],\n      dtype=float32)>"
     },
     "execution_count": 12,
     "metadata": {},
     "output_type": "execute_result"
    }
   ],
   "source": [
    "# sp_weights\n",
    "\n",
    "import tensorflow as tf\n",
    "\n",
    "embedding_param=tf.random.truncated_normal(shape=(3,4))\n",
    "sp_ids=tf.sparse.SparseTensor(indices=[[0, 0],[0,1], [1, 2],[2,1]], values=[1,2,1,1], dense_shape=[3, 4])\n",
    "sp_weights=tf.sparse.SparseTensor(indices=[[0, 0],[0,1], [1, 2],[2,1]], values=[1,2,1,2], dense_shape=[3, 4])\n",
    "print(embedding_param)\n",
    "tf.nn.embedding_lookup_sparse(params=embedding_param,sp_ids=sp_ids,sp_weights=sp_weights,combiner=\"sum\")"
   ],
   "metadata": {
    "collapsed": false,
    "pycharm": {
     "name": "#%%\n"
    }
   }
  },
  {
   "cell_type": "code",
   "execution_count": 6,
   "outputs": [
    {
     "name": "stdout",
     "output_type": "stream",
     "text": [
      "tf.Tensor(\n",
      "[[-1.5375096  -0.95014334  0.56878626 -0.5752688 ]\n",
      " [ 0.3254544  -0.81934977 -0.7915947   1.2310195 ]\n",
      " [-0.72830135 -1.5127456   0.48427373 -1.3615382 ]], shape=(3, 4), dtype=float32)\n"
     ]
    },
    {
     "data": {
      "text/plain": "<tf.Tensor: shape=(1, 4), dtype=float32, numpy=array([[ 0.2480619, -3.970795 , -1.8905103,  2.3315203]], dtype=float32)>"
     },
     "execution_count": 6,
     "metadata": {},
     "output_type": "execute_result"
    }
   ],
   "source": [
    "import tensorflow as tf\n",
    "# sp_ids必须是二维\n",
    "embedding_param=tf.random.truncated_normal(shape=(3,4))\n",
    "sp_ids=tf.sparse.SparseTensor(indices=[[0,0, 0],[0,0,1], [0,1, 2],[0,2,1]], values=[1,2,1,1], dense_shape=[1,3, 4])\n",
    "print(embedding_param)\n",
    "tf.nn.embedding_lookup_sparse(params=embedding_param,sp_ids=sp_ids,sp_weights=None,combiner=\"sum\")"
   ],
   "metadata": {
    "collapsed": false,
    "pycharm": {
     "name": "#%%\n"
    }
   }
  },
  {
   "cell_type": "code",
   "execution_count": 13,
   "outputs": [
    {
     "name": "stdout",
     "output_type": "stream",
     "text": [
      "embedding_param\n",
      "tf.Tensor(\n",
      "[[ 1.3482878   0.15923798 -0.5808628  -0.25122672]\n",
      " [ 0.53400314  0.27947032 -0.19169462 -0.67176116]\n",
      " [-0.51816356  0.22945245  0.06111829  0.10363602]\n",
      " [-0.92888147 -1.5047573  -1.0453764   0.68953645]\n",
      " [ 0.82974553  0.8562663   1.8750854   0.00609263]\n",
      " [-0.17657135 -1.4085059  -0.8346864   0.8351217 ]], shape=(6, 4), dtype=float32)\n",
      "field1_embs\n",
      "tf.Tensor(\n",
      "[[ 0.00791979  0.25446138 -0.06528816 -0.28406256]\n",
      " [-0.92888147 -1.5047573  -1.0453764   0.68953645]\n",
      " [ 0.9411455   0.21935415 -0.38627872 -0.46149394]], shape=(3, 4), dtype=float32)\n",
      "field2_embs\n",
      "tf.Tensor(\n",
      "[[ 0.82974553  0.8562663   1.8750854   0.00609263]\n",
      " [-0.17657135 -1.4085059  -0.8346864   0.8351217 ]\n",
      " [ 0.82974553  0.8562663   1.8750854   0.00609263]], shape=(3, 4), dtype=float32)\n",
      "stack_embs\n"
     ]
    },
    {
     "data": {
      "text/plain": "<tf.Tensor: shape=(3, 2, 4), dtype=float32, numpy=\narray([[[ 0.00791979,  0.25446138, -0.06528816, -0.28406256],\n        [ 0.82974553,  0.8562663 ,  1.8750854 ,  0.00609263]],\n\n       [[-0.92888147, -1.5047573 , -1.0453764 ,  0.68953645],\n        [-0.17657135, -1.4085059 , -0.8346864 ,  0.8351217 ]],\n\n       [[ 0.9411455 ,  0.21935415, -0.38627872, -0.46149394],\n        [ 0.82974553,  0.8562663 ,  1.8750854 ,  0.00609263]]],\n      dtype=float32)>"
     },
     "execution_count": 13,
     "metadata": {},
     "output_type": "execute_result"
    }
   ],
   "source": [
    "# 如何处理multihot的样本\n",
    "embedding_param=tf.random.truncated_normal(shape=(6,4))\n",
    "print(\"embedding_param\")\n",
    "print(embedding_param)\n",
    "dense_feature_shape=(3,6)\n",
    "# values填的是featureIndex\n",
    "field1_sp_ids=tf.sparse.SparseTensor(indices=[[0, 0],[0,1], [1, 2],[2,1],[2,3]], values=[1,2,3,0,1], dense_shape=dense_feature_shape)\n",
    "field2_sp_ids=tf.sparse.SparseTensor(indices=[[0, 4],[1,5], [2, 4]], values=[4,5,4], dense_shape=dense_feature_shape)\n",
    "\n",
    "field1_embs=tf.nn.embedding_lookup_sparse(params=embedding_param,sp_ids=field1_sp_ids,sp_weights=None)\n",
    "field2_embs=tf.nn.embedding_lookup_sparse(params=embedding_param,sp_ids=field2_sp_ids,sp_weights=None)\n",
    "\n",
    "print(\"field1_embs\")\n",
    "print(field1_embs)\n",
    "print(\"field2_embs\")\n",
    "print(field2_embs)\n",
    "\n",
    "\n",
    "print(\"stack_embs\")\n",
    "tf.stack((field1_embs,field2_embs),axis=1)"
   ],
   "metadata": {
    "collapsed": false,
    "pycharm": {
     "name": "#%%\n"
    }
   }
  },
  {
   "cell_type": "code",
   "execution_count": null,
   "outputs": [],
   "source": [
    "\n"
   ],
   "metadata": {
    "collapsed": false,
    "pycharm": {
     "name": "#%%\n"
    }
   }
  }
 ],
 "metadata": {
  "kernelspec": {
   "display_name": "Python 3",
   "language": "python",
   "name": "python3"
  },
  "language_info": {
   "codemirror_mode": {
    "name": "ipython",
    "version": 2
   },
   "file_extension": ".py",
   "mimetype": "text/x-python",
   "name": "python",
   "nbconvert_exporter": "python",
   "pygments_lexer": "ipython2",
   "version": "2.7.6"
  }
 },
 "nbformat": 4,
 "nbformat_minor": 0
}