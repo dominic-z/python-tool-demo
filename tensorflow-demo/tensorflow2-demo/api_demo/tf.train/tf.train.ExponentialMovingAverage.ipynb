{
 "cells": [
  {
   "cell_type": "code",
   "execution_count": 2,
   "metadata": {
    "collapsed": true
   },
   "outputs": [
    {
     "name": "stdout",
     "output_type": "stream",
     "text": [
      "对var1进行apply，相当于告诉ema需要维护关于var1的滑动平均值\n",
      "\n",
      "首次apply，会直接赋值，此时结果为1\n",
      "1.0\n",
      "\n",
      "修改var1为10\n",
      "<tf.Variable 'Variable:0' shape=() dtype=float32, numpy=10.0>\n",
      "\n",
      "对var1进行apply，相当于更新关于var1的滑动平均值\n",
      "\n",
      "求取滑动平均值的方法是使用average，传入的参数就是要求关于谁的滑动平均值\n",
      "1.0899999\n",
      "\n",
      "计算方式为\n",
      "1.09\n"
     ]
    }
   ],
   "source": [
    "# 简单使用\n",
    "import numpy as np\n",
    "import tensorflow as tf\n",
    "tf.compat.v1.reset_default_graph()\n",
    "var1=tf.Variable(1.)\n",
    "\n",
    "decay=0.99\n",
    "ema=tf.train.ExponentialMovingAverage(decay=decay)\n",
    "print(\"对var1进行apply，相当于告诉ema需要维护关于var1的滑动平均值\")\n",
    "ema.apply([var1])\n",
    "print(\"\\n首次apply，会直接赋值，此时结果为1\")\n",
    "print(ema.average(var1).numpy())\n",
    "print(\"\\n修改var1为10\")\n",
    "var1.assign(10)\n",
    "print(var1)\n",
    "print(\"\\n对var1进行apply，相当于更新关于var1的滑动平均值\")\n",
    "ema.apply([var1])\n",
    "\n",
    "print(\"\\n求取滑动平均值的方法是使用average，传入的参数就是要求关于谁的滑动平均值\")\n",
    "print(ema.average(var1).numpy())\n",
    "print(\"\\n计算方式为\")\n",
    "print(1*decay+(1-decay)*10)"
   ]
  },
  {
   "cell_type": "code",
   "execution_count": 68,
   "outputs": [
    {
     "name": "stdout",
     "output_type": "stream",
     "text": [
      "\n",
      "apply方法输入两个变量，那么这个ema就会维护关于var1和var2的两个滑动平均值\n",
      "\n",
      "首次apply，会直接赋值，此时结果为1和10\n",
      "1.0\n",
      "10.0\n",
      "\n",
      "只修改var1为10，并只对var1进行apply，仅仅更新了var1的滑动平均值\n",
      "\n",
      "求取滑动平均值\n",
      "\n",
      "求取var1的滑动平均值，发现关于var1的滑动平均值已经更新\n",
      "1.0899999\n",
      "\n",
      "求取var2的滑动平均值，发现关于var2的滑动平均值还是10\n",
      "10.0\n",
      "None\n"
     ]
    }
   ],
   "source": [
    "# tf2是object-based的，这影响了ema的apply和average方法\n",
    "\n",
    "import numpy as np\n",
    "import tensorflow as tf\n",
    "tf.compat.v1.reset_default_graph()\n",
    "var1=tf.Variable(1.)\n",
    "var2=tf.Variable(10.)\n",
    "var3=tf.Variable(20.)\n",
    "\n",
    "decay=0.99\n",
    "ema=tf.train.ExponentialMovingAverage(decay=decay)\n",
    "print(\"\\napply方法输入两个变量，那么这个ema就会维护关于var1和var2的两个滑动平均值\")\n",
    "ema.apply([var1,var2])\n",
    "print(\"\\n首次apply，会直接赋值，此时结果为1和10\")\n",
    "print(ema.average(var1).numpy())\n",
    "print(ema.average(var2).numpy())\n",
    "print(\"\\n只修改var1为10，并只对var1进行apply，仅仅更新了var1的滑动平均值\")\n",
    "var1.assign(10)\n",
    "ema.apply([var1])\n",
    "\n",
    "print(\"\\n求取滑动平均值\")\n",
    "print(\"\\n求取var1的滑动平均值，发现关于var1的滑动平均值已经更新\")\n",
    "print(ema.average(var1).numpy())\n",
    "print(\"\\n求取var2的滑动平均值，发现关于var2的滑动平均值还是10\")\n",
    "print(ema.average(var2).numpy())\n",
    "print(\"\\n求取var3的滑动平均值，发现ema并没有维护关于var3的滑动平均值，因此返回None\")\n",
    "print(ema.average(var3))"
   ],
   "metadata": {
    "collapsed": false,
    "pycharm": {
     "name": "#%%\n"
    }
   }
  },
  {
   "cell_type": "code",
   "execution_count": 100,
   "outputs": [
    {
     "name": "stdout",
     "output_type": "stream",
     "text": [
      "对var1进行apply，相当于告诉ema需要维护关于var1的滑动平均值\n",
      "\n",
      "求取滑动平均值的方法是使用average，传入的参数就是要求关于谁的滑动平均值\n",
      "5.0499997\n",
      "手动计算\n",
      "5.05\n",
      "\n",
      "修改num_updates值为20，该值会在下一次apply时生效\n",
      "求取滑动平均值\n",
      "6.535\n",
      "手动计算\n",
      "6.535\n"
     ]
    },
    {
     "data": {
      "text/plain": "'\\n结论，num_updates可以被赋值为global_step，保证初期的时候real_decay更大，后期的时候使用输入的decay\\n'"
     },
     "execution_count": 100,
     "metadata": {},
     "output_type": "execute_result"
    }
   ],
   "source": [
    "# num_updates参数\n",
    "import tensorflow as tf\n",
    "import numpy as np\n",
    "tf.compat.v1.reset_default_graph()\n",
    "var1=tf.Variable(1.)\n",
    "\n",
    "decay=0.99\n",
    "num_updates=tf.Variable(10.)\n",
    "ema=tf.train.ExponentialMovingAverage(decay=decay,num_updates=num_updates)\n",
    "print(\"对var1进行apply，相当于告诉ema需要维护关于var1的滑动平均值\")\n",
    "ema.apply([var1])\n",
    "moving_mean=ema.average(var1).numpy() # 此处要取numpy，否则不取numpy的话返回的是variable，后面的值会改变\n",
    "var1.assign(10)\n",
    "ema.apply([var1])\n",
    "print(\"\\n求取滑动平均值的方法是使用average，传入的参数就是要求关于谁的滑动平均值\")\n",
    "print(ema.average(var1).numpy())\n",
    "print(\"手动计算\")\n",
    "real_decay=tf.math.minimum(decay,(1.+num_updates)/(10.+num_updates))\n",
    "moving_mean=(moving_mean*real_decay+(1-real_decay)*var1).numpy()\n",
    "print(moving_mean)\n",
    "\n",
    "print(\"\\n修改num_updates值为20，该值会在下一次apply时生效\")\n",
    "num_updates.assign(20)\n",
    "ema.apply([var1])\n",
    "real_decay=tf.math.minimum(decay,(1.+num_updates)/(10.+num_updates))\n",
    "print(\"求取滑动平均值\")\n",
    "print(ema.average(var1).numpy())\n",
    "print(\"手动计算\")\n",
    "moving_mean=(moving_mean*real_decay+(1-real_decay)*var1).numpy()\n",
    "print(moving_mean)\n",
    "\n",
    "\"\"\"\n",
    "结论，num_updates可以被赋值为global_step，保证初期的时候real_decay更大，后期的时候使用输入的decay\n",
    "\"\"\""
   ],
   "metadata": {
    "collapsed": false,
    "pycharm": {
     "name": "#%%\n"
    }
   }
  },
  {
   "cell_type": "code",
   "execution_count": 100,
   "outputs": [],
   "source": [],
   "metadata": {
    "collapsed": false,
    "pycharm": {
     "name": "#%%\n"
    }
   }
  },
  {
   "cell_type": "code",
   "execution_count": 101,
   "outputs": [
    {
     "name": "stdout",
     "output_type": "stream",
     "text": [
      "20\n",
      "30\n"
     ]
    }
   ],
   "source": [
    "class C:\n",
    "    def __init__(self,a):\n",
    "        self.a=a\n",
    "def high(a):\n",
    "    c=C(a)\n",
    "    def low():\n",
    "        c.a=c.a+10\n",
    "        return c.a\n",
    "    return low\n",
    "\n",
    "low=high(10)\n",
    "print(low())\n",
    "print(low())\n",
    "\n",
    "    \n"
   ],
   "metadata": {
    "collapsed": false,
    "pycharm": {
     "name": "#%%\n"
    }
   }
  }
 ],
 "metadata": {
  "kernelspec": {
   "display_name": "Python 3",
   "language": "python",
   "name": "python3"
  },
  "language_info": {
   "codemirror_mode": {
    "name": "ipython",
    "version": 2
   },
   "file_extension": ".py",
   "mimetype": "text/x-python",
   "name": "python",
   "nbconvert_exporter": "python",
   "pygments_lexer": "ipython2",
   "version": "2.7.6"
  }
 },
 "nbformat": 4,
 "nbformat_minor": 0
}