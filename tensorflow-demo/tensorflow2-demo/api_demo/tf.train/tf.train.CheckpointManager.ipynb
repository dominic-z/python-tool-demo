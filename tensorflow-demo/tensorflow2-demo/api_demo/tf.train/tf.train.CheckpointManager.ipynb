{
 "cells": [
  {
   "cell_type": "code",
   "execution_count": 1,
   "metadata": {
    "collapsed": true
   },
   "outputs": [
    {
     "data": {
      "text/plain": "'models/ckpt_manager/global_step/custom_name-5'"
     },
     "execution_count": 1,
     "metadata": {},
     "output_type": "execute_result"
    }
   ],
   "source": [
    "# tf.train.CheckpointManager\n",
    "# 单独靠checkpoint很难维护多个模型版本\n",
    "# 这时需要依靠manager，这个更好用 可以很方便地进行模型数量的控制\n",
    "import tensorflow as tf\n",
    "model_for_ck = tf.keras.Sequential()\n",
    "model_for_ck.add(tf.keras.layers.Dense(2,input_shape=(None,5),name=\"dense\"))\n",
    "checkpoint=tf.train.Checkpoint(model_for_ck=model_for_ck)\n",
    "\n",
    "model_dir=\"models/ckpt_manager/global_step\"\n",
    "ck_manager=tf.train.CheckpointManager(checkpoint,directory=model_dir,max_to_keep=2,checkpoint_name=\"custom_name\")\n",
    "ck_manager.save(1)\n",
    "ck_manager.save(3)\n",
    "ck_manager.save(5)"
   ]
  },
  {
   "cell_type": "code",
   "execution_count": null,
   "outputs": [],
   "source": [
    "\n"
   ],
   "metadata": {
    "collapsed": false,
    "pycharm": {
     "name": "#%%\n"
    }
   }
  }
 ],
 "metadata": {
  "kernelspec": {
   "display_name": "Python 3",
   "language": "python",
   "name": "python3"
  },
  "language_info": {
   "codemirror_mode": {
    "name": "ipython",
    "version": 2
   },
   "file_extension": ".py",
   "mimetype": "text/x-python",
   "name": "python",
   "nbconvert_exporter": "python",
   "pygments_lexer": "ipython2",
   "version": "2.7.6"
  }
 },
 "nbformat": 4,
 "nbformat_minor": 0
}