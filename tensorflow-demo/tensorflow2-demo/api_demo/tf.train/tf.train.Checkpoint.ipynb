{
 "cells": [
  {
   "cell_type": "code",
   "execution_count": 9,
   "metadata": {
    "collapsed": true
   },
   "outputs": [
    {
     "name": "stdout",
     "output_type": "stream",
     "text": [
      "[<tf.Variable 'dense/kernel:0' shape=(5, 2) dtype=float32, numpy=\n",
      "array([[ 0.51524794, -0.12678117],\n",
      "       [ 0.8410349 , -0.34851354],\n",
      "       [ 0.21230781, -0.12750602],\n",
      "       [-0.58230376, -0.39724493],\n",
      "       [ 0.64319503,  0.11290967]], dtype=float32)>, <tf.Variable 'dense/bias:0' shape=(2,) dtype=float32, numpy=array([0., 0.], dtype=float32)>]\n",
      "[<tf.Variable 'dense/kernel:0' shape=(5, 2) dtype=float32, numpy=\n",
      "array([[0., 1.],\n",
      "       [2., 3.],\n",
      "       [4., 5.],\n",
      "       [6., 7.],\n",
      "       [8., 9.]], dtype=float32)>, <tf.Variable 'dense/bias:0' shape=(2,) dtype=float32, numpy=array([0., 0.], dtype=float32)>]\n",
      "[('_CHECKPOINTABLE_OBJECT_GRAPH', []), ('model_for_ck/layer_with_weights-0/bias/.ATTRIBUTES/VARIABLE_VALUE', [2]), ('model_for_ck/layer_with_weights-0/kernel/.ATTRIBUTES/VARIABLE_VALUE', [5, 2]), ('save_counter/.ATTRIBUTES/VARIABLE_VALUE', [])]\n",
      "\n",
      "=================================================\n",
      "./models/ckpt_demo/read_write/model-1\n",
      "[<tf.Variable 'dense1/kernel:0' shape=(5, 2) dtype=float32, numpy=\n",
      "array([[ 0.51524794, -0.12678117],\n",
      "       [ 0.8410349 , -0.34851354],\n",
      "       [ 0.21230781, -0.12750602],\n",
      "       [-0.58230376, -0.39724493],\n",
      "       [ 0.64319503,  0.11290967]], dtype=float32)>, <tf.Variable 'dense1/bias:0' shape=(2,) dtype=float32, numpy=array([0., 0.], dtype=float32)>]\n",
      "\n",
      "=================================================\n",
      "./models/ckpt_demo/read_write/model-1\n",
      "[<tf.Variable 'dense2/kernel:0' shape=(5, 2) dtype=float32, numpy=\n",
      "array([[ 0.51524794, -0.12678117],\n",
      "       [ 0.8410349 , -0.34851354],\n",
      "       [ 0.21230781, -0.12750602],\n",
      "       [-0.58230376, -0.39724493],\n",
      "       [ 0.64319503,  0.11290967]], dtype=float32)>, <tf.Variable 'dense2/bias:0' shape=(2,) dtype=float32, numpy=array([0., 0.], dtype=float32)>]\n"
     ]
    }
   ],
   "source": [
    "# tf.train.Checkpoint\n",
    "# 这个东西是存储权重的功能，并不是存储整个graph，存储graph需要tf.saved_model或者keras的load和save\n",
    "# Checkpoints are just the weights\n",
    "# 注意，在tf2里，存储和读取再也不是name-based，而是object-based\n",
    "\n",
    "import tensorflow as tf\n",
    "\n",
    "model_for_ck = tf.keras.Sequential()\n",
    "model_for_ck.add(tf.keras.layers.Dense(2,input_shape=(None,5),name=\"dense\"))\n",
    "print(model_for_ck.trainable_variables)\n",
    "\n",
    "model_dir=\"./models/ckpt_demo/read_write/\"\n",
    "checkpoint=tf.train.Checkpoint(model_for_ck=model_for_ck)\n",
    "checkpoint.save(\"{}/model\".format(model_dir)) # save的时候传入的参数实际上是一个prefix，真正生成的文件是./models/ckpk_demo/model.xxx\n",
    "model_for_ck.trainable_variables[0].assign(tf.reshape(tf.range(0,10,dtype=tf.float32),shape=(5,2)))\n",
    "print(model_for_ck.trainable_variables)\n",
    "print(tf.train.list_variables(\"{}\".format(model_dir)))\n",
    "print(\"\\n=================================================\")\n",
    "model_for_ck = tf.keras.Sequential()\n",
    "model_for_ck.add(tf.keras.layers.Dense(2,input_shape=(None,5),name=\"dense1\")) # name也可以不一样，文件中的模型存储的内容与代码中自变量的对应关系由checkpoint对象构造时候的dict指定\n",
    "checkpoint=tf.train.Checkpoint(model_for_ck=model_for_ck)\n",
    "concret_model_path=tf.train.latest_checkpoint(\"{}\".format(model_dir))\n",
    "print(concret_model_path)\n",
    "checkpoint.restore(concret_model_path) # restore的时候需要传入的是具体的哪个模型\n",
    "print(model_for_ck.trainable_variables)\n",
    "\n",
    "print(\"\\n=================================================\")\n",
    "\n",
    "another_model = tf.keras.Sequential()\n",
    "another_model.add(tf.keras.layers.Dense(2,input_shape=(None,5),name=\"dense2\"))\n",
    "# name也可以不一样，文件中的模型存储的内容与代码中自变量的对应关系由checkpoint对象构造时候的dict指定\n",
    "# 因为是object-based的\n",
    "concret_model_path=tf.train.latest_checkpoint(\"{}\".format(model_dir))\n",
    "another_checkpoint=tf.train.Checkpoint(model_for_ck=another_model) # 这个dict传入的key是文件里记录的对象名，value指的是代码里的对象名\n",
    "print(concret_model_path)\n",
    "another_checkpoint.restore(concret_model_path) # restore的时候需要传入的是具体的哪个模型\n",
    "print(another_model.trainable_variables)\n",
    "\n",
    "\n"
   ]
  },
  {
   "cell_type": "code",
   "execution_count": 10,
   "outputs": [
    {
     "name": "stdout",
     "output_type": "stream",
     "text": [
      "储存=================================================\n",
      "[<tf.Variable 'dense/kernel:0' shape=(5, 2) dtype=float32, numpy=\n",
      "array([[ 0.22137177,  0.15907502],\n",
      "       [ 0.8041723 , -0.2964319 ],\n",
      "       [ 0.90902746, -0.24875474],\n",
      "       [ 0.68293464,  0.77882695],\n",
      "       [ 0.875062  ,  0.8079698 ]], dtype=float32)>, <tf.Variable 'dense/bias:0' shape=(2,) dtype=float32, numpy=array([0., 0.], dtype=float32)>]\n",
      "\n",
      "读取=================================================\n",
      "[<tf.Variable 'dense2/kernel:0' shape=(5, 2) dtype=float32, numpy=\n",
      "array([[ 0.22137177,  0.15907502],\n",
      "       [ 0.8041723 , -0.2964319 ],\n",
      "       [ 0.90902746, -0.24875474],\n",
      "       [ 0.68293464,  0.77882695],\n",
      "       [ 0.875062  ,  0.8079698 ]], dtype=float32)>, <tf.Variable 'dense2/bias:0' shape=(2,) dtype=float32, numpy=array([0., 0.], dtype=float32)>]\n"
     ]
    }
   ],
   "source": [
    "# checkpoint的参数\n",
    "# Checkpoint's constructor accepts keyword arguments whose values are types that contain trackable state, such as tf.keras.optimizers.Optimizer implementations, tf.Variables, tf.data.Dataset iterators, tf.keras.Layer implementations, or tf.keras.Model implementations. It saves these values with a checkpoint, and maintains a save_counter for numbering checkpoints.\n",
    "print(\"储存=================================================\")\n",
    "model_for_ck_haha = tf.keras.Sequential()\n",
    "model_for_ck_haha.add(tf.keras.layers.Dense(2,input_shape=(None,5),name=\"dense\"))\n",
    "checkpoint=tf.train.Checkpoint(model_for_ck_haha=model_for_ck_haha)\n",
    "model_dir=\"./models/ckpt_demo/model_for_ck_haha/\"\n",
    "\n",
    "checkpoint.save(\"{}/model\".format(model_dir))\n",
    "print(model_for_ck_haha.trainable_variables)\n",
    "\n",
    "print(\"\\n读取=================================================\")\n",
    "another_model = tf.keras.Sequential()\n",
    "another_model.add(tf.keras.layers.Dense(2,input_shape=(None,5),name=\"dense2\"))\n",
    "another_checkpoint=tf.train.Checkpoint(model_for_ck_haha=another_model)\n",
    "another_checkpoint.restore(tf.train.latest_checkpoint(model_dir))\n",
    "print(another_model.trainable_variables)"
   ],
   "metadata": {
    "collapsed": false,
    "pycharm": {
     "name": "#%%\n"
    }
   }
  },
  {
   "cell_type": "code",
   "execution_count": 8,
   "outputs": [],
   "source": [],
   "metadata": {
    "collapsed": false,
    "pycharm": {
     "name": "#%%\n"
    }
   }
  },
  {
   "cell_type": "code",
   "execution_count": null,
   "outputs": [],
   "source": [
    "\n"
   ],
   "metadata": {
    "collapsed": false,
    "pycharm": {
     "name": "#%%\n"
    }
   }
  }
 ],
 "metadata": {
  "kernelspec": {
   "display_name": "Python 3",
   "language": "python",
   "name": "python3"
  },
  "language_info": {
   "codemirror_mode": {
    "name": "ipython",
    "version": 2
   },
   "file_extension": ".py",
   "mimetype": "text/x-python",
   "name": "python",
   "nbconvert_exporter": "python",
   "pygments_lexer": "ipython2",
   "version": "2.7.6"
  }
 },
 "nbformat": 4,
 "nbformat_minor": 0
}