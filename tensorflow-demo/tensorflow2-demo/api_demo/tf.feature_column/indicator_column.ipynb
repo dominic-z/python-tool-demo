{
 "cells": [
  {
   "cell_type": "code",
   "execution_count": null,
   "metadata": {
    "collapsed": true
   },
   "outputs": [],
   "source": [
    "# indicator_column\n",
    "import tensorflow as tf\n",
    "\n",
    "\"\"\"\n",
    "Represents multi-hot representation of given categorical column.\n",
    "说实话我只能理解为这是一个类别特征的包装器，把类别特征转换为multi-hot表示\n",
    "\"\"\"\n",
    "\n"
   ]
  }
 ],
 "metadata": {
  "kernelspec": {
   "display_name": "Python 3",
   "language": "python",
   "name": "python3"
  },
  "language_info": {
   "codemirror_mode": {
    "name": "ipython",
    "version": 2
   },
   "file_extension": ".py",
   "mimetype": "text/x-python",
   "name": "python",
   "nbconvert_exporter": "python",
   "pygments_lexer": "ipython2",
   "version": "2.7.6"
  }
 },
 "nbformat": 4,
 "nbformat_minor": 0
}