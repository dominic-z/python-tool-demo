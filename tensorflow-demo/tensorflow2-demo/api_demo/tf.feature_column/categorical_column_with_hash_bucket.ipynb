{
 "cells": [
  {
   "cell_type": "code",
   "execution_count": 16,
   "metadata": {
    "collapsed": true
   },
   "outputs": [
    {
     "ename": "ValueError",
     "evalue": "Items of feature_columns must be a <class 'tensorflow.python.feature_column.feature_column_v2.DenseColumn'>. You can wrap a categorical column with an embedding_column or indicator_column. Given: HashedCategoricalColumn(key='feature_name', hash_bucket_size=3, dtype=tf.string)",
     "output_type": "error",
     "traceback": [
      "\u001B[0;31m\u001B[0m",
      "\u001B[0;31mValueError\u001B[0mTraceback (most recent call last)",
      "\u001B[0;32m<ipython-input-16-66cfa536f99f>\u001B[0m in \u001B[0;36m<module>\u001B[0;34m\u001B[0m\n\u001B[1;32m     14\u001B[0m )\n\u001B[1;32m     15\u001B[0m \u001B[0mindicator\u001B[0m\u001B[0;34m=\u001B[0m\u001B[0mtf\u001B[0m\u001B[0;34m.\u001B[0m\u001B[0mfeature_column\u001B[0m\u001B[0;34m.\u001B[0m\u001B[0mindicator_column\u001B[0m\u001B[0;34m(\u001B[0m\u001B[0mhashed_categorical_column\u001B[0m\u001B[0;34m)\u001B[0m\u001B[0;34m\u001B[0m\u001B[0;34m\u001B[0m\u001B[0m\n\u001B[0;32m---> 16\u001B[0;31m \u001B[0mdense_feature_layer\u001B[0m\u001B[0;34m=\u001B[0m\u001B[0mtf\u001B[0m\u001B[0;34m.\u001B[0m\u001B[0mkeras\u001B[0m\u001B[0;34m.\u001B[0m\u001B[0mlayers\u001B[0m\u001B[0;34m.\u001B[0m\u001B[0mDenseFeatures\u001B[0m\u001B[0;34m(\u001B[0m\u001B[0mhashed_categorical_column\u001B[0m\u001B[0;34m)\u001B[0m\u001B[0;34m\u001B[0m\u001B[0;34m\u001B[0m\u001B[0m\n\u001B[0m\u001B[1;32m     17\u001B[0m \u001B[0mprint\u001B[0m\u001B[0;34m(\u001B[0m\u001B[0mdense_feature_layer\u001B[0m\u001B[0;34m(\u001B[0m\u001B[0mexample\u001B[0m\u001B[0;34m)\u001B[0m\u001B[0;34m)\u001B[0m\u001B[0;34m\u001B[0m\u001B[0;34m\u001B[0m\u001B[0m\n\u001B[1;32m     18\u001B[0m \u001B[0;34m\u001B[0m\u001B[0m\n",
      "\u001B[0;32m/usr/local/lib/python3.6/dist-packages/tensorflow/python/keras/feature_column/dense_features_v2.py\u001B[0m in \u001B[0;36m__init__\u001B[0;34m(self, feature_columns, trainable, name, **kwargs)\u001B[0m\n\u001B[1;32m     85\u001B[0m         \u001B[0mtrainable\u001B[0m\u001B[0;34m=\u001B[0m\u001B[0mtrainable\u001B[0m\u001B[0;34m,\u001B[0m\u001B[0;34m\u001B[0m\u001B[0;34m\u001B[0m\u001B[0m\n\u001B[1;32m     86\u001B[0m         \u001B[0mname\u001B[0m\u001B[0;34m=\u001B[0m\u001B[0mname\u001B[0m\u001B[0;34m,\u001B[0m\u001B[0;34m\u001B[0m\u001B[0;34m\u001B[0m\u001B[0m\n\u001B[0;32m---> 87\u001B[0;31m         **kwargs)\n\u001B[0m\u001B[1;32m     88\u001B[0m     \u001B[0mself\u001B[0m\u001B[0;34m.\u001B[0m\u001B[0m_state_manager\u001B[0m \u001B[0;34m=\u001B[0m \u001B[0mfc\u001B[0m\u001B[0;34m.\u001B[0m\u001B[0m_StateManagerImplV2\u001B[0m\u001B[0;34m(\u001B[0m\u001B[0mself\u001B[0m\u001B[0;34m,\u001B[0m \u001B[0mself\u001B[0m\u001B[0;34m.\u001B[0m\u001B[0mtrainable\u001B[0m\u001B[0;34m)\u001B[0m  \u001B[0;31m# pylint: disable=protected-access\u001B[0m\u001B[0;34m\u001B[0m\u001B[0;34m\u001B[0m\u001B[0m\n\u001B[1;32m     89\u001B[0m \u001B[0;34m\u001B[0m\u001B[0m\n",
      "\u001B[0;32m/usr/local/lib/python3.6/dist-packages/tensorflow/python/keras/feature_column/dense_features.py\u001B[0m in \u001B[0;36m__init__\u001B[0;34m(self, feature_columns, trainable, name, partitioner, **kwargs)\u001B[0m\n\u001B[1;32m     98\u001B[0m         \u001B[0mpartitioner\u001B[0m\u001B[0;34m=\u001B[0m\u001B[0mpartitioner\u001B[0m\u001B[0;34m,\u001B[0m\u001B[0;34m\u001B[0m\u001B[0;34m\u001B[0m\u001B[0m\n\u001B[1;32m     99\u001B[0m         \u001B[0mexpected_column_type\u001B[0m\u001B[0;34m=\u001B[0m\u001B[0mfc\u001B[0m\u001B[0;34m.\u001B[0m\u001B[0mDenseColumn\u001B[0m\u001B[0;34m,\u001B[0m\u001B[0;34m\u001B[0m\u001B[0;34m\u001B[0m\u001B[0m\n\u001B[0;32m--> 100\u001B[0;31m         **kwargs)\n\u001B[0m\u001B[1;32m    101\u001B[0m \u001B[0;34m\u001B[0m\u001B[0m\n\u001B[1;32m    102\u001B[0m   \u001B[0;34m@\u001B[0m\u001B[0mproperty\u001B[0m\u001B[0;34m\u001B[0m\u001B[0;34m\u001B[0m\u001B[0m\n",
      "\u001B[0;32m/usr/local/lib/python3.6/dist-packages/tensorflow/python/keras/feature_column/base_feature_layer.py\u001B[0m in \u001B[0;36m__init__\u001B[0;34m(self, feature_columns, expected_column_type, trainable, name, partitioner, **kwargs)\u001B[0m\n\u001B[1;32m     69\u001B[0m             \u001B[0;34m'You can wrap a categorical column with an '\u001B[0m\u001B[0;34m\u001B[0m\u001B[0;34m\u001B[0m\u001B[0m\n\u001B[1;32m     70\u001B[0m             'embedding_column or indicator_column. Given: {}'.format(\n\u001B[0;32m---> 71\u001B[0;31m                 expected_column_type, column))\n\u001B[0m\u001B[1;32m     72\u001B[0m \u001B[0;34m\u001B[0m\u001B[0m\n\u001B[1;32m     73\u001B[0m   \u001B[0;32mdef\u001B[0m \u001B[0mbuild\u001B[0m\u001B[0;34m(\u001B[0m\u001B[0mself\u001B[0m\u001B[0;34m,\u001B[0m \u001B[0m_\u001B[0m\u001B[0;34m)\u001B[0m\u001B[0;34m:\u001B[0m\u001B[0;34m\u001B[0m\u001B[0;34m\u001B[0m\u001B[0m\n",
      "\u001B[0;31mValueError\u001B[0m: Items of feature_columns must be a <class 'tensorflow.python.feature_column.feature_column_v2.DenseColumn'>. You can wrap a categorical column with an embedding_column or indicator_column. Given: HashedCategoricalColumn(key='feature_name', hash_bucket_size=3, dtype=tf.string)"
     ]
    }
   ],
   "source": [
    "\n",
    "# categorical_column_with_hash_bucket\n",
    "# 这只会返回一个hashed_categorical_column对象，把这个对象送给其他的对象，例如下面例子里的layer，这个layer会对输入的example的对应特征列进行解析\n",
    "# 要求输入是一个feature的dict\n",
    "# 官方api-doc里还提到了可以用在tf.io.parse_example里，这个之后再说\n",
    "# 通过观察源码发现，这个feature_column使用的是tf.strings.to_hash_bucket_fast(\"a\",3)这个方法求hash值，而并非原生的python的hash操作\n",
    "import tensorflow as tf\n",
    "\n",
    "example={\n",
    "    \"feature_name\":[\"a\",\"b\",\"c\",\"d\"]\n",
    "}\n",
    "hashed_categorical_column=tf.feature_column.categorical_column_with_hash_bucket(\n",
    "    \"feature_name\", hash_bucket_size=3, dtype=tf.dtypes.string\n",
    ")\n",
    "indicator=tf.feature_column.indicator_column(hashed_categorical_column)\n",
    "dense_feature_layer=tf.keras.layers.DenseFeatures(hashed_categorical_column)\n",
    "print(dense_feature_layer(example))"
   ]
  },
  {
   "cell_type": "code",
   "execution_count": 15,
   "outputs": [
    {
     "data": {
      "text/plain": "<tf.Tensor: shape=(), dtype=int64, numpy=0>"
     },
     "execution_count": 15,
     "metadata": {},
     "output_type": "execute_result"
    }
   ],
   "source": [
    "\n"
   ],
   "metadata": {
    "collapsed": false,
    "pycharm": {
     "name": "#%%\n"
    }
   }
  },
  {
   "cell_type": "code",
   "execution_count": 13,
   "outputs": [
    {
     "data": {
      "text/plain": "-5010883154483175448"
     },
     "execution_count": 13,
     "metadata": {},
     "output_type": "execute_result"
    }
   ],
   "source": [],
   "metadata": {
    "collapsed": false,
    "pycharm": {
     "name": "#%%\n"
    }
   }
  },
  {
   "cell_type": "code",
   "execution_count": null,
   "outputs": [],
   "source": [
    "\n"
   ],
   "metadata": {
    "collapsed": false,
    "pycharm": {
     "name": "#%%\n"
    }
   }
  }
 ],
 "metadata": {
  "kernelspec": {
   "display_name": "Python 3",
   "language": "python",
   "name": "python3"
  },
  "language_info": {
   "codemirror_mode": {
    "name": "ipython",
    "version": 2
   },
   "file_extension": ".py",
   "mimetype": "text/x-python",
   "name": "python",
   "nbconvert_exporter": "python",
   "pygments_lexer": "ipython2",
   "version": "2.7.6"
  }
 },
 "nbformat": 4,
 "nbformat_minor": 0
}