{
 "cells": [
  {
   "cell_type": "code",
   "execution_count": 3,
   "metadata": {
    "collapsed": true
   },
   "outputs": [
    {
     "name": "stdout",
     "output_type": "stream",
     "text": [
      "SparseTensor(indices=tf.Tensor(\n",
      "[[0 0]\n",
      " [1 2]], shape=(2, 2), dtype=int64), values=tf.Tensor([1 2], shape=(2,), dtype=int32), dense_shape=tf.Tensor([3 4], shape=(2,), dtype=int64))\n",
      "tf.Tensor(\n",
      "[[1 0 0 0]\n",
      " [0 0 2 0]\n",
      " [0 0 0 0]], shape=(3, 4), dtype=int32)\n"
     ]
    }
   ],
   "source": [
    "# 构造一个sparseTensor\n",
    "import tensorflow as tf\n",
    "sparse_tensor=tf.sparse.SparseTensor(indices=[[0, 0], [1, 2]], values=[1, 2], dense_shape=[3, 4])\n",
    "dense_tensor=tf.constant([[1, 0, 0, 0],\n",
    " [0, 0, 2, 0],\n",
    " [0, 0, 0, 0]])\n",
    "\n",
    "print(sparse_tensor)\n",
    "print(dense_tensor)"
   ]
  },
  {
   "cell_type": "code",
   "execution_count": 5,
   "outputs": [
    {
     "name": "stdout",
     "output_type": "stream",
     "text": [
      "tf.Tensor(\n",
      "[[0 0]\n",
      " [1 2]], shape=(2, 2), dtype=int64)\n",
      "tf.Tensor([1 2], shape=(2,), dtype=int32)\n",
      "SparseTensor(indices=tf.Tensor(\n",
      "[[0 0]\n",
      " [1 2]], shape=(2, 2), dtype=int64), values=tf.Tensor([1 2], shape=(2,), dtype=int32), dense_shape=tf.Tensor([3 4], shape=(2,), dtype=int64))\n",
      "tf.Tensor(\n",
      "[[1 0 0 0]\n",
      " [0 0 2 0]\n",
      " [0 0 0 0]], shape=(3, 4), dtype=int32)\n"
     ]
    }
   ],
   "source": [
    "import tensorflow as tf\n",
    "# sparse和tensor互转\n",
    "\n",
    "dense_tensor=tf.constant([[1, 0, 0, 0],\n",
    " [0, 0, 2, 0],\n",
    " [0, 0, 0, 0]])\n",
    "arr_idx = tf.where(tf.not_equal(dense_tensor, 0))\n",
    "# gather_nd这个操作就是根据arr_idx的指示，从dense_tensor提取值，最终的结果shape由arr_idx决定\n",
    "# 而从arr_idx的0轴来看，每个元素都是一个坐标，因此arr_values就是一个一维度向量\n",
    "arr_values=tf.gather_nd(dense_tensor, arr_idx)\n",
    "sparse_tensor = tf.SparseTensor(arr_idx,arr_values,dense_shape=dense_tensor.shape)\n",
    "\n",
    "print(arr_idx)\n",
    "print(arr_values)\n",
    "print(sparse_tensor)\n",
    "print(tf.sparse.to_dense(sparse_tensor))"
   ],
   "metadata": {
    "collapsed": false,
    "pycharm": {
     "name": "#%%\n"
    }
   }
  },
  {
   "cell_type": "code",
   "execution_count": 16,
   "outputs": [
    {
     "name": "stdout",
     "output_type": "stream",
     "text": [
      "only one data\n",
      "SparseTensor(indices=tf.Tensor(\n",
      "[[0 2]\n",
      " [0 3]\n",
      " [0 4]\n",
      " [0 5]\n",
      " [0 6]\n",
      " [0 7]\n",
      " [0 8]\n",
      " [1 0]\n",
      " [1 3]\n",
      " [1 5]\n",
      " [1 7]\n",
      " [2 1]\n",
      " [2 3]\n",
      " [2 6]\n",
      " [2 7]\n",
      " [2 8]\n",
      " [2 9]\n",
      " [3 0]\n",
      " [3 1]\n",
      " [3 2]\n",
      " [3 4]\n",
      " [3 5]\n",
      " [3 7]\n",
      " [4 3]\n",
      " [4 8]\n",
      " [5 0]\n",
      " [5 1]\n",
      " [5 2]\n",
      " [5 3]\n",
      " [5 6]\n",
      " [5 7]\n",
      " [5 8]\n",
      " [6 1]\n",
      " [6 2]\n",
      " [6 3]\n",
      " [6 4]\n",
      " [6 6]\n",
      " [6 8]\n",
      " [7 0]\n",
      " [7 1]\n",
      " [7 2]\n",
      " [7 4]\n",
      " [7 5]\n",
      " [7 6]\n",
      " [7 8]\n",
      " [7 9]\n",
      " [8 0]\n",
      " [8 1]\n",
      " [8 2]\n",
      " [8 3]\n",
      " [8 6]\n",
      " [9 0]\n",
      " [9 2]\n",
      " [9 8]\n",
      " [9 9]], shape=(55, 2), dtype=int64), values=tf.Tensor(\n",
      "[1 1 1 1 1 1 1 1 1 1 1 1 1 1 1 1 1 1 1 1 1 1 1 1 1 1 1 1 1 1 1 1 1 1 1 1 1\n",
      " 1 1 1 1 1 1 1 1 1 1 1 1 1 1 1 1 1 1], shape=(55,), dtype=int32), dense_shape=tf.Tensor([10 10], shape=(2,), dtype=int64))\n"
     ]
    }
   ],
   "source": [
    "# sparseTensor与dataset\n",
    "# dataset也可以持有sparseTensor哦\n",
    "\n",
    "import tensorflow as tf\n",
    "import numpy as np\n",
    "ds=tf.data.Dataset.from_tensor_slices([np.reshape(np.random.choice([0,1],size=100),newshape=(10,10))])\n",
    "\n",
    "def dense_to_sparse(dense_tensor):\n",
    "    idx = tf.where(tf.not_equal(dense_tensor, 0))\n",
    "    values=tf.gather_nd(dense_tensor, idx)\n",
    "    return tf.SparseTensor(idx,values,dense_shape=dense_tensor.shape)\n",
    "\n",
    "# for sample in ds:\n",
    "#     print(sample)\n",
    "\n",
    "# 但是需要注意，此时sparse_ds里只有一个item了，就是一个完整的sparse_tensor\n",
    "sparse_ds=ds.map(dense_to_sparse)\n",
    "for sample in sparse_ds:\n",
    "    print(\"only one data\")\n",
    "    print(sample)"
   ],
   "metadata": {
    "collapsed": false,
    "pycharm": {
     "name": "#%%\n"
    }
   }
  },
  {
   "cell_type": "code",
   "execution_count": 36,
   "outputs": [
    {
     "name": "stdout",
     "output_type": "stream",
     "text": [
      "SparseTensor(indices=tf.Tensor(\n",
      "[[0 0]\n",
      " [0 2]\n",
      " [0 3]\n",
      " [0 4]\n",
      " [0 6]\n",
      " [0 7]\n",
      " [1 1]\n",
      " [1 3]\n",
      " [1 4]\n",
      " [1 5]\n",
      " [2 0]\n",
      " [2 5]\n",
      " [2 6]\n",
      " [2 7]\n",
      " [2 8]\n",
      " [3 2]\n",
      " [3 3]\n",
      " [3 4]\n",
      " [3 5]\n",
      " [3 6]\n",
      " [3 7]\n",
      " [3 8]\n",
      " [4 1]\n",
      " [4 3]], shape=(24, 2), dtype=int64), values=tf.Tensor([1 1 1 1 1 1 1 1 1 1 1 1 1 1 1 1 1 1 1 1 1 1 1 1], shape=(24,), dtype=int64), dense_shape=tf.Tensor([ 5 10], shape=(2,), dtype=int64))\n",
      "SparseTensor(indices=tf.Tensor(\n",
      "[[0 0]\n",
      " [0 1]\n",
      " [0 2]\n",
      " [0 3]\n",
      " [0 6]\n",
      " [0 7]\n",
      " [1 1]\n",
      " [1 3]\n",
      " [1 5]\n",
      " [1 7]\n",
      " [2 0]\n",
      " [2 2]\n",
      " [2 3]\n",
      " [2 4]\n",
      " [2 7]\n",
      " [2 8]\n",
      " [2 9]\n",
      " [3 6]\n",
      " [3 9]\n",
      " [4 1]\n",
      " [4 4]\n",
      " [4 7]], shape=(22, 2), dtype=int64), values=tf.Tensor([1 1 1 1 1 1 1 1 1 1 1 1 1 1 1 1 1 1 1 1 1 1], shape=(22,), dtype=int64), dense_shape=tf.Tensor([ 5 10], shape=(2,), dtype=int64))\n"
     ]
    }
   ],
   "source": [
    "# 在tf1里，是不能将一个shape为(None,10)的tensor转化为sparse Tensor\n",
    "# 因为形状必须是明确的\n",
    "# 但是在tf2里，由于动态图的存在，多数tensor的shape都是确定好的，所以不太容易存在tf1中的问题\n",
    "\n",
    "ds=tf.data.Dataset.from_tensor_slices(np.random.choice([0,1],size=[10,10])).batch(5)\n",
    "\n",
    "def dense_to_sparse(dense_tensor):\n",
    "    idx = tf.where(tf.not_equal(dense_tensor, 0))\n",
    "    values=tf.gather_nd(dense_tensor, idx)\n",
    "    return tf.SparseTensor(idx,values,dense_shape=dense_tensor.shape)\n",
    "\n",
    "for batch in ds:\n",
    "    # batch的形状是确定的\n",
    "    print(dense_to_sparse(batch))"
   ],
   "metadata": {
    "collapsed": false,
    "pycharm": {
     "name": "#%%\n"
    }
   }
  },
  {
   "cell_type": "code",
   "execution_count": 34,
   "outputs": [
    {
     "data": {
      "text/plain": "<BatchDataset shapes: (None, 10), types: tf.int64>"
     },
     "execution_count": 34,
     "metadata": {},
     "output_type": "execute_result"
    }
   ],
   "source": [
    "ds"
   ],
   "metadata": {
    "collapsed": false,
    "pycharm": {
     "name": "#%%\n"
    }
   }
  },
  {
   "cell_type": "code",
   "execution_count": null,
   "outputs": [],
   "source": [
    "\n"
   ],
   "metadata": {
    "collapsed": false,
    "pycharm": {
     "name": "#%%\n"
    }
   }
  }
 ],
 "metadata": {
  "kernelspec": {
   "display_name": "Python 3",
   "language": "python",
   "name": "python3"
  },
  "language_info": {
   "codemirror_mode": {
    "name": "ipython",
    "version": 2
   },
   "file_extension": ".py",
   "mimetype": "text/x-python",
   "name": "python",
   "nbconvert_exporter": "python",
   "pygments_lexer": "ipython2",
   "version": "2.7.6"
  }
 },
 "nbformat": 4,
 "nbformat_minor": 0
}