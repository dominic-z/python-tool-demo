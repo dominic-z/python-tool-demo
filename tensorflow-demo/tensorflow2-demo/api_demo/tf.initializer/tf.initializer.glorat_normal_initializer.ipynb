{
 "cells": [
  {
   "cell_type": "code",
   "execution_count": 16,
   "metadata": {
    "collapsed": true
   },
   "outputs": [
    {
     "name": "stdout",
     "output_type": "stream",
     "text": [
      "[[-0.01483007 -0.00925672  0.03818021 ... -0.00198543  0.00786805\n",
      "   0.00144947]\n",
      " [ 0.04920571  0.03578892 -0.04670389 ...  0.00769936  0.01746232\n",
      "  -0.00619874]\n",
      " [-0.00373223 -0.02800776 -0.01710116 ... -0.03234499  0.00675657\n",
      "  -0.04024398]\n",
      " ...\n",
      " [-0.0067909   0.02326018  0.01280575 ... -0.0206535   0.03102017\n",
      "   0.02673899]\n",
      " [ 0.0092502   0.0138365  -0.02847067 ... -0.02063151 -0.02090152\n",
      "  -0.00549204]\n",
      " [-0.00996303 -0.00697439 -0.02626278 ... -0.00082489 -0.01768938\n",
      "   0.04712587]]\n",
      "-3.712486e-05\n",
      "0.02577206\n"
     ]
    }
   ],
   "source": [
    "import tensorflow as tf\n",
    "import numpy as np\n",
    "\n",
    "\n",
    "emb_layer=tf.keras.layers.Embedding(input_dim=3000,output_dim=8,\n",
    "                          embeddings_initializer=tf.initializers.glorot_normal())\n",
    "emb_layer.build(input_shape=None)\n",
    "print(emb_layer.weights[0].numpy())\n",
    "print(np.mean(emb_layer.weights[0].numpy()))\n",
    "print(np.std(emb_layer.weights[0].numpy()))"
   ]
  },
  {
   "cell_type": "code",
   "execution_count": 5,
   "outputs": [
    {
     "name": "stdout",
     "output_type": "stream",
     "text": [
      "[<tf.Variable 'embeddings:0' shape=(3000, 8) dtype=float32, numpy=\n",
      "array([[-0.00032126,  0.01254589,  0.03685545, ..., -0.01330885,\n",
      "        -0.01107327, -0.00731869],\n",
      "       [ 0.02472805, -0.02951109, -0.00934979, ...,  0.02663092,\n",
      "        -0.01994818, -0.0374296 ],\n",
      "       [-0.00881724,  0.03716708,  0.01983063, ...,  0.02488482,\n",
      "        -0.00601078, -0.01697728],\n",
      "       ...,\n",
      "       [-0.03415656,  0.02950695, -0.01992515, ..., -0.04580383,\n",
      "         0.03319792, -0.01337741],\n",
      "       [ 0.00525897,  0.01005216, -0.00748744, ..., -0.02986872,\n",
      "        -0.05043417, -0.04203533],\n",
      "       [ 0.0003358 , -0.03046771, -0.00613233, ..., -0.01287685,\n",
      "        -0.01726414,  0.00991839]], dtype=float32)>]\n"
     ]
    }
   ],
   "source": [
    "import tensorflow as tf\n",
    "import numpy as np\n",
    "emb_layer=tf.keras.layers.Embedding(input_dim=3000,output_dim=8,\n",
    "                          embeddings_initializer=tf.initializers.random_normal(mean=0,stddev=np.sqrt(2/(3000+8))))\n",
    "emb_layer.build(input_shape=None)\n",
    "print(emb_layer.weights)"
   ],
   "metadata": {
    "collapsed": false,
    "pycharm": {
     "name": "#%%\n"
    }
   }
  },
  {
   "cell_type": "code",
   "execution_count": null,
   "outputs": [],
   "source": [
    "\n"
   ],
   "metadata": {
    "collapsed": false,
    "pycharm": {
     "name": "#%%\n"
    }
   }
  }
 ],
 "metadata": {
  "kernelspec": {
   "display_name": "Python 3",
   "language": "python",
   "name": "python3"
  },
  "language_info": {
   "codemirror_mode": {
    "name": "ipython",
    "version": 2
   },
   "file_extension": ".py",
   "mimetype": "text/x-python",
   "name": "python",
   "nbconvert_exporter": "python",
   "pygments_lexer": "ipython2",
   "version": "2.7.6"
  }
 },
 "nbformat": 4,
 "nbformat_minor": 0
}