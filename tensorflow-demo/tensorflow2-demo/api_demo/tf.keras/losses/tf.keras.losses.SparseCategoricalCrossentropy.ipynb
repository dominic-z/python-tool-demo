{
 "cells": [
  {
   "cell_type": "code",
   "execution_count": 6,
   "metadata": {
    "collapsed": true
   },
   "outputs": [
    {
     "data": {
      "text/plain": "<tf.Tensor: shape=(), dtype=float64, numpy=1.1612266302108765>"
     },
     "execution_count": 6,
     "metadata": {},
     "output_type": "execute_result"
    }
   ],
   "source": [
    "# 简单使用\n",
    "import numpy as np\n",
    "import tensorflow as tf\n",
    "\n",
    "y_logits=np.random.random(size=[4,3])\n",
    "y_softmax=tf.nn.softmax(y_logits,axis=-1)\n",
    "# y_true不需要one-hot\n",
    "y_true=np.array([1,2,0,1])\n",
    "loss_calculator=tf.keras.losses.SparseCategoricalCrossentropy()\n",
    "loss_calculator(y_true=y_true,y_pred=y_softmax)"
   ]
  },
  {
   "cell_type": "code",
   "execution_count": 7,
   "outputs": [
    {
     "data": {
      "text/plain": "<tf.Tensor: shape=(), dtype=float64, numpy=1.1612266302108765>"
     },
     "execution_count": 7,
     "metadata": {},
     "output_type": "execute_result"
    }
   ],
   "source": [
    "# from_logits用法，即不需要手动写一个softmax\n",
    "loss_calculator=tf.keras.losses.SparseCategoricalCrossentropy(from_logits=True)\n",
    "loss_calculator(y_true=y_true,y_pred=y_logits)\n"
   ],
   "metadata": {
    "collapsed": false,
    "pycharm": {
     "name": "#%%\n"
    }
   }
  },
  {
   "cell_type": "code",
   "execution_count": 8,
   "outputs": [
    {
     "data": {
      "text/plain": "<tf.Tensor: shape=(4, 3), dtype=float64, numpy=\narray([[0.28298815, 0.29733949, 0.41967236],\n       [0.48900825, 0.31601124, 0.19498051],\n       [0.49659089, 0.25120752, 0.25220159],\n       [0.33494951, 0.33381064, 0.33123985]])>"
     },
     "execution_count": 8,
     "metadata": {},
     "output_type": "execute_result"
    }
   ],
   "source": [],
   "metadata": {
    "collapsed": false,
    "pycharm": {
     "name": "#%%\n"
    }
   }
  },
  {
   "cell_type": "code",
   "execution_count": null,
   "outputs": [],
   "source": [
    "\n"
   ],
   "metadata": {
    "collapsed": false,
    "pycharm": {
     "name": "#%%\n"
    }
   }
  }
 ],
 "metadata": {
  "kernelspec": {
   "display_name": "Python 3",
   "language": "python",
   "name": "python3"
  },
  "language_info": {
   "codemirror_mode": {
    "name": "ipython",
    "version": 2
   },
   "file_extension": ".py",
   "mimetype": "text/x-python",
   "name": "python",
   "nbconvert_exporter": "python",
   "pygments_lexer": "ipython2",
   "version": "2.7.6"
  }
 },
 "nbformat": 4,
 "nbformat_minor": 0
}