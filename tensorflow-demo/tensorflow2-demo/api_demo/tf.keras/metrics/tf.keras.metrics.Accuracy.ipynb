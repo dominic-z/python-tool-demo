{
 "cells": [
  {
   "cell_type": "code",
   "execution_count": 5,
   "metadata": {
    "collapsed": true
   },
   "outputs": [
    {
     "name": "stdout",
     "output_type": "stream",
     "text": [
      "tf.Tensor(0.6, shape=(), dtype=float32)\n",
      "tf.Tensor(0.5, shape=(), dtype=float32)\n"
     ]
    }
   ],
   "source": [
    "# tf.keras.metrics.Accuracy可以看到这个玩意不是简单的算准确度，而是叠加地来算准确度，例如下面的第二个结果，就是两次结果的综合准确度 \n",
    "import tensorflow as tf\n",
    "acc_obj=tf.keras.metrics.Accuracy()\n",
    "\n",
    "output=[1,1,1,0,0]\n",
    "labels=[0,1,1,0,1]\n",
    "acc_obj.update_state(y_true=labels,y_pred=output)\n",
    "print(acc_obj.result())\n",
    "\n",
    "output=[1,1,1,0,0]\n",
    "labels=[0,0,1,0,1]\n",
    "acc_obj.update_state(y_true=labels,y_pred=output)\n",
    "print(acc_obj.result())"
   ]
  },
  {
   "cell_type": "code",
   "execution_count": 2,
   "outputs": [
    {
     "data": {
      "text/plain": "0.75"
     },
     "execution_count": 2,
     "metadata": {},
     "output_type": "execute_result"
    }
   ],
   "source": [],
   "metadata": {
    "collapsed": false,
    "pycharm": {
     "name": "#%%\n"
    }
   }
  },
  {
   "cell_type": "code",
   "execution_count": null,
   "outputs": [],
   "source": [
    "\n"
   ],
   "metadata": {
    "collapsed": false,
    "pycharm": {
     "name": "#%%\n"
    }
   }
  }
 ],
 "metadata": {
  "kernelspec": {
   "display_name": "Python 3",
   "language": "python",
   "name": "python3"
  },
  "language_info": {
   "codemirror_mode": {
    "name": "ipython",
    "version": 2
   },
   "file_extension": ".py",
   "mimetype": "text/x-python",
   "name": "python",
   "nbconvert_exporter": "python",
   "pygments_lexer": "ipython2",
   "version": "2.7.6"
  }
 },
 "nbformat": 4,
 "nbformat_minor": 0
}