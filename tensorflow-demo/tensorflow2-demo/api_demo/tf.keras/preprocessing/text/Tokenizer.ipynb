{
 "cells": [
  {
   "cell_type": "code",
   "execution_count": 1,
   "metadata": {
    "collapsed": true
   },
   "outputs": [
    {
     "name": "stdout",
     "output_type": "stream",
     "text": [
      "[[2, 1]]\n",
      "{1: '<NA>', 2: 'hello', 3: 'world', 4: 'new'}\n",
      "{'<NA>': 1, 'hello': 2, 'world': 3, 'new': 4}\n"
     ]
    }
   ],
   "source": [
    "import tensorflow as tf\n",
    "demo_token=tf.keras.preprocessing.text.Tokenizer(oov_token=\"<NA>\")# 指定一个词是oov\n",
    "demo_token.fit_on_texts([\"hello world\",\"hello new world\"])\n",
    "print(demo_token.texts_to_sequences([\"hello text\"]))\n",
    "print(demo_token.index_word)\n",
    "print(demo_token.word_index)"
   ]
  },
  {
   "cell_type": "code",
   "execution_count": 2,
   "outputs": [
    {
     "name": "stdout",
     "output_type": "stream",
     "text": [
      "OrderedDict()\n",
      "OrderedDict([('hello', 1), ('jiji', 1)])\n",
      "OrderedDict([('hello', 1), ('jiji', 1), ('hei', 2), ('j', 1)])\n",
      "OrderedDict([('hello', 1), ('jiji', 1), ('hei', 3), ('j', 1), ('嘿', 1), ('鸡鸡', 1)])\n",
      "[[1, 4]]\n",
      "{\"class_name\": \"Tokenizer\", \"config\": {\"num_words\": 5, \"filters\": \"!\\\"#$%&()*+,-./:;<=>?@[\\\\]^_`{|}~\\t\\n\", \"lower\": true, \"split\": \" \", \"char_level\": false, \"oov_token\": null, \"document_count\": 5, \"word_counts\": \"{\\\"hello\\\": 1, \\\"jiji\\\": 1, \\\"hei\\\": 3, \\\"j\\\": 1, \\\"\\\\u563f\\\": 1, \\\"\\\\u9e21\\\\u9e21\\\": 1}\", \"word_docs\": \"{\\\"hello\\\": 1, \\\"jiji\\\": 1, \\\"hei\\\": 3, \\\"j\\\": 1, \\\"\\\\u563f\\\": 1, \\\"\\\\u9e21\\\\u9e21\\\": 1}\", \"index_docs\": \"{\\\"1\\\": 3, \\\"2\\\": 1, \\\"3\\\": 1, \\\"4\\\": 1, \\\"5\\\": 1, \\\"6\\\": 1}\", \"index_word\": \"{\\\"1\\\": \\\"hei\\\", \\\"2\\\": \\\"hello\\\", \\\"3\\\": \\\"jiji\\\", \\\"4\\\": \\\"j\\\", \\\"5\\\": \\\"\\\\u563f\\\", \\\"6\\\": \\\"\\\\u9e21\\\\u9e21\\\"}\", \"word_index\": \"{\\\"hei\\\": 1, \\\"hello\\\": 2, \\\"jiji\\\": 3, \\\"j\\\": 4, \\\"\\\\u563f\\\": 5, \\\"\\\\u9e21\\\\u9e21\\\": 6}\"}}\n",
      "{'hello': 1, 'jiji': 1, 'hei': 3, 'j': 1, '嘿': 1, '鸡鸡': 1}\n"
     ]
    }
   ],
   "source": [
    "# 持久化\n",
    "import tensorflow as tf\n",
    "tokenizer=tf.keras.preprocessing.text.Tokenizer(num_words=5)\n",
    "print(tokenizer.word_counts)\n",
    "\n",
    "tokenizer.fit_on_texts([\"hello jiji\"])\n",
    "print(tokenizer.word_counts)\n",
    "tokenizer.fit_on_texts([\"hei\",\"hei j\"])\n",
    "print(tokenizer.word_counts)\n",
    "tokenizer.fit_on_texts([\"hei\",\"嘿 鸡鸡\"])\n",
    "print(tokenizer.word_counts)\n",
    "# 是增量的\n",
    "\n",
    "print(tokenizer.texts_to_sequences([\"hei j\"]))\n",
    "\n",
    "print(tokenizer.to_json())\n",
    "\n",
    "new_tokenizer=tf.keras.preprocessing.text.tokenizer_from_json(tokenizer.to_json())\n",
    "print(new_tokenizer.word_counts)"
   ],
   "metadata": {
    "collapsed": false,
    "pycharm": {
     "name": "#%%\n"
    }
   }
  },
  {
   "cell_type": "code",
   "execution_count": null,
   "outputs": [],
   "source": [
    "\n"
   ],
   "metadata": {
    "collapsed": false,
    "pycharm": {
     "name": "#%%\n"
    }
   }
  }
 ],
 "metadata": {
  "kernelspec": {
   "display_name": "Python 3",
   "language": "python",
   "name": "python3"
  },
  "language_info": {
   "codemirror_mode": {
    "name": "ipython",
    "version": 2
   },
   "file_extension": ".py",
   "mimetype": "text/x-python",
   "name": "python",
   "nbconvert_exporter": "python",
   "pygments_lexer": "ipython2",
   "version": "2.7.6"
  }
 },
 "nbformat": 4,
 "nbformat_minor": 0
}