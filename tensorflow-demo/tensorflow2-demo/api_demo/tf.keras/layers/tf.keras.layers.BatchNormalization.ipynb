{
 "cells": [
  {
   "cell_type": "code",
   "execution_count": 1,
   "metadata": {
    "collapsed": true
   },
   "outputs": [
    {
     "name": "stdout",
     "output_type": "stream",
     "text": [
      "\n",
      "training output\n",
      "tf.Tensor(\n",
      "[[[[-1.6383561  -1.6383561  -1.6383561  -1.6383561 ]\n",
      "   [-1.4456083  -1.4456083  -1.4456083  -1.4456083 ]\n",
      "   [-1.2528605  -1.2528605  -1.2528605  -1.2528605 ]]\n",
      "\n",
      "  [[-1.0601127  -1.0601127  -1.0601127  -1.0601127 ]\n",
      "   [-0.867365   -0.867365   -0.867365   -0.867365  ]\n",
      "   [-0.6746172  -0.6746172  -0.6746172  -0.6746172 ]]\n",
      "\n",
      "  [[-0.48186943 -0.48186943 -0.48186943 -0.48186943]\n",
      "   [-0.28912166 -0.28912166 -0.28912166 -0.28912166]\n",
      "   [-0.09637389 -0.09637389 -0.09637389 -0.09637389]]]\n",
      "\n",
      "\n",
      " [[[ 0.09637389  0.09637389  0.09637389  0.09637389]\n",
      "   [ 0.28912166  0.28912166  0.28912166  0.28912166]\n",
      "   [ 0.48186943  0.48186943  0.48186943  0.48186943]]\n",
      "\n",
      "  [[ 0.6746172   0.6746172   0.6746172   0.6746172 ]\n",
      "   [ 0.867365    0.867365    0.867365    0.867365  ]\n",
      "   [ 1.0601127   1.0601127   1.0601127   1.0601127 ]]\n",
      "\n",
      "  [[ 1.2528605   1.2528605   1.2528605   1.2528605 ]\n",
      "   [ 1.4456083   1.4456083   1.4456083   1.4456083 ]\n",
      "   [ 1.6383561   1.6383561   1.6383561   1.6383561 ]]]], shape=(2, 3, 3, 4), dtype=float32)\n",
      "\n",
      " moving xxx 被更新了\n",
      "[<tf.Variable 'batch_normalization/gamma:0' shape=(4,) dtype=float32, numpy=array([1., 1., 1., 1.], dtype=float32)>, <tf.Variable 'batch_normalization/beta:0' shape=(4,) dtype=float32, numpy=array([0., 0., 0., 0.], dtype=float32)>, <tf.Variable 'batch_normalization/moving_mean:0' shape=(4,) dtype=float32, numpy=array([0.34      , 0.35      , 0.35999998, 0.37      ], dtype=float32)>, <tf.Variable 'batch_normalization/moving_variance:0' shape=(4,) dtype=float32, numpy=array([5.55, 5.55, 5.55, 5.55], dtype=float32)>]\n",
      "\n",
      "not training output\n",
      "tf.Tensor(\n",
      "[[[[-0.14432183  0.27590936  0.6961406   1.1163719 ]\n",
      "   [ 1.5535821   1.9738133   2.3940444   2.8142757 ]\n",
      "   [ 3.2514858   3.671717    4.0919485   4.5121794 ]]\n",
      "\n",
      "  [[ 4.94939     5.369621    5.789852    6.2100835 ]\n",
      "   [ 6.6472936   7.067525    7.487756    7.907987  ]\n",
      "   [ 8.345198    8.765429    9.185659    9.605891  ]]\n",
      "\n",
      "  [[10.043101   10.463332   10.883564   11.303795  ]\n",
      "   [11.741005   12.161237   12.581468   13.0016985 ]\n",
      "   [13.43891    13.859141   14.279371   14.699603  ]]]\n",
      "\n",
      "\n",
      " [[[15.136813   15.557045   15.977275   16.397507  ]\n",
      "   [16.834717   17.25495    17.675179   18.095411  ]\n",
      "   [18.532621   18.952852   19.373083   19.793314  ]]\n",
      "\n",
      "  [[20.230524   20.650757   21.070988   21.491219  ]\n",
      "   [21.928429   22.34866    22.76889    23.189123  ]\n",
      "   [23.626333   24.046564   24.466795   24.887026  ]]\n",
      "\n",
      "  [[25.324236   25.744469   26.164698   26.58493   ]\n",
      "   [27.02214    27.442371   27.862602   28.282833  ]\n",
      "   [28.720045   29.140276   29.560507   29.980736  ]]]], shape=(2, 3, 3, 4), dtype=float32)\n"
     ]
    }
   ],
   "source": [
    "# 基本用法\n",
    "import tensorflow as tf\n",
    "import numpy as np\n",
    "tf.compat.v1.reset_default_graph()\n",
    "\n",
    "# 这个axis代表什么\n",
    "# 如果axis=1，那么对于输入的input_tensor来说，根据其第一个轴进行bn\n",
    "# 例如对input_tensor[:,0,:,....]整体计算一个均值，是一个唯一的数字，方差也是，然后用于input_tensor[:,0,:,....]\n",
    "# input_tensor[:,1,:,....]计算一个均值，是一个唯一的数字，方差也是，然后用于input_tensor[:,1,:,....]\n",
    "# 注意，是整体计算均值\n",
    "bn_layer=tf.keras.layers.BatchNormalization(\n",
    "    axis=-1,\n",
    "    epsilon=0,\n",
    "    # beta_initializer=tf.zeros_initializer,\n",
    "    # gamma_initializer=tf.ones_initializer,\n",
    "    # scale=False,\n",
    "    # moving_mean_initializer=tf.constant_initializer(0.5),\n",
    "    # moving_variance_initializer=tf.constant_initializer(0.5),\n",
    "    trainable=True\n",
    ")\n",
    "\n",
    "input_arr=np.reshape(np.arange(0,72),newshape=[2,3,3,4]).astype(np.float32)\n",
    "training_output=bn_layer(input_arr,training=True)\n",
    "print(\"\\ntraining output\")\n",
    "print(training_output)\n",
    "\n",
    "# 可以看到moving xxx被更新了 不需要像tf1那样手动update\n",
    "\n",
    "print(\"\\n moving xxx 被更新了\")\n",
    "print(bn_layer.weights)\n",
    "\n",
    "# 可以看到这时候使用了moving_xxx做正则，结果不同了\n",
    "testing_output=bn_layer(input_arr,training=False)\n",
    "print(\"\\nnot training output\")\n",
    "print(testing_output)"
   ]
  },
  {
   "cell_type": "markdown",
   "source": [
    "bn_layer.updates\n",
    "\n",
    "\n",
    "当然，这个功能仍然没有被删除，这个功能是在tf1中使用的。\n",
    "WARNING:tensorflow:From <ipython-input-2-db43d979b0fc>:1: Layer.updates (from tensorflow.python.keras.engine.base_layer) is deprecated and will be removed in a future version.\n",
    "Instructions for updating:\n",
    "This property should not be used in TensorFlow 2.0, as updates are applied automatically.\n",
    "\n"
   ],
   "metadata": {
    "collapsed": false,
    "pycharm": {
     "name": "#%% md\n"
    }
   }
  },
  {
   "cell_type": "markdown",
   "source": [
    "momentum就是滑动平均值的decay\n"
   ],
   "metadata": {
    "collapsed": false,
    "pycharm": {
     "name": "#%% md\n"
    }
   }
  },
  {
   "cell_type": "markdown",
   "source": [
    "说个恶心事，要区分BatchNormalization求均值的方法和reduce_mean求均值的方法\n",
    "\n",
    "BatchNormalization求均值的时候，是根据axis求整体的均值，而reduce_mean是根据axis求对应位置的均值\n",
    "\n",
    "假如axis=1，输入维度是[a,b,c]，那bn只会求出b个数字，即[:,0,:]的整体均值、。。。、[:,b-1,:]的整体均值\n",
    "\n",
    "但reduce_mean会求出a*c个数字，即[:,0,:]、...、[:,b-1,:]这b个向量的对应位置的均值\n",
    "\n"
   ],
   "metadata": {
    "collapsed": false,
    "pycharm": {
     "name": "#%% md\n"
    }
   }
  }
 ],
 "metadata": {
  "kernelspec": {
   "display_name": "Python 3",
   "language": "python",
   "name": "python3"
  },
  "language_info": {
   "codemirror_mode": {
    "name": "ipython",
    "version": 2
   },
   "file_extension": ".py",
   "mimetype": "text/x-python",
   "name": "python",
   "nbconvert_exporter": "python",
   "pygments_lexer": "ipython2",
   "version": "2.7.6"
  }
 },
 "nbformat": 4,
 "nbformat_minor": 0
}