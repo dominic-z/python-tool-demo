{
 "cells": [
  {
   "cell_type": "code",
   "execution_count": 3,
   "metadata": {
    "collapsed": true
   },
   "outputs": [
    {
     "name": "stdout",
     "output_type": "stream",
     "text": [
      "[<tf.Variable 'kernel:0' shape=(3, 2) dtype=float32, numpy=\n",
      "array([[1., 1.],\n",
      "       [1., 1.],\n",
      "       [1., 1.]], dtype=float32)>, <tf.Variable 'bias:0' shape=(2,) dtype=float32, numpy=array([0., 0.], dtype=float32)>]\n"
     ]
    }
   ],
   "source": [
    "# initializer参数\n",
    "import tensorflow as tf\n",
    "dense_layer=tf.keras.layers.Dense(units=2,kernel_initializer=tf.keras.initializers.truncated_normal,bias_initializer=tf.zeros_initializer)\n",
    "dense_layer.build(input_shape=tf.TensorShape((3,)))\n",
    "print(dense_layer.trainable_variables)"
   ]
  },
  {
   "cell_type": "code",
   "execution_count": 47,
   "outputs": [
    {
     "name": "stdout",
     "output_type": "stream",
     "text": [
      "4/4 [==============================] - 0s 664us/step - loss: 784.6102\b\b\b\b\b\b\b\b\b\b\b\b\b\b\b\b\b\b\b\b\b\b\b\b\b\b\b\b\b\b\b\b\b\b\b\b\b\b\b\b\b\b\b\b\b\b\b\b\b\b\b\b\b\b\b\b\b\n",
      "[<tf.Variable 'dense_46/kernel:0' shape=(784, 10) dtype=float32, numpy=\n",
      "array([[0.99600023, 0.99600023, 0.99600023, ..., 0.99600023, 0.99600023,\n",
      "        0.99600023],\n",
      "       [0.99600023, 0.99600023, 0.99600023, ..., 0.99600023, 0.99600023,\n",
      "        0.99600023],\n",
      "       [0.99600023, 0.99600023, 0.99600023, ..., 0.99600023, 0.99600023,\n",
      "        0.99600023],\n",
      "       ...,\n",
      "       [0.99600023, 0.99600023, 0.99600023, ..., 0.99600023, 0.99600023,\n",
      "        0.99600023],\n",
      "       [0.99600023, 0.99600023, 0.99600023, ..., 0.99600023, 0.99600023,\n",
      "        0.99600023],\n",
      "       [0.99600023, 0.99600023, 0.99600023, ..., 0.99600023, 0.99600023,\n",
      "        0.99600023]], dtype=float32)>, <tf.Variable 'dense_46/bias:0' shape=(10,) dtype=float32, numpy=\n",
      "array([ 0.00224127,  0.000154  , -0.00357168, -0.00150153,  0.00083707,\n",
      "       -0.00394188,  0.00148062, -0.00141218, -0.00156948,  0.00148082],\n",
      "      dtype=float32)>]\n",
      "4/4 [==============================] - 0s 678us/step - loss: 2.2615\b\b\b\b\b\b\b\b\b\b\b\b\b\b\b\b\b\b\b\b\b\b\b\b\b\b\b\b\b\b\b\b\b\b\b\b\b\b\b\b\b\b\b\b\b\b\b\b\b\b\b\b\b\b\b\n",
      "[<tf.Variable 'dense_47/kernel:0' shape=(784, 10) dtype=float32, numpy=\n",
      "array([[1., 1., 1., ..., 1., 1., 1.],\n",
      "       [1., 1., 1., ..., 1., 1., 1.],\n",
      "       [1., 1., 1., ..., 1., 1., 1.],\n",
      "       ...,\n",
      "       [1., 1., 1., ..., 1., 1., 1.],\n",
      "       [1., 1., 1., ..., 1., 1., 1.],\n",
      "       [1., 1., 1., ..., 1., 1., 1.]], dtype=float32)>, <tf.Variable 'dense_47/bias:0' shape=(10,) dtype=float32, numpy=\n",
      "array([ 0.00371065,  0.00095435, -0.00352787,  0.00106279, -0.00123245,\n",
      "       -0.00320943, -0.00034898,  0.00082195, -0.00143136, -0.00052446],\n",
      "      dtype=float32)>]\n"
     ]
    }
   ],
   "source": [
    "# regularizer参数\n",
    "# 这个参数会在model.fit过程中起作用，但如果自己只是计算loss，这些个正则项是不会被自动假如的loss里的，这也合理\n",
    "import tensorflow as tf\n",
    "import numpy as np\n",
    "mnist = tf.keras.datasets.mnist\n",
    "\n",
    "(x_train, y_train), (x_test, y_test) = mnist.load_data()\n",
    "x_train, x_test = x_train / 255.0, x_test / 255.0\n",
    "x_train=x_train[:100]\n",
    "y_train=y_train[:100]\n",
    "\n",
    "input_layer=tf.keras.layers.Input(shape=(28,28),batch_size=None)\n",
    "flatten=tf.keras.layers.Flatten(input_shape=(28, 28))(input_layer)\n",
    "dense=tf.keras.layers.Dense(units=10,\n",
    "                            kernel_initializer=tf.keras.initializers.ones(),\n",
    "                            bias_initializer=tf.keras.initializers.zeros(),\n",
    "                            kernel_regularizer=tf.keras.regularizers.l2(0.1))(flatten)\n",
    "model1=tf.keras.Model(inputs=input_layer,outputs=dense)\n",
    "\n",
    "# output=model1(x_train[np.newaxis,0])\n",
    "# loss=tf.keras.losses.sparse_categorical_crossentropy(y_true=y_train[np.newaxis,np.newaxis,0],y_pred=output,from_logits=True)\n",
    "# print(loss)\n",
    "\n",
    "model1.compile(optimizer=tf.keras.optimizers.Adam(0.001),loss=tf.keras.losses.SparseCategoricalCrossentropy(from_logits=True))\n",
    "model1.fit(x_train,y_train)\n",
    "print(model1.trainable_variables)\n",
    "\n",
    "\n",
    "input_layer=tf.keras.layers.Input(shape=(28,28),batch_size=None)\n",
    "flatten=tf.keras.layers.Flatten(input_shape=(28, 28))(input_layer)\n",
    "dense=tf.keras.layers.Dense(units=10,\n",
    "                            kernel_initializer=tf.keras.initializers.ones(),\n",
    "                            bias_initializer=tf.keras.initializers.zeros())(flatten)\n",
    "model2=tf.keras.Model(inputs=input_layer,outputs=dense)\n",
    "\n",
    "# output=model2(x_train[np.newaxis,0])\n",
    "# loss=tf.keras.losses.sparse_categorical_crossentropy(y_true=y_train[np.newaxis,np.newaxis,0],y_pred=output,from_logits=True)\n",
    "# print(loss)\n",
    "model2.compile(optimizer=tf.keras.optimizers.Adam(0.001),loss=tf.keras.losses.SparseCategoricalCrossentropy(from_logits=True))\n",
    "model2.fit(x_train,y_train,epochs=1)\n",
    "print(model2.trainable_variables)"
   ],
   "metadata": {
    "collapsed": false,
    "pycharm": {
     "name": "#%%\n"
    }
   }
  },
  {
   "cell_type": "code",
   "execution_count": 5,
   "outputs": [
    {
     "name": "stdout",
     "output_type": "stream",
     "text": [
      "tf.Tensor(\n",
      "[[0.         0.        ]\n",
      " [0.25132638 0.        ]\n",
      " [0.6028134  0.        ]\n",
      " [0.42676786 0.        ]\n",
      " [0.33763117 0.        ]\n",
      " [0.16940825 0.15810186]\n",
      " [0.68782127 0.        ]\n",
      " [1.1767977  0.        ]\n",
      " [0.687762   0.        ]\n",
      " [1.3696169  0.        ]], shape=(10, 2), dtype=float32)\n"
     ]
    }
   ],
   "source": [
    "# activation参数\n",
    "import tensorflow as tf\n",
    "import numpy as np\n",
    "\n",
    "input_arr=np.reshape(np.random.random(100),newshape=(10,10)).astype(np.float32) # denselaer\n",
    "#\n",
    "#WARNING:tensorflow:Layer dense_1 is casting an input tensor from dtype float64 to the layer's dtype of float32, which is new behavior in TensorFlow 2.  The layer has dtype float32 because its dtype defaults to floatx.\n",
    "#If you intended to run this layer in float32, you can safely ignore this warning. If in doubt, this warning is likely only an issue if you are porting a TensorFlow 1.X model to TensorFlow 2.\n",
    "#To change all layers to have dtype float64 by default, call `tf.keras.backend.set_floatx('float64')`. To change just this layer, pass dtype='float64' to the layer constructor. If you are the author of this layer, you can disable autocasting by passing autocast=False to the base Layer constructor.\n",
    "\n",
    "dense_layer=tf.keras.layers.Dense(units=2,activation=tf.nn.relu)\n",
    "print(dense_layer(input_arr))\n"
   ],
   "metadata": {
    "collapsed": false,
    "pycharm": {
     "name": "#%%\n"
    }
   }
  },
  {
   "cell_type": "code",
   "execution_count": 16,
   "outputs": [
    {
     "name": "stdout",
     "output_type": "stream",
     "text": [
      "tf.Tensor(\n",
      "[[0.49891895 0.        ]\n",
      " [0.30264843 0.        ]\n",
      " [0.38448787 0.        ]\n",
      " [0.30597767 0.        ]\n",
      " [0.         0.        ]\n",
      " [0.         0.        ]\n",
      " [0.1325359  0.        ]\n",
      " [0.         0.        ]\n",
      " [0.         0.        ]\n",
      " [0.         0.        ]], shape=(10, 2), dtype=float32)\n",
      "(10, 2)\n"
     ]
    }
   ],
   "source": [
    "# output_shape变量\n",
    "# 这个操作会报错\n",
    "# 这个方法仅仅在一些情况下可以用\n",
    "\"\"\"\n",
    "Only applicable if the layer has exactly one input,\n",
    "    i.e. if it is connected to one incoming layer, or if all inputs\n",
    "    have the same shape.\n",
    "\"\"\"\n",
    "input_arr=np.reshape(np.random.random(100),newshape=(10,10)).astype(np.float32)\n",
    "dense_layer=tf.keras.layers.Dense(units=2,activation=tf.nn.relu)\n",
    "# dense_layer.build(tf.TensorShape((None,2)))\n",
    "out=dense_layer(input_arr)\n",
    "print(out)\n",
    "dense_layer.input_shape"
   ],
   "metadata": {
    "collapsed": false,
    "pycharm": {
     "name": "#%%\n"
    }
   }
  },
  {
   "cell_type": "code",
   "execution_count": 17,
   "outputs": [
    {
     "data": {
      "text/plain": "TensorShape([None, 2])"
     },
     "execution_count": 17,
     "metadata": {},
     "output_type": "execute_result"
    }
   ],
   "source": [
    "# compute_output_shape方法\n",
    "dense_layer.compute_output_shape(tf.TensorShape((None,2)))"
   ],
   "metadata": {
    "collapsed": false,
    "pycharm": {
     "name": "#%%\n"
    }
   }
  },
  {
   "cell_type": "code",
   "execution_count": 3,
   "outputs": [],
   "source": [
    "# 取正则化\n",
    "# tf.keras.layers.Dense的正则化参数只在model+compile里有用\n",
    "import tensorflow as tf\n",
    "dense_layer=tf.keras.layers.Dense(units=2,kernel_initializer=tf.keras.initializers.truncated_normal,bias_initializer=tf.zeros_initializer)\n",
    "dense_layer.build([3,4])\n",
    "dense_layer.weights\n"
   ],
   "metadata": {
    "collapsed": false,
    "pycharm": {
     "name": "#%%\n"
    }
   }
  },
  {
   "cell_type": "code",
   "execution_count": 4,
   "outputs": [
    {
     "data": {
      "text/plain": "[<tf.Variable 'kernel:0' shape=(4, 2) dtype=float32, numpy=\n array([[-0.05108262, -0.0523339 ],\n        [ 0.08787255, -0.04206546],\n        [ 0.02371662, -0.07115013],\n        [ 0.0161767 , -0.07686727]], dtype=float32)>,\n <tf.Variable 'bias:0' shape=(2,) dtype=float32, numpy=array([0., 0.], dtype=float32)>]"
     },
     "execution_count": 4,
     "metadata": {},
     "output_type": "execute_result"
    }
   ],
   "source": [],
   "metadata": {
    "collapsed": false,
    "pycharm": {
     "name": "#%%\n"
    }
   }
  },
  {
   "cell_type": "code",
   "execution_count": null,
   "outputs": [],
   "source": [
    "\n"
   ],
   "metadata": {
    "collapsed": false,
    "pycharm": {
     "name": "#%%\n"
    }
   }
  }
 ],
 "metadata": {
  "kernelspec": {
   "display_name": "Python 3",
   "language": "python",
   "name": "python3"
  },
  "language_info": {
   "codemirror_mode": {
    "name": "ipython",
    "version": 2
   },
   "file_extension": ".py",
   "mimetype": "text/x-python",
   "name": "python",
   "nbconvert_exporter": "python",
   "pygments_lexer": "ipython2",
   "version": "2.7.6"
  }
 },
 "nbformat": 4,
 "nbformat_minor": 0
}