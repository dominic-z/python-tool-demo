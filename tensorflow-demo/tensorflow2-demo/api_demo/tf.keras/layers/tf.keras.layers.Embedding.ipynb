{
 "cells": [
  {
   "cell_type": "code",
   "execution_count": 1,
   "metadata": {
    "collapsed": true
   },
   "outputs": [
    {
     "name": "stdout",
     "output_type": "stream",
     "text": [
      "(10, 3, 4)\n"
     ]
    }
   ],
   "source": [
    "# emb_layer，输入可以是float，也可以是int哦\n",
    "import tensorflow as tf\n",
    "import numpy as np\n",
    "emb_layer=tf.keras.layers.Embedding(input_dim=4,output_dim=4)\n",
    "input_arr=np.random.randint(0,3,size=[10,3]).astype(np.float32)\n",
    "\n",
    "print(emb_layer(input_arr).shape)"
   ]
  },
  {
   "cell_type": "code",
   "execution_count": 2,
   "outputs": [
    {
     "name": "stdout",
     "output_type": "stream",
     "text": [
      "Model: \"sequential\"\n",
      "_________________________________________________________________\n",
      "Layer (type)                 Output Shape              Param #   \n",
      "=================================================================\n",
      "embedding_1 (Embedding)      (None, 2, 64)             2048      \n",
      "_________________________________________________________________\n",
      "flatten (Flatten)            (None, 128)               0         \n",
      "_________________________________________________________________\n",
      "dense (Dense)                (None, 2)                 258       \n",
      "=================================================================\n",
      "Total params: 2,306\n",
      "Trainable params: 2,306\n",
      "Non-trainable params: 0\n",
      "_________________________________________________________________\n",
      "(10, 4, 64)\n"
     ]
    }
   ],
   "source": [
    "\n",
    "# input_length指的就是输入序列的长度，用于计算输出维度用的，例如下面的例子\n",
    "# embedding屁股后面跟着个flatten，如果不知道embedding的输出，那么flatten输出的维度也会不定\n",
    "# 导致后面的dense层无法成功构建\n",
    "# 如果把input_length关了，model.add(tf.keras.layers.Dense(2))会报错\n",
    "import tensorflow as tf\n",
    "import numpy as np\n",
    "model = tf.keras.Sequential()\n",
    "emb_layer=tf.keras.layers.Embedding(32, 64, input_length=2)\n",
    "model.add(emb_layer)\n",
    "model.add(tf.keras.layers.Flatten())\n",
    "model.add(tf.keras.layers.Dense(2))\n",
    "model.compile()\n",
    "model.summary()\n",
    "\n",
    "# 当然如果不使用model.add，而是手动调用layer进行计算的话，这个参数没啥影响\n",
    "input_arr=np.random.randint(0,3,size=[10,4]).astype(np.float32)\n",
    "print(emb_layer(input_arr).shape)"
   ],
   "metadata": {
    "collapsed": false,
    "pycharm": {
     "name": "#%%\n"
    }
   }
  },
  {
   "cell_type": "code",
   "execution_count": 29,
   "outputs": [
    {
     "name": "stdout",
     "output_type": "stream",
     "text": [
      "tf.Tensor(\n",
      "[[0.9999878 0.9999878]\n",
      " [0.        0.       ]], shape=(2, 2), dtype=float32)\n",
      "\n",
      "如果不musk的话\n",
      "tf.Tensor(\n",
      "[[0.99998784 0.99998784]\n",
      " [0.99998784 0.99998784]], shape=(2, 2), dtype=float32)\n",
      "\n",
      "当然如果不使用model.add，而是手动调用layer进行计算的话，这个参数没啥影响\n",
      "tf.Tensor(\n",
      "[[[1. 1. 1. 1.]\n",
      "  [1. 1. 1. 1.]\n",
      "  [1. 1. 1. 1.]]\n",
      "\n",
      " [[1. 1. 1. 1.]\n",
      "  [1. 1. 1. 1.]\n",
      "  [1. 1. 1. 1.]]], shape=(2, 3, 4), dtype=float32)\n"
     ]
    }
   ],
   "source": [
    "# mask_zero\n",
    "import tensorflow as tf\n",
    "import numpy as np\n",
    "input_array = np.array([[2,2,0],[0,0,0]])\n",
    "emb_layer_mask=tf.keras.layers.Embedding(input_dim=32,output_dim=4,mask_zero=True,embeddings_initializer=tf.ones_initializer)\n",
    "emb_layer_not_mask=tf.keras.layers.Embedding(input_dim=32,output_dim=4,mask_zero=False,embeddings_initializer=tf.ones_initializer)\n",
    "\n",
    "model= tf.keras.Sequential()\n",
    "model.add(emb_layer_mask)\n",
    "model.add(tf.keras.layers.RNN(cell=tf.keras.layers.SimpleRNNCell(units=2,kernel_initializer=tf.ones_initializer,recurrent_initializer=tf.ones_initializer)))\n",
    "model.compile()\n",
    "print(model(input_array))\n",
    "\n",
    "print(\"\\n如果不musk的话\")\n",
    "model= tf.keras.Sequential()\n",
    "model.add(emb_layer_not_mask)\n",
    "model.add(tf.keras.layers.RNN(cell=tf.keras.layers.SimpleRNNCell(units=2,kernel_initializer=tf.ones_initializer,recurrent_initializer=tf.ones_initializer)))\n",
    "model.compile()\n",
    "print(model(input_array))\n",
    "\n",
    "print(\"\\n当然如果不使用model.add，而是手动调用layer进行计算的话，这个参数没啥影响\")\n",
    "print(emb_layer_mask(input_array))\n",
    "\n"
   ],
   "metadata": {
    "collapsed": false,
    "pycharm": {
     "name": "#%%\n"
    }
   }
  }
 ],
 "metadata": {
  "kernelspec": {
   "display_name": "Python 3",
   "language": "python",
   "name": "python3"
  },
  "language_info": {
   "codemirror_mode": {
    "name": "ipython",
    "version": 2
   },
   "file_extension": ".py",
   "mimetype": "text/x-python",
   "name": "python",
   "nbconvert_exporter": "python",
   "pygments_lexer": "ipython2",
   "version": "2.7.6"
  }
 },
 "nbformat": 4,
 "nbformat_minor": 0
}