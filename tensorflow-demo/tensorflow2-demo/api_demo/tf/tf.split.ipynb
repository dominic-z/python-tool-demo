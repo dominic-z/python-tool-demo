{
 "cells": [
  {
   "cell_type": "code",
   "execution_count": 1,
   "metadata": {
    "collapsed": true
   },
   "outputs": [
    {
     "name": "stdout",
     "output_type": "stream",
     "text": [
      "along axis 0\n",
      "[<tf.Tensor: shape=(1, 6), dtype=int32, numpy=array([[0, 1, 2, 3, 4, 5]], dtype=int32)>, <tf.Tensor: shape=(1, 6), dtype=int32, numpy=array([[ 6,  7,  8,  9, 10, 11]], dtype=int32)>, <tf.Tensor: shape=(1, 6), dtype=int32, numpy=array([[12, 13, 14, 15, 16, 17]], dtype=int32)>, <tf.Tensor: shape=(1, 6), dtype=int32, numpy=array([[18, 19, 20, 21, 22, 23]], dtype=int32)>, <tf.Tensor: shape=(1, 6), dtype=int32, numpy=array([[24, 25, 26, 27, 28, 29]], dtype=int32)>]\n",
      "\n",
      "along axis 1\n",
      "[<tf.Tensor: shape=(5, 2), dtype=int32, numpy=\n",
      "array([[ 0,  1],\n",
      "       [ 6,  7],\n",
      "       [12, 13],\n",
      "       [18, 19],\n",
      "       [24, 25]], dtype=int32)>, <tf.Tensor: shape=(5, 2), dtype=int32, numpy=\n",
      "array([[ 2,  3],\n",
      "       [ 8,  9],\n",
      "       [14, 15],\n",
      "       [20, 21],\n",
      "       [26, 27]], dtype=int32)>, <tf.Tensor: shape=(5, 2), dtype=int32, numpy=\n",
      "array([[ 4,  5],\n",
      "       [10, 11],\n",
      "       [16, 17],\n",
      "       [22, 23],\n",
      "       [28, 29]], dtype=int32)>]\n",
      "\n",
      "num_or_size_splits is a list\n",
      "[<tf.Tensor: shape=(5, 1), dtype=int32, numpy=\n",
      "array([[ 0],\n",
      "       [ 6],\n",
      "       [12],\n",
      "       [18],\n",
      "       [24]], dtype=int32)>, <tf.Tensor: shape=(5, 2), dtype=int32, numpy=\n",
      "array([[ 1,  2],\n",
      "       [ 7,  8],\n",
      "       [13, 14],\n",
      "       [19, 20],\n",
      "       [25, 26]], dtype=int32)>, <tf.Tensor: shape=(5, 3), dtype=int32, numpy=\n",
      "array([[ 3,  4,  5],\n",
      "       [ 9, 10, 11],\n",
      "       [15, 16, 17],\n",
      "       [21, 22, 23],\n",
      "       [27, 28, 29]], dtype=int32)>]\n",
      "\n",
      "along axis 0\n",
      "[<tf.Tensor: shape=(1,), dtype=int32, numpy=array([0], dtype=int32)>, <tf.Tensor: shape=(1,), dtype=int32, numpy=array([1], dtype=int32)>, <tf.Tensor: shape=(1,), dtype=int32, numpy=array([2], dtype=int32)>, <tf.Tensor: shape=(1,), dtype=int32, numpy=array([3], dtype=int32)>, <tf.Tensor: shape=(1,), dtype=int32, numpy=array([4], dtype=int32)>, <tf.Tensor: shape=(1,), dtype=int32, numpy=array([5], dtype=int32)>, <tf.Tensor: shape=(1,), dtype=int32, numpy=array([6], dtype=int32)>, <tf.Tensor: shape=(1,), dtype=int32, numpy=array([7], dtype=int32)>, <tf.Tensor: shape=(1,), dtype=int32, numpy=array([8], dtype=int32)>, <tf.Tensor: shape=(1,), dtype=int32, numpy=array([9], dtype=int32)>, <tf.Tensor: shape=(1,), dtype=int32, numpy=array([10], dtype=int32)>, <tf.Tensor: shape=(1,), dtype=int32, numpy=array([11], dtype=int32)>, <tf.Tensor: shape=(1,), dtype=int32, numpy=array([12], dtype=int32)>, <tf.Tensor: shape=(1,), dtype=int32, numpy=array([13], dtype=int32)>, <tf.Tensor: shape=(1,), dtype=int32, numpy=array([14], dtype=int32)>, <tf.Tensor: shape=(1,), dtype=int32, numpy=array([15], dtype=int32)>, <tf.Tensor: shape=(1,), dtype=int32, numpy=array([16], dtype=int32)>, <tf.Tensor: shape=(1,), dtype=int32, numpy=array([17], dtype=int32)>, <tf.Tensor: shape=(1,), dtype=int32, numpy=array([18], dtype=int32)>, <tf.Tensor: shape=(1,), dtype=int32, numpy=array([19], dtype=int32)>, <tf.Tensor: shape=(1,), dtype=int32, numpy=array([20], dtype=int32)>, <tf.Tensor: shape=(1,), dtype=int32, numpy=array([21], dtype=int32)>, <tf.Tensor: shape=(1,), dtype=int32, numpy=array([22], dtype=int32)>, <tf.Tensor: shape=(1,), dtype=int32, numpy=array([23], dtype=int32)>, <tf.Tensor: shape=(1,), dtype=int32, numpy=array([24], dtype=int32)>, <tf.Tensor: shape=(1,), dtype=int32, numpy=array([25], dtype=int32)>, <tf.Tensor: shape=(1,), dtype=int32, numpy=array([26], dtype=int32)>, <tf.Tensor: shape=(1,), dtype=int32, numpy=array([27], dtype=int32)>, <tf.Tensor: shape=(1,), dtype=int32, numpy=array([28], dtype=int32)>, <tf.Tensor: shape=(1,), dtype=int32, numpy=array([29], dtype=int32)>]\n"
     ]
    }
   ],
   "source": [
    "import tensorflow as tf\n",
    "\n",
    "# tf.split\n",
    "\n",
    "x = tf.Variable(tf.reshape(tf.range(0,30),(5,6)))\n",
    "\n",
    "# Split `x` into 3 tensors along dimension 1\n",
    "print(\"along axis 0\")\n",
    "l = tf.split(x, num_or_size_splits=5, axis=0)\n",
    "print(l)\n",
    "print(\"\\nalong axis 1\")\n",
    "l = tf.split(x, num_or_size_splits=3, axis=1)\n",
    "print(l)\n",
    "\n",
    "print(\"\\nnum_or_size_splits is a list\")\n",
    "l = tf.split(x, num_or_size_splits=[1,2,3], axis=1)\n",
    "print(l)\n",
    "\n",
    "print(\"\\nalong axis 0\")\n",
    "x = tf.Variable(tf.range(0,30))\n",
    "l = tf.split(x, num_or_size_splits=30, axis=0)\n",
    "print(l)\n"
   ]
  },
  {
   "cell_type": "code",
   "execution_count": null,
   "outputs": [],
   "source": [
    "\n"
   ],
   "metadata": {
    "collapsed": false,
    "pycharm": {
     "name": "#%%\n"
    }
   }
  }
 ],
 "metadata": {
  "kernelspec": {
   "display_name": "Python 3",
   "language": "python",
   "name": "python3"
  },
  "language_info": {
   "codemirror_mode": {
    "name": "ipython",
    "version": 2
   },
   "file_extension": ".py",
   "mimetype": "text/x-python",
   "name": "python",
   "nbconvert_exporter": "python",
   "pygments_lexer": "ipython2",
   "version": "2.7.6"
  }
 },
 "nbformat": 4,
 "nbformat_minor": 0
}