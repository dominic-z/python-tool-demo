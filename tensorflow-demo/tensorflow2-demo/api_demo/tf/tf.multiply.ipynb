{
 "cells": [
  {
   "cell_type": "code",
   "execution_count": 4,
   "metadata": {
    "collapsed": true
   },
   "outputs": [
    {
     "data": {
      "text/plain": "<tf.Tensor: shape=(3, 4, 5), dtype=int64, numpy=\narray([[[   0,  -59, -116, -171, -224],\n        [-275, -324, -371, -416, -459],\n        [-500, -539, -576, -611, -644],\n        [-675, -704, -731, -756, -779]],\n\n       [[-800, -819, -836, -851, -864],\n        [-875, -884, -891, -896, -899],\n        [-900, -899, -896, -891, -884],\n        [-875, -864, -851, -836, -819]],\n\n       [[-800, -779, -756, -731, -704],\n        [-675, -644, -611, -576, -539],\n        [-500, -459, -416, -371, -324],\n        [-275, -224, -171, -116,  -59]]])>"
     },
     "execution_count": 4,
     "metadata": {},
     "output_type": "execute_result"
    }
   ],
   "source": [
    "# 对应位置相乘\n",
    "import numpy as np\n",
    "import tensorflow as tf\n",
    "arr1=np.reshape(np.arange(0,60),newshape=(3,4,5))\n",
    "arr2=np.reshape(np.arange(-60,0),newshape=(3,4,5))\n",
    "\n",
    "tf.multiply(arr1,arr2)"
   ]
  },
  {
   "cell_type": "code",
   "execution_count": null,
   "outputs": [],
   "source": [
    "\n"
   ],
   "metadata": {
    "collapsed": false,
    "pycharm": {
     "name": "#%%\n"
    }
   }
  }
 ],
 "metadata": {
  "kernelspec": {
   "display_name": "Python 3",
   "language": "python",
   "name": "python3"
  },
  "language_info": {
   "codemirror_mode": {
    "name": "ipython",
    "version": 2
   },
   "file_extension": ".py",
   "mimetype": "text/x-python",
   "name": "python",
   "nbconvert_exporter": "python",
   "pygments_lexer": "ipython2",
   "version": "2.7.6"
  }
 },
 "nbformat": 4,
 "nbformat_minor": 0
}