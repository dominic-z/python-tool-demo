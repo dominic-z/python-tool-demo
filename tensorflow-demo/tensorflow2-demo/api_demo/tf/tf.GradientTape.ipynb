{
 "cells": [
  {
   "cell_type": "code",
   "execution_count": 1,
   "metadata": {
    "collapsed": true
   },
   "outputs": [
    {
     "name": "stdout",
     "output_type": "stream",
     "text": [
      "tf.Tensor(\n",
      "[[  5.6075783  -6.7396502]\n",
      " [ 14.689421  -22.427818 ]], shape=(2, 2), dtype=float32)\n",
      "[<tf.Variable 'dense/kernel:0' shape=(5, 2) dtype=float32, numpy=\n",
      "array([[-0.5221443 , -0.80656815],\n",
      "       [ 0.8729869 , -0.51005256],\n",
      "       [ 0.46929502, -0.1005199 ],\n",
      "       [ 0.18892133, -0.8534138 ],\n",
      "       [ 0.8073094 , -0.86707914]], dtype=float32)>, <tf.Variable 'dense/bias:0' shape=(2,) dtype=float32, numpy=array([0., 0.], dtype=float32)>]\n",
      "[<tf.Tensor: shape=(5, 2), dtype=float32, numpy=\n",
      "array([[ 5.,  5.],\n",
      "       [ 7.,  7.],\n",
      "       [ 9.,  9.],\n",
      "       [11., 11.],\n",
      "       [13., 13.]], dtype=float32)>, <tf.Tensor: shape=(2,), dtype=float32, numpy=array([2., 2.], dtype=float32)>]\n",
      "=================================\n",
      "tf.Tensor(\n",
      "[[-0.6295054  -1.2359316 ]\n",
      " [ 0.06381881 -4.8461185 ]], shape=(2, 2), dtype=float32)\n",
      "[]\n",
      "[]\n",
      "=================================\n",
      "tf.Tensor(6.0, shape=(), dtype=float32)\n",
      "=================================\n"
     ]
    }
   ],
   "source": [
    "# tf.GradientTape\n",
    "\n",
    "import tensorflow as tf\n",
    "\n",
    "model = tf.keras.Sequential()\n",
    "model.add(tf.keras.layers.Dense(2,input_shape=(None,5)))\n",
    "input_x = tf.reshape(tf.range(0,10),(2,5))\n",
    "\n",
    "with tf.GradientTape() as tape1:\n",
    "    output_y1=model(input_x)\n",
    "print(output_y1)\n",
    "print(model.trainable_variables)\n",
    "grad1 = tape1.gradient(output_y1,model.trainable_variables)\n",
    "print(grad1)\n",
    "\n",
    "print(\"=================================\")\n",
    "model_not_trained=tf.keras.Sequential()\n",
    "model_not_trained.add(tf.keras.layers.Dense(2,input_shape=(None,5),trainable=False))\n",
    "with tf.GradientTape() as tape2:\n",
    "    output_y2=model_not_trained(input_x)\n",
    "print(output_y2)\n",
    "print(model_not_trained.trainable_variables) # empty\n",
    "grad2 = tape2.gradient(output_y2,model_not_trained.trainable_variables)\n",
    "print(grad2) # so it's empty too\n",
    "\n",
    "print(\"=================================\")\n",
    "\n",
    "x = tf.constant(3.0)\n",
    "with tf.GradientTape() as g:\n",
    "  g.watch(x)\n",
    "  y = x * x\n",
    "dy_dx = g.gradient(y, x)\n",
    "print(dy_dx)\n",
    "\n",
    "# 这个可以用来计算某一个公式的梯度，只不过需要手动watch一下自变量\n",
    "\n",
    "\n",
    "print(\"=================================\")\n",
    "\n"
   ]
  },
  {
   "cell_type": "code",
   "execution_count": 2,
   "outputs": [
    {
     "name": "stdout",
     "output_type": "stream",
     "text": [
      "tf.Tensor(1.0, shape=(), dtype=float32)\n",
      "tf.Tensor(1.0, shape=(), dtype=float32)\n"
     ]
    },
    {
     "data": {
      "text/plain": "0.52497923"
     },
     "execution_count": 2,
     "metadata": {},
     "output_type": "execute_result"
    }
   ],
   "source": [
    "import tensorflow as tf\n",
    "\n",
    "@tf.custom_gradient\n",
    "def log1pexp(x):\n",
    "  e = tf.exp(x)\n",
    "  def grad(dy):\n",
    "    print(dy)\n",
    "    return dy * (1 - 1 / (1 + e))\n",
    "  return tf.math.log(1 + e), grad\n",
    "\n",
    "\n",
    "# 自定义梯度的写法，返回一个结果，第二个参数是根据结果计算梯度的方法\n",
    "# 具体咋用看api介绍吧，急着出去玩了\n",
    "\n",
    "def grad_log1pexp(x):\n",
    "  with tf.GradientTape() as tape:\n",
    "    tape.watch(x)\n",
    "    value = log1pexp(x)\n",
    "  \n",
    "  return tape.gradient(value, x)\n",
    "\n",
    "grad_log1pexp(tf.constant(100.)).numpy()\n",
    "\n",
    "grad_log1pexp(tf.constant(.1)).numpy()\n"
   ],
   "metadata": {
    "collapsed": false,
    "pycharm": {
     "name": "#%%\n"
    }
   }
  }
 ],
 "metadata": {
  "kernelspec": {
   "display_name": "Python 3",
   "language": "python",
   "name": "python3"
  },
  "language_info": {
   "codemirror_mode": {
    "name": "ipython",
    "version": 2
   },
   "file_extension": ".py",
   "mimetype": "text/x-python",
   "name": "python",
   "nbconvert_exporter": "python",
   "pygments_lexer": "ipython2",
   "version": "2.7.6"
  }
 },
 "nbformat": 4,
 "nbformat_minor": 0
}