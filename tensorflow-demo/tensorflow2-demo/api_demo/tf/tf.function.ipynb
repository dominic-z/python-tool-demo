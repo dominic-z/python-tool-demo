{
 "cells": [
  {
   "cell_type": "code",
   "execution_count": 31,
   "metadata": {
    "collapsed": true
   },
   "outputs": [
    {
     "name": "stdout",
     "output_type": "stream",
     "text": [
      "exec 1\n",
      "0\n",
      "1\n",
      "2\n",
      "exec 1\n",
      "0\n",
      "1\n",
      "2\n",
      "[<tf.Tensor 'strided_slice:0' shape=() dtype=int32>, <tf.Tensor 'strided_slice_1:0' shape=() dtype=int32>, <tf.Tensor 'strided_slice_2:0' shape=() dtype=int32>]\n",
      "[<tf.Tensor 'while/add:0' shape=() dtype=int32>]\n",
      "[<tf.Tensor 'while/add:0' shape=() dtype=int32>]\n"
     ]
    }
   ],
   "source": [
    "import tensorflow as tf\n",
    "tf.compat.v1.reset_default_graph()\n",
    "\"\"\"\n",
    "tf.function\n",
    "Compiles a function into a callable TensorFlow graph.\n",
    "被装饰的这个方法会被tensorflow解析，将这里的运算逻辑放入graph中\n",
    "tensorflow是定义与运算分离。\n",
    "可以看到下面的exec只会执行一次，这时实际是在trace阶段（追踪数据流向轨迹、定义或者说编译）\n",
    "\n",
    "先看下面的两个f1，说明trace阶段是在第一次调用是做的\n",
    "而第二次调用的时候，实际上就只执行了f1中的图计算部分，即生成一个张量以及循环的三次write\n",
    "\n",
    "再看f2部分，可以看到l是有3个值，而且只是普通的没有值的tensor\n",
    "这是因为这个f2里除了一个循环之外，并没有真正的图计算的op，因此没有读取到值\n",
    "\n",
    "f3里只会执行一次，这也是因为除了循环之外没有真正的图计算op，图里只知道有一个循环\n",
    "所以结果只是一个while/add:0\n",
    "但至于为什么f2的循环会执行三次，我猜只可能是lenx和直接对x循环的差别吧\n",
    "\"\"\"\n",
    "\n",
    "\n",
    "@tf.function\n",
    "def f1(x):\n",
    "  print(\"exec 1\")\n",
    "  ta = tf.TensorArray(dtype=tf.int32, size=0, dynamic_size=True)\n",
    "  for i in range(len(x)):\n",
    "    print(i)\n",
    "    ta = ta.write(i, x[i] + 1)\n",
    "  return ta.stack()\n",
    "f1(tf.constant([1, 2, 3]))\n",
    "f1(tf.constant([1, 2, 3]))\n",
    "\n",
    "l = []\n",
    "@tf.function\n",
    "def f2(x):\n",
    "  print(\"exec 1\")\n",
    "  for i in range(len(x)):\n",
    "    print(i) # 那这个为啥会执行三次啊\n",
    "    l.append(x[i])\n",
    "f2(tf.constant([1, 2, 3]))\n",
    "print(l)\n",
    "\n",
    "l=[]\n",
    "@tf.function\n",
    "def f3(x):\n",
    "  for i in x:\n",
    "    l.append(i + 1)    # Caution! Will only happen once when tracing\n",
    "f3(tf.constant([1, 2, 3]))\n",
    "print(l)\n",
    "f3(tf.constant([1, 2, 3]))\n",
    "print(l)"
   ]
  },
  {
   "cell_type": "code",
   "execution_count": 3,
   "outputs": [
    {
     "name": "stdout",
     "output_type": "stream",
     "text": [
      "tf.Tensor(\n",
      "[[[ 0  1  2  3  4  5]\n",
      "  [ 6  7  8  9 10 11]\n",
      "  [12 13 14 15 16 17]\n",
      "  [18 19 20 21 22 23]]\n",
      "\n",
      " [[24 25 26 27 28 29]\n",
      "  [30 31 32 33 34 35]\n",
      "  [36 37 38 39 40 41]\n",
      "  [42 43 44 45 46 47]]], shape=(2, 4, 6), dtype=int32)\n",
      "tf.Tensor(\n",
      "[[[[ 0  1]\n",
      "   [ 2  3]\n",
      "   [ 4  5]]\n",
      "\n",
      "  [[ 6  7]\n",
      "   [ 8  9]\n",
      "   [10 11]]\n",
      "\n",
      "  [[12 13]\n",
      "   [14 15]\n",
      "   [16 17]]\n",
      "\n",
      "  [[18 19]\n",
      "   [20 21]\n",
      "   [22 23]]]\n",
      "\n",
      "\n",
      " [[[24 25]\n",
      "   [26 27]\n",
      "   [28 29]]\n",
      "\n",
      "  [[30 31]\n",
      "   [32 33]\n",
      "   [34 35]]\n",
      "\n",
      "  [[36 37]\n",
      "   [38 39]\n",
      "   [40 41]]\n",
      "\n",
      "  [[42 43]\n",
      "   [44 45]\n",
      "   [46 47]]]], shape=(2, 4, 3, 2), dtype=int32)\n",
      "tf.Tensor(\n",
      "[[[[ 0  1]\n",
      "   [ 2  3]\n",
      "   [ 4  5]\n",
      "   [ 6  7]]\n",
      "\n",
      "  [[ 8  9]\n",
      "   [10 11]\n",
      "   [12 13]\n",
      "   [14 15]]\n",
      "\n",
      "  [[16 17]\n",
      "   [18 19]\n",
      "   [20 21]\n",
      "   [22 23]]]\n",
      "\n",
      "\n",
      " [[[24 25]\n",
      "   [26 27]\n",
      "   [28 29]\n",
      "   [30 31]]\n",
      "\n",
      "  [[32 33]\n",
      "   [34 35]\n",
      "   [36 37]\n",
      "   [38 39]]\n",
      "\n",
      "  [[40 41]\n",
      "   [42 43]\n",
      "   [44 45]\n",
      "   [46 47]]]], shape=(2, 3, 4, 2), dtype=int32)\n",
      "tf.Tensor(\n",
      "[[[[ 0  1  2  3]\n",
      "   [ 4  5  6  7]\n",
      "   [ 8  9 10 11]]\n",
      "\n",
      "  [[12 13 14 15]\n",
      "   [16 17 18 19]\n",
      "   [20 21 22 23]]]\n",
      "\n",
      "\n",
      " [[[24 25 26 27]\n",
      "   [28 29 30 31]\n",
      "   [32 33 34 35]]\n",
      "\n",
      "  [[36 37 38 39]\n",
      "   [40 41 42 43]\n",
      "   [44 45 46 47]]]], shape=(2, 2, 3, 4), dtype=int32)\n"
     ]
    }
   ],
   "source": [
    "\n",
    "\n"
   ],
   "metadata": {
    "collapsed": false,
    "pycharm": {
     "name": "#%%\n"
    }
   }
  },
  {
   "cell_type": "code",
   "execution_count": null,
   "outputs": [],
   "source": [
    "\n"
   ],
   "metadata": {
    "collapsed": false,
    "pycharm": {
     "name": "#%%\n"
    }
   }
  }
 ],
 "metadata": {
  "kernelspec": {
   "display_name": "Python 3",
   "language": "python",
   "name": "python3"
  },
  "language_info": {
   "codemirror_mode": {
    "name": "ipython",
    "version": 2
   },
   "file_extension": ".py",
   "mimetype": "text/x-python",
   "name": "python",
   "nbconvert_exporter": "python",
   "pygments_lexer": "ipython2",
   "version": "2.7.6"
  }
 },
 "nbformat": 4,
 "nbformat_minor": 0
}