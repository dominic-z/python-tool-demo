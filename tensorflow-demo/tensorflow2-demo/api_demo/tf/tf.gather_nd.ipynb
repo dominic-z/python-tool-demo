{
 "cells": [
  {
   "cell_type": "code",
   "execution_count": 4,
   "metadata": {
    "collapsed": true
   },
   "outputs": [
    {
     "name": "stdout",
     "output_type": "stream",
     "text": [
      "下面两者操作相同\n",
      "tensor结果\n",
      "tf.Tensor(\n",
      "[[[40 41 42 43 44]\n",
      "  [45 46 47 48 49]\n",
      "  [50 51 52 53 54]\n",
      "  [55 56 57 58 59]]\n",
      "\n",
      " [[20 21 22 23 24]\n",
      "  [25 26 27 28 29]\n",
      "  [30 31 32 33 34]\n",
      "  [35 36 37 38 39]]], shape=(2, 4, 5), dtype=int64)\n",
      "arr切片结果\n",
      "[[[40 41 42 43 44]\n",
      "  [45 46 47 48 49]\n",
      "  [50 51 52 53 54]\n",
      "  [55 56 57 58 59]]\n",
      "\n",
      " [[20 21 22 23 24]\n",
      "  [25 26 27 28 29]\n",
      "  [30 31 32 33 34]\n",
      "  [35 36 37 38 39]]]\n",
      "\n",
      "下面两者操作相同\n",
      "tensor结果\n",
      "tf.Tensor(\n",
      "[[40 41 42 43 44]\n",
      " [45 46 47 48 49]\n",
      " [50 51 52 53 54]\n",
      " [55 56 57 58 59]], shape=(4, 5), dtype=int64)\n",
      "arr切片结果\n",
      "[[10 11 12 13 14]\n",
      " [30 31 32 33 34]\n",
      " [50 51 52 53 54]]\n"
     ]
    }
   ],
   "source": [
    "# tf.gather_nd\n",
    "import tensorflow as tf\n",
    "import numpy as np\n",
    "\n",
    "arr=np.reshape(np.arange(0,60),newshape=(3,4,5))\n",
    "\n",
    "print(\"下面两者操作相同\")\n",
    "print(\"tensor结果\")\n",
    "print(tf.gather_nd(arr,indices=[[2],[1]]))\n",
    "print(\"arr切片结果\")\n",
    "print(arr[[2,1],:,:])\n",
    "\n"
   ]
  },
  {
   "cell_type": "code",
   "source": [
    "import tensorflow as tf\n",
    "import numpy as np\n",
    "arr=np.reshape(np.arange(0,60),newshape=(3,4,5))\n",
    "print(\"\\n下面两者操作相同\")\n",
    "print(\"tensor结果\")\n",
    "print(tf.gather_nd(arr,indices=[[2,1],[1,2]]))\n",
    "print(\"arr切片结果\")\n",
    "print(\"相当于arr[2,1,:]拼arr[1,2,:]\")\n",
    "print(arr[[2,1],[1,2]])"
   ],
   "metadata": {
    "collapsed": false,
    "pycharm": {
     "name": "#%%\n"
    }
   },
   "execution_count": 5,
   "outputs": [
    {
     "name": "stdout",
     "output_type": "stream",
     "text": [
      "\n",
      "下面两者操作相同\n",
      "tensor结果\n",
      "tf.Tensor(\n",
      "[[45 46 47 48 49]\n",
      " [30 31 32 33 34]], shape=(2, 5), dtype=int64)\n",
      "arr切片结果\n",
      "[[45 46 47 48 49]\n",
      " [30 31 32 33 34]]\n"
     ]
    }
   ]
  },
  {
   "cell_type": "code",
   "execution_count": 20,
   "outputs": [
    {
     "name": "stdout",
     "output_type": "stream",
     "text": [
      "\n",
      "下面两者操作相同\n",
      "tensor结果\n",
      "tf.Tensor(\n",
      "[[[45 46 47 48 49]\n",
      "  [30 31 32 33 34]]], shape=(1, 2, 5), dtype=int64)\n",
      "arr切片结果\n",
      "[[[45 46 47 48 49]\n",
      "  [30 31 32 33 34]]]\n"
     ]
    }
   ],
   "source": [
    "import tensorflow as tf\n",
    "import numpy as np\n",
    "arr=np.reshape(np.arange(0,60),newshape=(3,4,5))\n",
    "print(\"\\n下面两者操作相同\")\n",
    "print(\"tensor结果\")\n",
    "print(tf.gather_nd(arr,indices=[[[2,1],[1,2]]]))\n",
    "print(\"arr切片结果\")\n",
    "print(np.expand_dims(arr[[2,1],[1,2]],axis=0))"
   ],
   "metadata": {
    "collapsed": false,
    "pycharm": {
     "name": "#%%\n"
    }
   }
  },
  {
   "cell_type": "code",
   "execution_count": 21,
   "outputs": [
    {
     "name": "stdout",
     "output_type": "stream",
     "text": [
      "\n",
      "下面两者操作相同\n",
      "tensor结果\n",
      "tf.Tensor(\n",
      "[[[45 46 47 48 49]]\n",
      "\n",
      " [[30 31 32 33 34]]], shape=(2, 1, 5), dtype=int64)\n",
      "arr切片结果\n",
      "[[[45 46 47 48 49]]\n",
      "\n",
      " [[30 31 32 33 34]]]\n"
     ]
    }
   ],
   "source": [
    "import tensorflow as tf\n",
    "import numpy as np\n",
    "arr=np.reshape(np.arange(0,60),newshape=(3,4,5))\n",
    "print(\"\\n下面两者操作相同\")\n",
    "print(\"tensor结果\")\n",
    "print(tf.gather_nd(arr,indices=[[[2,1]],[[1,2]]]))\n",
    "print(\"arr切片结果\")\n",
    "print(np.expand_dims(arr[[2,1],[1,2]],axis=1))"
   ],
   "metadata": {
    "collapsed": false,
    "pycharm": {
     "name": "#%%\n"
    }
   }
  },
  {
   "cell_type": "code",
   "execution_count": 36,
   "outputs": [
    {
     "name": "stdout",
     "output_type": "stream",
     "text": [
      "\n",
      "下面两者操作相同\n",
      "tensor结果\n",
      "tf.Tensor([ 1 27 48], shape=(3,), dtype=int64)\n",
      "arr切片结果\n",
      "1\n",
      "27\n",
      "48\n"
     ]
    }
   ],
   "source": [
    "# batch_dims\n",
    "import tensorflow as tf\n",
    "import numpy as np\n",
    "arr=np.reshape(np.arange(0,60),newshape=(3,4,5))\n",
    "print(\"\\n下面两者操作相同\")\n",
    "print(\"tensor结果\")\n",
    "print(tf.gather_nd(arr,indices=[[0,1],[1,2],[1,3]],batch_dims=1))\n",
    "print(\"arr切片结果\")\n",
    "print(arr[0,0,1])\n",
    "print(arr[1,1,2])\n",
    "print(arr[2,1,3])"
   ],
   "metadata": {
    "collapsed": false,
    "pycharm": {
     "name": "#%%\n"
    }
   }
  },
  {
   "cell_type": "code",
   "execution_count": 41,
   "outputs": [
    {
     "name": "stdout",
     "output_type": "stream",
     "text": [
      "\n",
      "下面两者操作相同\n",
      "tensor结果\n",
      "tf.Tensor(\n",
      "[[ 5  6  7  8  9]\n",
      " [30 31 32 33 34]\n",
      " [35 36 37 38 39]], shape=(3, 5), dtype=int64)\n",
      "arr切片结果\n",
      "[5 6 7 8 9]\n",
      "[30 31 32 33 34]\n",
      "[35 36 37 38 39]\n"
     ]
    }
   ],
   "source": [
    "# batch_dims\n",
    "import tensorflow as tf\n",
    "import numpy as np\n",
    "arr=np.reshape(np.arange(0,60),newshape=(3,4,5))\n",
    "print(\"\\n下面两者操作相同\")\n",
    "print(\"tensor结果\")\n",
    "print(tf.gather_nd(arr,indices=[[0,1],[1,2],[1,3]],batch_dims=0))\n",
    "print(\"arr切片结果\")\n",
    "print(arr[0,1,:])\n",
    "print(arr[1,2,:])\n",
    "print(arr[1,3,:])\n"
   ],
   "metadata": {
    "collapsed": false,
    "pycharm": {
     "name": "#%%\n"
    }
   }
  },
  {
   "cell_type": "code",
   "execution_count": null,
   "outputs": [],
   "source": [
    "\n"
   ],
   "metadata": {
    "collapsed": false,
    "pycharm": {
     "name": "#%%\n"
    }
   }
  }
 ],
 "metadata": {
  "kernelspec": {
   "display_name": "Python 3",
   "language": "python",
   "name": "python3"
  },
  "language_info": {
   "codemirror_mode": {
    "name": "ipython",
    "version": 2
   },
   "file_extension": ".py",
   "mimetype": "text/x-python",
   "name": "python",
   "nbconvert_exporter": "python",
   "pygments_lexer": "ipython2",
   "version": "2.7.6"
  }
 },
 "nbformat": 4,
 "nbformat_minor": 0
}