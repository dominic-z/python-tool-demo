{
 "cells": [
  {
   "cell_type": "code",
   "execution_count": null,
   "metadata": {
    "collapsed": true
   },
   "outputs": [],
   "source": [
    "\"\"\"\n",
    "讲解tf.reshape\n",
    "这个reshape就是重新排序，其中-1代表不指定，tf自动计算出来\n",
    "reshape的规则是，以最后一行作为讲解\n",
    "原始tensor是2,4,6要变为2,2,3,4；\n",
    "那就先从最后一个轴(0,0,:)取前4个数组成一个有4个数的一维向量；\n",
    "然后再从(0,0,4:6)取出4个数，发现不够，那再从(0,1,:2)取两个凑够4个，组成第二个有4个数的一维向量；\n",
    "重复上述过程直到构建了三个有4个数字的一维向量。就构成了一个结果的(0,0,0,:)\n",
    "反复上述过程\n",
    "\"\"\"\n",
    "import tensorflow as tf\n",
    "t = tf.reshape(tf.range(0,48),[2,4,6])\n",
    "print(t)\n",
    "print(tf.reshape(t, [2,4,-1,2]))\n",
    "print(tf.reshape(t, [2,-1,4,2]))\n",
    "print(tf.reshape(t, [2,2,3,4]))"
   ]
  },
  {
   "cell_type": "code",
   "execution_count": null,
   "outputs": [],
   "source": [
    "\"\"\"\n",
    "讲解tf.transpose\n",
    "第0维没动，最后两个维度翻转，翻转结果为2，1；\n",
    "也就是把原本第1个轴上相同位置的元素构成一个维度作为新tensor的最后一个维度\n",
    "\"\"\"\n",
    "# x = tf.constant([[[ 1,  2,  3],\n",
    "#                   [ 4,  5,  6]],\n",
    "#                  [[ 7,  8,  9],\n",
    "#                   [10, 11, 12]]])\n",
    "# print(x)\n",
    "# tf.transpose(x, perm=[0, 2, 1])\n",
    "\n",
    "t = tf.reshape(tf.range(0,48),[2,3,2,4])\n",
    "print(t)\n",
    "trans_t=tf.transpose(t,perm=[0,2,3,1])\n",
    "print(trans_t)\n",
    "\"\"\"\n",
    "对于这些列表套列表的高纬度数组，不要只认为他们是列表套列表，更要理解成他们是由不同的轴组成的，每个轴上都有一串数字，可以看做一维向量\n",
    "例如t[0,0,:,0]，就代表着当0轴1轴3轴都取值为0的时候，2轴的一串数字\n",
    "而如果perm=[0,2,3,1]，就代表着，原本的2轴被挪到了新的1轴，原本3轴对应新2轴，原本1轴对应新3轴，所以才有最后的等式关系\n",
    "\"\"\"\n",
    "print(t[0,:,0,0])\n",
    "print(t[0,0,:,0])\n",
    "print(t[0,0,:,1])\n",
    "# print(t[0,:,0,2])\n",
    "# print(t[0,:,0,3])\n",
    "\n",
    "\n",
    "print(t[0,0,:,0]==trans_t[0,:,0,0])\n",
    "print(t[0,0,:,1]==trans_t[0,:,1,0])\n"
   ],
   "metadata": {
    "collapsed": false,
    "pycharm": {
     "name": "#%%\n"
    }
   }
  }
 ],
 "metadata": {
  "kernelspec": {
   "display_name": "Python 3",
   "language": "python",
   "name": "python3"
  },
  "language_info": {
   "codemirror_mode": {
    "name": "ipython",
    "version": 2
   },
   "file_extension": ".py",
   "mimetype": "text/x-python",
   "name": "python",
   "nbconvert_exporter": "python",
   "pygments_lexer": "ipython2",
   "version": "2.7.6"
  }
 },
 "nbformat": 4,
 "nbformat_minor": 0
}