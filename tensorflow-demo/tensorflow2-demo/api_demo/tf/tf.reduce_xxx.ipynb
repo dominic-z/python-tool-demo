{
 "cells": [
  {
   "cell_type": "code",
   "execution_count": 2,
   "metadata": {
    "collapsed": true
   },
   "outputs": [
    {
     "name": "stdout",
     "output_type": "stream",
     "text": [
      "tf.reduce_sum手动计算结果\n",
      "tf.Tensor(\n",
      "[[[ 30  33  36  39  42]\n",
      "  [ 45  48  51  54  57]]\n",
      "\n",
      " [[120 123 126 129 132]\n",
      "  [135 138 141 144 147]]], shape=(2, 2, 5), dtype=int64)\n",
      "\n",
      "手动计算结果\n",
      "[[[ 30  33  36  39  42]\n",
      "  [ 45  48  51  54  57]]\n",
      "\n",
      " [[120 123 126 129 132]\n",
      "  [135 138 141 144 147]]]\n",
      "\n",
      " 对应位置相加\n",
      "30\n",
      "tf.Tensor(30, shape=(), dtype=int64)\n"
     ]
    }
   ],
   "source": [
    "import tensorflow as tf\n",
    "import numpy as np\n",
    "\n",
    "arr=np.reshape(np.arange(0,60),[2,3,2,5])\n",
    "tf_res=tf.reduce_sum(arr,axis=[1])\n",
    "print(\"tf.reduce_sum手动计算结果\")\n",
    "print(tf_res)\n",
    "\n",
    "print(\"\\n手动计算结果\")\n",
    "# 是对应位置相加\n",
    "artifical_res=arr[:,0,:,:]+arr[:,1,:,:]+arr[:,2,:,:]\n",
    "print(artifical_res)\n",
    "\n",
    "print(\"\\n 对应位置相加\")\n",
    "print(np.sum(arr[0,:,0,0]))\n",
    "print(tf_res[0,0,0])"
   ]
  },
  {
   "cell_type": "code",
   "execution_count": 7,
   "outputs": [
    {
     "name": "stdout",
     "output_type": "stream",
     "text": [
      "tf.reduce_sum手动计算结果\n",
      "tf.Tensor(\n",
      "[[ 75  81  87  93  99]\n",
      " [255 261 267 273 279]], shape=(2, 5), dtype=int64)\n",
      "\n",
      "手动计算结果\n",
      "[[ 75  81  87  93  99]\n",
      " [255 261 267 273 279]]\n"
     ]
    }
   ],
   "source": [
    "# axis作用\n",
    "import tensorflow as tf\n",
    "import numpy as np\n",
    "arr=np.reshape(np.arange(0,60),[2,3,2,5])\n",
    "tf_res=tf.reduce_sum(arr,axis=[1,2])\n",
    "print(\"tf.reduce_sum手动计算结果\")\n",
    "print(tf_res)\n",
    "\n",
    "print(\"\\n手动计算结果\")\n",
    "artifical_res=arr[:,0,0,:]+arr[:,1,0,:]+arr[:,2,0,:]+arr[:,0,1,:]+arr[:,1,1,:]+arr[:,2,1,:]\n",
    "print(artifical_res)"
   ],
   "metadata": {
    "collapsed": false,
    "pycharm": {
     "name": "#%%\n"
    }
   }
  },
  {
   "cell_type": "code",
   "execution_count": null,
   "outputs": [],
   "source": [
    "\n"
   ],
   "metadata": {
    "collapsed": false,
    "pycharm": {
     "name": "#%%\n"
    }
   }
  }
 ],
 "metadata": {
  "kernelspec": {
   "display_name": "Python 3",
   "language": "python",
   "name": "python3"
  },
  "language_info": {
   "codemirror_mode": {
    "name": "ipython",
    "version": 2
   },
   "file_extension": ".py",
   "mimetype": "text/x-python",
   "name": "python",
   "nbconvert_exporter": "python",
   "pygments_lexer": "ipython2",
   "version": "2.7.6"
  }
 },
 "nbformat": 4,
 "nbformat_minor": 0
}