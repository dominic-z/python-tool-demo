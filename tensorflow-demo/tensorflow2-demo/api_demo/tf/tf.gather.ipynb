{
 "cells": [
  {
   "cell_type": "code",
   "execution_count": 5,
   "metadata": {
    "collapsed": true
   },
   "outputs": [
    {
     "name": "stdout",
     "output_type": "stream",
     "text": [
      "下面两者操作相同\n",
      "tensor结果\n",
      "tf.Tensor(\n",
      "[[40 41 42 43 44]\n",
      " [45 46 47 48 49]\n",
      " [50 51 52 53 54]\n",
      " [55 56 57 58 59]], shape=(4, 5), dtype=int64)\n",
      "arr切片结果\n",
      "[[40 41 42 43 44]\n",
      " [45 46 47 48 49]\n",
      " [50 51 52 53 54]\n",
      " [55 56 57 58 59]]\n",
      "\n",
      "下面两者操作相同\n",
      "tensor结果\n",
      "tf.Tensor(\n",
      "[[10 11 12 13 14]\n",
      " [30 31 32 33 34]\n",
      " [50 51 52 53 54]], shape=(3, 5), dtype=int64)\n",
      "arr切片结果\n",
      "[[10 11 12 13 14]\n",
      " [30 31 32 33 34]\n",
      " [50 51 52 53 54]]\n"
     ]
    }
   ],
   "source": [
    "# tf.gather\n",
    "import tensorflow as tf\n",
    "import numpy as np\n",
    "\n",
    "arr=np.reshape(np.arange(0,60),newshape=(3,4,5))\n",
    "\n",
    "print(\"下面两者操作相同\")\n",
    "print(\"tensor结果\")\n",
    "print(tf.gather(arr,indices=2))\n",
    "print(\"arr切片结果\")\n",
    "print(arr[2,:,:])\n",
    "\n",
    "print(\"\\n下面两者操作相同\")\n",
    "print(\"tensor结果\")\n",
    "print(tf.gather(arr,indices=2,axis=1))\n",
    "print(\"arr切片结果\")\n",
    "print(arr[:,2,:])"
   ]
  },
  {
   "cell_type": "markdown",
   "source": [
    "其实就是`tf`不支持像对`np.ndarr`那样的`arr[:,2,:]`的操作，只能通过`tf.gather`来实现\n",
    "`axis`就是指定从哪个轴上取"
   ],
   "metadata": {
    "collapsed": false,
    "pycharm": {
     "name": "#%% md\n"
    }
   }
  },
  {
   "cell_type": "code",
   "execution_count": 7,
   "outputs": [
    {
     "name": "stdout",
     "output_type": "stream",
     "text": [
      "\n",
      "下面两者操作相同\n",
      "tensor结果\n",
      "tf.Tensor(\n",
      "[[[ 5  6  7  8  9]\n",
      "  [10 11 12 13 14]]\n",
      "\n",
      " [[25 26 27 28 29]\n",
      "  [30 31 32 33 34]]\n",
      "\n",
      " [[45 46 47 48 49]\n",
      "  [50 51 52 53 54]]], shape=(3, 2, 5), dtype=int64)\n",
      "arr切片结果\n",
      "[[[ 5  6  7  8  9]\n",
      "  [10 11 12 13 14]]\n",
      "\n",
      " [[25 26 27 28 29]\n",
      "  [30 31 32 33 34]]\n",
      "\n",
      " [[45 46 47 48 49]\n",
      "  [50 51 52 53 54]]]\n",
      "\n",
      "下面两者操作相同\n",
      "tensor结果\n",
      "tf.Tensor(\n",
      "[[[ 5  6  7  8  9]\n",
      "  [ 5  6  7  8  9]\n",
      "  [10 11 12 13 14]]\n",
      "\n",
      " [[25 26 27 28 29]\n",
      "  [25 26 27 28 29]\n",
      "  [30 31 32 33 34]]\n",
      "\n",
      " [[45 46 47 48 49]\n",
      "  [45 46 47 48 49]\n",
      "  [50 51 52 53 54]]], shape=(3, 3, 5), dtype=int64)\n",
      "arr切片结果\n",
      "[[[ 5  6  7  8  9]\n",
      "  [ 5  6  7  8  9]\n",
      "  [10 11 12 13 14]]\n",
      "\n",
      " [[25 26 27 28 29]\n",
      "  [25 26 27 28 29]\n",
      "  [30 31 32 33 34]]\n",
      "\n",
      " [[45 46 47 48 49]\n",
      "  [45 46 47 48 49]\n",
      "  [50 51 52 53 54]]]\n"
     ]
    }
   ],
   "source": [
    "# tf.gather 的indices参数作用\n",
    "import tensorflow as tf\n",
    "import numpy as np\n",
    "\n",
    "arr=np.reshape(np.arange(0,60),newshape=(3,4,5))\n",
    "\n",
    "print(\"\\n下面两者操作相同\")\n",
    "print(\"tensor结果\")\n",
    "print(tf.gather(arr,indices=[1,2],axis=1))\n",
    "print(\"arr切片结果\")\n",
    "print(arr[:,[1,2],:])\n",
    "\n",
    "print(\"\\n下面两者操作相同\")\n",
    "print(\"tensor结果\")\n",
    "print(tf.gather(arr,indices=[1,1,2],axis=1))\n",
    "print(\"arr切片结果\")\n",
    "print(arr[:,[1,1,2],:])\n"
   ],
   "metadata": {
    "collapsed": false,
    "pycharm": {
     "name": "#%%\n"
    }
   }
  },
  {
   "cell_type": "code",
   "execution_count": null,
   "outputs": [],
   "source": [
    "\n"
   ],
   "metadata": {
    "collapsed": false,
    "pycharm": {
     "name": "#%%\n"
    }
   }
  }
 ],
 "metadata": {
  "kernelspec": {
   "display_name": "Python 3",
   "language": "python",
   "name": "python3"
  },
  "language_info": {
   "codemirror_mode": {
    "name": "ipython",
    "version": 2
   },
   "file_extension": ".py",
   "mimetype": "text/x-python",
   "name": "python",
   "nbconvert_exporter": "python",
   "pygments_lexer": "ipython2",
   "version": "2.7.6"
  }
 },
 "nbformat": 4,
 "nbformat_minor": 0
}