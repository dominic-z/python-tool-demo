{
 "cells": [
  {
   "cell_type": "code",
   "execution_count": 6,
   "metadata": {
    "collapsed": true
   },
   "outputs": [
    {
     "name": "stdout",
     "output_type": "stream",
     "text": [
      "矩阵相乘的结果\n",
      "tf.Tensor(\n",
      "[[[[ -1080  -1070  -1060  -1050]\n",
      "   [ -3880  -3845  -3810  -3775]\n",
      "   [ -6680  -6620  -6560  -6500]\n",
      "   [ -9480  -9395  -9310  -9225]]\n",
      "\n",
      "  [[-10080  -9970  -9860  -9750]\n",
      "   [-12380 -12245 -12110 -11975]\n",
      "   [-14680 -14520 -14360 -14200]\n",
      "   [-16980 -16795 -16610 -16425]]\n",
      "\n",
      "  [[-15080 -14870 -14660 -14450]\n",
      "   [-16880 -16645 -16410 -16175]\n",
      "   [-18680 -18420 -18160 -17900]\n",
      "   [-20480 -20195 -19910 -19625]]]\n",
      "\n",
      "\n",
      " [[[-16080 -15770 -15460 -15150]\n",
      "   [-17380 -17045 -16710 -16375]\n",
      "   [-18680 -18320 -17960 -17600]\n",
      "   [-19980 -19595 -19210 -18825]]\n",
      "\n",
      "  [[-13080 -12670 -12260 -11850]\n",
      "   [-13880 -13445 -13010 -12575]\n",
      "   [-14680 -14220 -13760 -13300]\n",
      "   [-15480 -14995 -14510 -14025]]\n",
      "\n",
      "  [[ -6080  -5570  -5060  -4550]\n",
      "   [ -6380  -5845  -5310  -4775]\n",
      "   [ -6680  -6120  -5560  -5000]\n",
      "   [ -6980  -6395  -5810  -5225]]]], shape=(2, 3, 4, 4), dtype=int64)\n",
      "(2, 3, 4, 4)\n",
      "\n",
      "结果的计算规则\n",
      "tf.Tensor(\n",
      "[[-1080 -1070 -1060 -1050]\n",
      " [-3880 -3845 -3810 -3775]\n",
      " [-6680 -6620 -6560 -6500]\n",
      " [-9480 -9395 -9310 -9225]], shape=(4, 4), dtype=int64)\n",
      "[[-1080 -1070 -1060 -1050]\n",
      " [-3880 -3845 -3810 -3775]\n",
      " [-6680 -6620 -6560 -6500]\n",
      " [-9480 -9395 -9310 -9225]]\n"
     ]
    }
   ],
   "source": [
    "# tf.matmul 矩阵相乘\n",
    "import numpy as np\n",
    "import tensorflow as tf\n",
    "arr1=np.reshape(np.arange(0,120),newshape=(2,3,4,5))\n",
    "arr2=np.reshape(np.arange(-120,0),newshape=(2,3,5,4))\n",
    "res=tf.matmul(arr1,arr2)\n",
    "\n",
    "print(\"矩阵相乘的结果\")\n",
    "print(res)\n",
    "print(res.shape)\n",
    "\n",
    "print(\"\\n结果的计算规则\")\n",
    "print(res[0,0,:,:])\n",
    "print(np.matmul(arr1[0,0,:,:],arr2[0,0,:,:]))\n",
    "print(\"把最后两个轴作为矩阵，进行相乘\")"
   ]
  },
  {
   "cell_type": "code",
   "execution_count": null,
   "outputs": [],
   "source": [
    "\n"
   ],
   "metadata": {
    "collapsed": false,
    "pycharm": {
     "name": "#%%\n"
    }
   }
  }
 ],
 "metadata": {
  "kernelspec": {
   "display_name": "Python 3",
   "language": "python",
   "name": "python3"
  },
  "language_info": {
   "codemirror_mode": {
    "name": "ipython",
    "version": 2
   },
   "file_extension": ".py",
   "mimetype": "text/x-python",
   "name": "python",
   "nbconvert_exporter": "python",
   "pygments_lexer": "ipython2",
   "version": "2.7.6"
  }
 },
 "nbformat": 4,
 "nbformat_minor": 0
}