{
 "cells": [
  {
   "cell_type": "code",
   "execution_count": null,
   "metadata": {
    "collapsed": true
   },
   "outputs": [],
   "source": [
    "import tensorflow as tf"
   ]
  },
  {
   "cell_type": "code",
   "execution_count": null,
   "outputs": [],
   "source": [
    "# sample_from_datasets\n",
    "a_ds=tf.data.Dataset.range(0,10)\n",
    "b_ds=tf.data.Dataset.range(-10,0)\n",
    "ab_ds = tf.data.experimental.sample_from_datasets([a_ds, b_ds], weights=[0.5, 0.5])\n",
    "\n",
    "# 这个东西的功能就是Samples elements at random from the datasets\n",
    "# 随机从这些个dataset里选择样本，而最终结果的ab_ds的长度，就等于a_ds与b_ds的长度和\n",
    "# ab_ds的构造过程是，为每个子ds都设立一个指针，以weights的概率去选择一个指针，并将指针指的元素拿出来放入结果中，然后该指针后移一位】\n",
    "# 而子ds可以构造成无限长的\n",
    "\n",
    "for i in ab_ds:\n",
    "    print(i)\n"
   ],
   "metadata": {
    "collapsed": false,
    "pycharm": {
     "name": "#%%\n"
    }
   }
  }
 ],
 "metadata": {
  "kernelspec": {
   "display_name": "Python 3",
   "language": "python",
   "name": "python3"
  },
  "language_info": {
   "codemirror_mode": {
    "name": "ipython",
    "version": 2
   },
   "file_extension": ".py",
   "mimetype": "text/x-python",
   "name": "python",
   "nbconvert_exporter": "python",
   "pygments_lexer": "ipython2",
   "version": "2.7.6"
  }
 },
 "nbformat": 4,
 "nbformat_minor": 0
}