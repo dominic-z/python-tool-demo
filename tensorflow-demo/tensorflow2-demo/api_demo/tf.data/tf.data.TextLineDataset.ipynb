{
 "cells": [
  {
   "cell_type": "code",
   "execution_count": 1,
   "metadata": {
    "collapsed": true
   },
   "outputs": [
    {
     "name": "stdout",
     "output_type": "stream",
     "text": [
      "(<tf.Tensor: shape=(3,), dtype=float32, numpy=array([1., 2., 3.], dtype=float32)>, <tf.Tensor: shape=(), dtype=string, numpy=b'hello world \\xe4\\xbd\\xa0\\xe5\\xa5\\xbd'>)\n",
      "(<tf.Tensor: shape=(3,), dtype=float32, numpy=array([4., 9., 3.], dtype=float32)>, <tf.Tensor: shape=(), dtype=string, numpy=b'hello ji hei ji'>)\n"
     ]
    }
   ],
   "source": [
    "import tensorflow as tf\n",
    "input_ds=tf.data.TextLineDataset(\"input.csv\")\n",
    "def decode(line):\n",
    "    row=tf.io.decode_csv(line,[\"a\",\"b\",\"c\",\"d\"])\n",
    "    number_values=list(map(tf.strings.to_number,row[:-1]))\n",
    "    return number_values,row[-1]\n",
    "decode_ds=input_ds.map(decode)\n",
    "for row in decode_ds:\n",
    "    print(row)"
   ]
  },
  {
   "cell_type": "code",
   "execution_count": null,
   "outputs": [],
   "source": [
    "\n"
   ],
   "metadata": {
    "collapsed": false,
    "pycharm": {
     "name": "#%%\n"
    }
   }
  }
 ],
 "metadata": {
  "kernelspec": {
   "display_name": "Python 3",
   "language": "python",
   "name": "python3"
  },
  "language_info": {
   "codemirror_mode": {
    "name": "ipython",
    "version": 2
   },
   "file_extension": ".py",
   "mimetype": "text/x-python",
   "name": "python",
   "nbconvert_exporter": "python",
   "pygments_lexer": "ipython2",
   "version": "2.7.6"
  }
 },
 "nbformat": 4,
 "nbformat_minor": 0
}