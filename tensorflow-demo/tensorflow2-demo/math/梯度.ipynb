{
 "cells": [
  {
   "cell_type": "code",
   "execution_count": 11,
   "metadata": {
    "collapsed": true
   },
   "outputs": [
    {
     "name": "stdout",
     "output_type": "stream",
     "text": [
      "tf.Tensor([[5.18154   5.4293575]], shape=(1, 2), dtype=float32)\n",
      "tf.Tensor([[5.18154 0.     ]], shape=(1, 2), dtype=float32)\n",
      "tf.Tensor(\n",
      "[[0.19052559 0.        ]\n",
      " [0.38105118 0.        ]\n",
      " [0.5715768  0.        ]], shape=(3, 2), dtype=float32)\n",
      "tf.Tensor(\n",
      "[[5.18154 5.18154]\n",
      " [0.      0.     ]], shape=(2, 2), dtype=float32)\n"
     ]
    }
   ],
   "source": [
    "# 如果某个神经元的输出恒定为0，那么损失对该神经元之后的1个的参数和之前的所有参数的梯度都是0\n",
    "import tensorflow as tf\n",
    "w1 = tf.Variable(tf.random.normal((3, 2)), name='w1')\n",
    "b1 = tf.Variable(tf.ones(2, dtype=tf.float32), name='b1')\n",
    "\n",
    "w2 = tf.Variable(tf.random.normal((2, 2)), name='w1')\n",
    "b2 = tf.Variable(tf.ones(2, dtype=tf.float32), name='b1')\n",
    "x = [[1., 2., 3.]]\n",
    "with tf.GradientTape() as tape:\n",
    "    y1=tf.matmul(x,w1)+b1\n",
    "    y2=tf.multiply(y1,[1,0])\n",
    "    y3=tf.matmul(y2,w2)+b2\n",
    "    dw1,dw2=tape.gradient(y3,[w1,w2])\n",
    "print(y1)\n",
    "print(y2)\n",
    "print(dw1)\n",
    "print(dw2)\n"
   ]
  },
  {
   "cell_type": "code",
   "execution_count": 6,
   "outputs": [],
   "source": [],
   "metadata": {
    "collapsed": false,
    "pycharm": {
     "name": "#%%\n"
    }
   }
  },
  {
   "cell_type": "code",
   "execution_count": null,
   "outputs": [],
   "source": [
    "\n"
   ],
   "metadata": {
    "collapsed": false,
    "pycharm": {
     "name": "#%%\n"
    }
   }
  }
 ],
 "metadata": {
  "kernelspec": {
   "display_name": "Python 3",
   "language": "python",
   "name": "python3"
  },
  "language_info": {
   "codemirror_mode": {
    "name": "ipython",
    "version": 2
   },
   "file_extension": ".py",
   "mimetype": "text/x-python",
   "name": "python",
   "nbconvert_exporter": "python",
   "pygments_lexer": "ipython2",
   "version": "2.7.6"
  }
 },
 "nbformat": 4,
 "nbformat_minor": 0
}