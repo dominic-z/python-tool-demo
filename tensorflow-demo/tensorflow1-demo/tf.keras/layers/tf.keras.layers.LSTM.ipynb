{
 "cells": [
  {
   "cell_type": "code",
   "execution_count": null,
   "metadata": {
    "collapsed": true
   },
   "outputs": [],
   "source": [
    "import tensorflow as tf\n",
    "import numpy as np\n",
    "tf.reset_default_graph()\n",
    "input_arr=np.reshape(np.random.random(100).astype(np.float32),newshape=(10,10,1))\n",
    "label_arr=np.reshape(np.random.randint(0,2,10),newshape=(10,))\n",
    "input_ds=tf.data.Dataset.from_tensor_slices(input_arr)\n",
    "label_ds=tf.data.Dataset.from_tensor_slices(label_arr)\n",
    "batched_input_ds=input_ds.batch(5)\n",
    "batched_label_ds=label_ds.batch(5)\n",
    "zipped_ds=tf.data.Dataset.zip((batched_input_ds,batched_label_ds))\n",
    "input_batch,label_batch=zipped_ds.make_one_shot_iterator().get_next()\n",
    "\n",
    "lstm_layer=tf.keras.layers.LSTM(units=10,return_state=True,return_sequences=True)\n",
    "lstm_layer.build(tf.TensorShape((None,10,1)))\n",
    "output=lstm_layer(input_batch)\n",
    "\n",
    "with tf.Session() as sess:\n",
    "    sess.run(tf.global_variables_initializer())\n",
    "    print(sess.run(output))\n"
   ]
  }
 ],
 "metadata": {
  "kernelspec": {
   "display_name": "Python 3",
   "language": "python",
   "name": "python3"
  },
  "language_info": {
   "codemirror_mode": {
    "name": "ipython",
    "version": 2
   },
   "file_extension": ".py",
   "mimetype": "text/x-python",
   "name": "python",
   "nbconvert_exporter": "python",
   "pygments_lexer": "ipython2",
   "version": "2.7.6"
  }
 },
 "nbformat": 4,
 "nbformat_minor": 0
}