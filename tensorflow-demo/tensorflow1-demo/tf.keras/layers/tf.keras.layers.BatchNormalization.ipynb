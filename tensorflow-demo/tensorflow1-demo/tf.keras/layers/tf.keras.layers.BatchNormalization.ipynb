{
 "cells": [
  {
   "cell_type": "code",
   "execution_count": 70,
   "metadata": {
    "collapsed": true
   },
   "outputs": [
    {
     "name": "stdout",
     "output_type": "stream",
     "text": [
      "\n",
      "training output\n",
      "[[[[-1.6383542  -1.6383542  -1.6383542  -1.6383542 ]\n",
      "   [-1.4456066  -1.4456066  -1.4456066  -1.4456066 ]\n",
      "   [-1.2528591  -1.2528591  -1.2528591  -1.2528591 ]]\n",
      "\n",
      "  [[-1.0601115  -1.0601115  -1.0601115  -1.0601115 ]\n",
      "   [-0.867364   -0.867364   -0.867364   -0.867364  ]\n",
      "   [-0.6746164  -0.6746164  -0.6746164  -0.6746164 ]]\n",
      "\n",
      "  [[-0.48186886 -0.48186886 -0.48186886 -0.48186886]\n",
      "   [-0.28912133 -0.28912133 -0.28912133 -0.28912133]\n",
      "   [-0.09637377 -0.09637377 -0.09637377 -0.09637377]]]\n",
      "\n",
      "\n",
      " [[[ 0.09637377  0.09637377  0.09637377  0.09637377]\n",
      "   [ 0.28912133  0.28912133  0.28912133  0.28912133]\n",
      "   [ 0.48186886  0.48186886  0.48186886  0.48186886]]\n",
      "\n",
      "  [[ 0.6746164   0.6746164   0.6746164   0.6746164 ]\n",
      "   [ 0.867364    0.867364    0.867364    0.867364  ]\n",
      "   [ 1.0601115   1.0601115   1.0601115   1.0601115 ]]\n",
      "\n",
      "  [[ 1.2528591   1.2528591   1.2528591   1.2528591 ]\n",
      "   [ 1.4456066   1.4456066   1.4456066   1.4456066 ]\n",
      "   [ 1.6383542   1.6383542   1.6383542   1.6383542 ]]]]\n",
      "\n",
      "weights before update\n",
      "[array([1., 1., 1., 1.], dtype=float32), array([0., 0., 0., 0.], dtype=float32), array([0., 0., 0., 0.], dtype=float32), array([1., 1., 1., 1.], dtype=float32)]\n",
      "\n",
      "weights after update\n",
      "[array([1., 1., 1., 1.], dtype=float32), array([0., 0., 0., 0.], dtype=float32), array([30.599998, 31.5     , 32.399998, 33.3     ], dtype=float32), array([410.5, 410.5, 410.5, 410.5], dtype=float32)]\n",
      "\n",
      "not training output\n",
      "[[[[-1.5103037  -1.5053682  -1.5004325  -1.4954969 ]\n",
      "   [-1.3128784  -1.3079429  -1.3030071  -1.2980715 ]\n",
      "   [-1.1154531  -1.1105175  -1.1055818  -1.1006463 ]]\n",
      "\n",
      "  [[-0.91802776 -0.9130922  -0.90815645 -0.9032209 ]\n",
      "   [-0.7206024  -0.71566683 -0.7107311  -0.7057955 ]\n",
      "   [-0.5231771  -0.5182415  -0.5133058  -0.5083702 ]]\n",
      "\n",
      "  [[-0.32575172 -0.32081616 -0.31588042 -0.31094486]\n",
      "   [-0.12832639 -0.12339084 -0.11845509 -0.11351953]\n",
      "   [ 0.06909894  0.0740345   0.07897025  0.08390581]]]\n",
      "\n",
      "\n",
      " [[[ 0.26652429  0.27145985  0.2763956   0.28133115]\n",
      "   [ 0.46394962  0.46888518  0.47382092  0.4787565 ]\n",
      "   [ 0.6613749   0.6663105   0.67124623  0.6761818 ]]\n",
      "\n",
      "  [[ 0.8588003   0.86373585  0.8686716   0.87360716]\n",
      "   [ 1.0562257   1.0611612   1.0660969   1.0710325 ]\n",
      "   [ 1.2536509   1.2585865   1.2635223   1.2684578 ]]\n",
      "\n",
      "  [[ 1.4510763   1.4560119   1.4609476   1.4658831 ]\n",
      "   [ 1.6485016   1.6534371   1.6583729   1.6633085 ]\n",
      "   [ 1.845927    1.8508625   1.8557982   1.8607339 ]]]]\n"
     ]
    }
   ],
   "source": [
    "import tensorflow as tf\n",
    "import numpy as np\n",
    "tf.reset_default_graph()\n",
    "\n",
    "bn_layer=tf.keras.layers.BatchNormalization(\n",
    "    axis=-1,\n",
    "    momentum=0.1, #把动量设小点，让moving mean变化剧烈一些，从而观察效果\n",
    "    # beta_initializer=tf.ones_initializer,\n",
    "    # gamma_initializer=tf.ones_initializer,\n",
    "    # moving_mean_initializer=tf.constant_initializer(0.5),\n",
    "    # moving_variance_initializer=tf.constant_initializer(0.5)\n",
    "    trainable=True\n",
    ")\n",
    "\n",
    "input_arr=np.reshape(np.arange(0,72),newshape=[2,3,3,4]).astype(np.float32)\n",
    "input_tensor=tf.constant(input_arr)\n",
    "output=bn_layer(input_tensor,training=True)\n",
    "\n",
    "# 在tf1里需要手动进行update滑动平均值，不需要tf.get_collection(tf.GraphKeys.UPDATE_OPS)\n",
    "update_ops = bn_layer.updates\n",
    "\n",
    "test_output=bn_layer(input_tensor,training=False)\n",
    "\n",
    "with tf.Session() as sess:\n",
    "    sess.run(tf.global_variables_initializer())\n",
    "    output_v=sess.run(output)\n",
    "    print(\"\\ntraining output\")\n",
    "    print(output_v)\n",
    "    print(\"\\nweights before update\")\n",
    "    print(sess.run(bn_layer.weights))\n",
    "    sess.run(update_ops)\n",
    "    print(\"\\nweights after update\")\n",
    "    print(sess.run(bn_layer.weights))\n",
    "    print(\"\\nnot training output\")\n",
    "    test_output_v=sess.run(test_output)\n",
    "    print(test_output_v)"
   ]
  },
  {
   "cell_type": "code",
   "execution_count": 67,
   "outputs": [
    {
     "data": {
      "text/plain": "[<tf.Operation 'batch_normalization/AssignMovingAvg/AssignSubVariableOp' type=AssignSubVariableOp>,\n <tf.Operation 'batch_normalization/AssignMovingAvg_1/AssignSubVariableOp' type=AssignSubVariableOp>]"
     },
     "execution_count": 67,
     "metadata": {},
     "output_type": "execute_result"
    }
   ],
   "source": [],
   "metadata": {
    "collapsed": false,
    "pycharm": {
     "name": "#%%\n"
    }
   }
  },
  {
   "cell_type": "code",
   "execution_count": 59,
   "outputs": [],
   "source": [],
   "metadata": {
    "collapsed": false,
    "pycharm": {
     "name": "#%%\n"
    }
   }
  },
  {
   "cell_type": "code",
   "execution_count": null,
   "outputs": [],
   "source": [
    "\n"
   ],
   "metadata": {
    "collapsed": false,
    "pycharm": {
     "name": "#%%\n"
    }
   }
  }
 ],
 "metadata": {
  "kernelspec": {
   "display_name": "Python 3",
   "language": "python",
   "name": "python3"
  },
  "language_info": {
   "codemirror_mode": {
    "name": "ipython",
    "version": 2
   },
   "file_extension": ".py",
   "mimetype": "text/x-python",
   "name": "python",
   "nbconvert_exporter": "python",
   "pygments_lexer": "ipython2",
   "version": "2.7.6"
  }
 },
 "nbformat": 4,
 "nbformat_minor": 0
}