{
 "cells": [
  {
   "cell_type": "code",
   "execution_count": 9,
   "metadata": {
    "collapsed": true
   },
   "outputs": [
    {
     "name": "stdout",
     "output_type": "stream",
     "text": [
      "SparseTensorValue(indices=array([[0, 0],\n",
      "       [1, 2]]), values=array([1, 2], dtype=int32), dense_shape=array([3, 4]))\n",
      "[[1 0 0 0]\n",
      " [0 0 2 0]\n",
      " [0 0 0 0]]\n"
     ]
    }
   ],
   "source": [
    "# 构造一个sparseTensor\n",
    "import tensorflow as tf\n",
    "tf.reset_default_graph()\n",
    "sparse_tensor=tf.sparse.SparseTensor(indices=[[0, 0], [1, 2]], values=[1, 2], dense_shape=[3, 4])\n",
    "dense_tensor=tf.constant([[1, 0, 0, 0],\n",
    " [0, 0, 2, 0],\n",
    " [0, 0, 0, 0]])\n",
    "\n",
    "with tf.Session() as sess:\n",
    "    print(sess.run(sparse_tensor))\n"
   ]
  },
  {
   "cell_type": "code",
   "execution_count": 16,
   "outputs": [
    {
     "name": "stdout",
     "output_type": "stream",
     "text": [
      "[[0 0]\n",
      " [1 2]]\n",
      "[1 2]\n",
      "SparseTensorValue(indices=array([[0, 0],\n",
      "       [1, 2]]), values=array([1, 2], dtype=int32), dense_shape=array([3, 4]))\n",
      "[[1 0 0 0]\n",
      " [0 0 2 0]\n",
      " [0 0 0 0]]\n"
     ]
    }
   ],
   "source": [
    "import tensorflow as tf\n",
    "tf.reset_default_graph()\n",
    "# sparse和tensor互转\n",
    "\n",
    "dense_tensor=tf.constant([[1, 0, 0, 0],\n",
    " [0, 0, 2, 0],\n",
    " [0, 0, 0, 0]])\n",
    "arr_idx = tf.where(tf.not_equal(dense_tensor, 0))\n",
    "# gather_nd这个操作就是根据arr_idx的指示，从dense_tensor提取值，最终的结果shape由arr_idx决定\n",
    "# 而arr_idx的0轴的每个元素都是一个坐标，因此arr_values就是一个一维度向量\n",
    "arr_values=tf.gather_nd(dense_tensor, arr_idx)\n",
    "sparse_tensor = tf.SparseTensor(arr_idx,arr_values,dense_shape=dense_tensor.shape)\n",
    "\n",
    "with tf.Session() as sess:\n",
    "    print(sess.run(arr_idx))\n",
    "    print(sess.run(arr_values))\n",
    "    print(sess.run(sparse_tensor))\n",
    "    print(sess.run(tf.sparse.to_dense(sparse_tensor)))"
   ],
   "metadata": {
    "collapsed": false,
    "pycharm": {
     "name": "#%%\n"
    }
   }
  },
  {
   "cell_type": "code",
   "execution_count": 4,
   "outputs": [
    {
     "name": "stdout",
     "output_type": "stream",
     "text": [
      "SparseTensorValue(indices=array([[0, 0],\n",
      "       [0, 2],\n",
      "       [0, 3],\n",
      "       [1, 0],\n",
      "       [1, 1],\n",
      "       [1, 3],\n",
      "       [1, 4],\n",
      "       [1, 6],\n",
      "       [1, 7],\n",
      "       [1, 9],\n",
      "       [2, 0],\n",
      "       [2, 2],\n",
      "       [2, 3],\n",
      "       [2, 4],\n",
      "       [2, 6],\n",
      "       [2, 8],\n",
      "       [2, 9],\n",
      "       [3, 0],\n",
      "       [3, 7],\n",
      "       [4, 2],\n",
      "       [4, 4],\n",
      "       [4, 5],\n",
      "       [4, 6],\n",
      "       [4, 7],\n",
      "       [4, 8],\n",
      "       [4, 9]]), values=array([1, 1, 1, 1, 1, 1, 1, 1, 1, 1, 1, 1, 1, 1, 1, 1, 1, 1, 1, 1, 1, 1,\n",
      "       1, 1, 1, 1]), dense_shape=array([ 5, 10]))\n"
     ]
    }
   ],
   "source": [
    "# 但是不能将一个shape为(None,10)的tensor转化为sparse Tensor\n",
    "# 形状必须是明确的\n",
    "import tensorflow as tf\n",
    "import numpy as np\n",
    "\n",
    "ds=tf.data.Dataset.from_tensor_slices(np.random.choice([0,1],size=[10,10])).batch(5)\n",
    "\n",
    "def dense_to_sparse(dense_tensor):\n",
    "    idx = tf.where(tf.not_equal(dense_tensor, 0))\n",
    "    values=tf.gather_nd(dense_tensor, idx)\n",
    "    # 如果不设定形状，那么当dense转sparse的时候会报错的\n",
    "    # 报错的核心在于dense_shape这个地方\n",
    "    # dense_shape=dense_tensor.shape 修改为下面这样就可以了\n",
    "    dense_shape=[5,10]\n",
    "    return tf.SparseTensor(idx,values,dense_shape=dense_shape)\n",
    "\n",
    "batch = ds.make_one_shot_iterator().get_next()\n",
    "sparse_batch=dense_to_sparse(batch)\n",
    "\n",
    "with tf.Session() as sess:\n",
    "    print(sess.run(sparse_batch))"
   ],
   "metadata": {
    "collapsed": false,
    "pycharm": {
     "name": "#%%\n"
    }
   }
  },
  {
   "cell_type": "code",
   "execution_count": null,
   "outputs": [],
   "source": [
    "\n"
   ],
   "metadata": {
    "collapsed": false,
    "pycharm": {
     "name": "#%%\n"
    }
   }
  }
 ],
 "metadata": {
  "kernelspec": {
   "display_name": "Python 3",
   "language": "python",
   "name": "python3"
  },
  "language_info": {
   "codemirror_mode": {
    "name": "ipython",
    "version": 2
   },
   "file_extension": ".py",
   "mimetype": "text/x-python",
   "name": "python",
   "nbconvert_exporter": "python",
   "pygments_lexer": "ipython2",
   "version": "2.7.6"
  }
 },
 "nbformat": 4,
 "nbformat_minor": 0
}