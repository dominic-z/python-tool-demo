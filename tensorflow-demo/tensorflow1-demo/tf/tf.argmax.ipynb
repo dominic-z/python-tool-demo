{
 "cells": [
  {
   "cell_type": "code",
   "execution_count": 8,
   "metadata": {
    "collapsed": true
   },
   "outputs": [
    {
     "name": "stdout",
     "output_type": "stream",
     "text": [
      "WARNING:tensorflow:From <ipython-input-8-97075aab20bd>:10: calling argmax (from tensorflow.python.ops.math_ops) with dimension is deprecated and will be removed in a future version.\n",
      "Instructions for updating:\n",
      "Use the `axis` argument instead\n",
      "[[[0.42881128 0.97843963 0.81788938]\n",
      "  [0.62877267 0.6254639  0.64913049]\n",
      "  [0.94816412 0.62383234 0.54125687]\n",
      "  [0.32232711 0.61188515 0.02205672]]\n",
      "\n",
      " [[0.45885643 0.84915746 0.21923645]\n",
      "  [0.51230387 0.40338597 0.08298239]\n",
      "  [0.76400376 0.53787713 0.88241568]\n",
      "  [0.29841343 0.07493582 0.56499731]]\n",
      "\n",
      " [[0.43766069 0.55837455 0.05203133]\n",
      "  [0.5241584  0.04798583 0.76162789]\n",
      "  [0.92741429 0.03210417 0.37678932]\n",
      "  [0.57406292 0.29323323 0.540517  ]]\n",
      "\n",
      " [[0.68432966 0.87766322 0.92541588]\n",
      "  [0.1837013  0.8951878  0.49709861]\n",
      "  [0.03369085 0.15250067 0.79447526]\n",
      "  [0.75510349 0.24131871 0.14529661]]\n",
      "\n",
      " [[0.23490019 0.20896513 0.90853654]\n",
      "  [0.79286396 0.66587356 0.62510084]\n",
      "  [0.33019289 0.08024227 0.12574207]\n",
      "  [0.89299947 0.37960752 0.51226482]]]\n",
      "[[2 0 0]\n",
      " [2 0 2]\n",
      " [2 0 1]\n",
      " [3 1 0]\n",
      " [3 1 0]]\n"
     ]
    }
   ],
   "source": [
    "import tensorflow as tf\n",
    "import numpy as np\n",
    "\n",
    "tf.reset_default_graph()\n",
    "\n",
    "arr=np.random.random(size=(5,4,3))\n",
    "var=tf.Variable(arr)\n",
    "\n",
    "# 每次都找var[,:,]的最大值\n",
    "arg_max=tf.argmax(var,dimension=1)\n",
    "\n",
    "with tf.Session() as sess:\n",
    "    sess.run(tf.global_variables_initializer())\n",
    "    sess.run(tf.local_variables_initializer())\n",
    "    print(sess.run(var))\n",
    "    print(sess.run(arg_max))"
   ]
  },
  {
   "cell_type": "code",
   "execution_count": null,
   "outputs": [],
   "source": [
    "\n"
   ],
   "metadata": {
    "collapsed": false,
    "pycharm": {
     "name": "#%%\n"
    }
   }
  }
 ],
 "metadata": {
  "kernelspec": {
   "display_name": "Python 3",
   "language": "python",
   "name": "python3"
  },
  "language_info": {
   "codemirror_mode": {
    "name": "ipython",
    "version": 2
   },
   "file_extension": ".py",
   "mimetype": "text/x-python",
   "name": "python",
   "nbconvert_exporter": "python",
   "pygments_lexer": "ipython2",
   "version": "2.7.6"
  }
 },
 "nbformat": 4,
 "nbformat_minor": 0
}