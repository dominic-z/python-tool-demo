{
 "cells": [
  {
   "cell_type": "code",
   "execution_count": 1,
   "metadata": {
    "collapsed": true
   },
   "outputs": [
    {
     "name": "stdout",
     "output_type": "stream",
     "text": [
      "[0. 0. 4. 4.]\n"
     ]
    }
   ],
   "source": [
    "import tensorflow as tf\n",
    "tf.reset_default_graph()\n",
    "\n",
    "\n",
    "labels=tf.constant([0,0,1,1],dtype=tf.float32)\n",
    "one = tf.constant(4,shape=labels.shape,dtype=tf.float32)\n",
    "zero = tf.zeros_like(labels)\n",
    "\n",
    "label = tf.where(labels <0.5, x=zero, y=one)\n",
    "\n",
    "with tf.Session() as sess:\n",
    "    print(sess.run(label))\n"
   ]
  },
  {
   "cell_type": "code",
   "execution_count": 11,
   "outputs": [
    {
     "name": "stdout",
     "output_type": "stream",
     "text": [
      "[0.75139908 0.10957012 0.72011365 0.60434531 0.82567821]\n",
      "[5.1 0.  5.1 5.1 5.1]\n"
     ]
    }
   ],
   "source": [
    "import tensorflow as tf\n",
    "import numpy as np\n",
    "tf.reset_default_graph()\n",
    "\n",
    "ds=tf.data.Dataset.from_tensor_slices(np.random.random(10)).batch(5)\n",
    "one_sample=ds.make_one_shot_iterator().get_next()\n",
    "\n",
    "# 由于one_sample大小未知，因此不能使用tf.constant，但可以使用ones_like\n",
    "one = tf.ones_like(one_sample)*5.1\n",
    "zero = tf.zeros_like(one_sample)\n",
    "\n",
    "label = tf.where(one_sample <0.5, x=zero, y=one)\n",
    "\n",
    "with tf.Session() as sess:\n",
    "    label,one_sample_v=sess.run([label,one_sample])\n",
    "    print(one_sample_v)\n",
    "    print(label)"
   ],
   "metadata": {
    "collapsed": false,
    "pycharm": {
     "name": "#%%\n"
    }
   }
  },
  {
   "cell_type": "code",
   "execution_count": 12,
   "outputs": [
    {
     "data": {
      "text/plain": "<tf.Tensor 'mul:0' shape=(?,) dtype=float64>"
     },
     "execution_count": 12,
     "metadata": {},
     "output_type": "execute_result"
    }
   ],
   "source": [
    "one"
   ],
   "metadata": {
    "collapsed": false,
    "pycharm": {
     "name": "#%%\n"
    }
   }
  },
  {
   "cell_type": "code",
   "execution_count": null,
   "outputs": [],
   "source": [
    "\n"
   ],
   "metadata": {
    "collapsed": false,
    "pycharm": {
     "name": "#%%\n"
    }
   }
  }
 ],
 "metadata": {
  "kernelspec": {
   "display_name": "Python 3",
   "language": "python",
   "name": "python3"
  },
  "language_info": {
   "codemirror_mode": {
    "name": "ipython",
    "version": 2
   },
   "file_extension": ".py",
   "mimetype": "text/x-python",
   "name": "python",
   "nbconvert_exporter": "python",
   "pygments_lexer": "ipython2",
   "version": "2.7.6"
  }
 },
 "nbformat": 4,
 "nbformat_minor": 0
}