{
 "cells": [
  {
   "cell_type": "code",
   "execution_count": 2,
   "metadata": {
    "collapsed": true
   },
   "outputs": [
    {
     "name": "stdout",
     "output_type": "stream",
     "text": [
      "<tf.Variable 'a/a:0' shape=(1,) dtype=float32_ref>\n",
      "<tf.Variable 'a/b:0' shape=(1,) dtype=float32_ref>\n",
      "<tf.Variable 'a_1/c:0' shape=() dtype=int32_ref>\n"
     ]
    }
   ],
   "source": [
    "# tf.Variable is a little devil\n",
    "\n",
    "import tensorflow as tf\n",
    "\n",
    "tf.reset_default_graph()\n",
    "with tf.variable_scope(name_or_scope=\"a\"):\n",
    "    v1=tf.get_variable(\"a\",shape=[1],initializer=tf.constant_initializer(1))\n",
    "with tf.variable_scope(name_or_scope=\"a\"):\n",
    "    v2=tf.get_variable(\"b\",shape=[1],initializer=tf.constant_initializer(1))\n",
    "    v22=tf.Variable(1,name=\"c\")\n",
    "print(v1)\n",
    "print(v2)\n",
    "print(v22) # 另外的一个新的variable scope，这个王八蛋！他总会在新的varibale scope里创建变量"
   ]
  },
  {
   "cell_type": "code",
   "execution_count": null,
   "outputs": [],
   "source": [
    "\n"
   ],
   "metadata": {
    "collapsed": false,
    "pycharm": {
     "name": "#%%\n"
    }
   }
  }
 ],
 "metadata": {
  "kernelspec": {
   "display_name": "Python 3",
   "language": "python",
   "name": "python3"
  },
  "language_info": {
   "codemirror_mode": {
    "name": "ipython",
    "version": 2
   },
   "file_extension": ".py",
   "mimetype": "text/x-python",
   "name": "python",
   "nbconvert_exporter": "python",
   "pygments_lexer": "ipython2",
   "version": "2.7.6"
  }
 },
 "nbformat": 4,
 "nbformat_minor": 0
}