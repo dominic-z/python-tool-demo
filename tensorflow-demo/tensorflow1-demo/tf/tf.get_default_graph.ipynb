{
 "cells": [
  {
   "cell_type": "code",
   "execution_count": 3,
   "metadata": {
    "collapsed": true
   },
   "outputs": [
    {
     "name": "stdout",
     "output_type": "stream",
     "text": [
      "===============================\n",
      "Tensor(\"named_output:0\", shape=(3, 2), dtype=float32)\n",
      "Tensor(\"named_output:0\", shape=(3, 2), dtype=float32)\n",
      "===============================\n",
      "<tf.Variable 'var:0' shape=(3, 4) dtype=float32_ref>\n",
      "Tensor(\"var:0\", shape=(3, 4), dtype=float32_ref)\n",
      "===============================\n",
      "<tf.Variable 'var:0' shape=(3, 4) dtype=float32_ref>\n",
      "Tensor(\"var:0\", shape=(3, 4), dtype=float32_ref)\n",
      "===============================\n",
      "Tensor(\"tensor:0\", shape=(3, 4), dtype=float64)\n",
      "Tensor(\"tensor:0\", shape=(3, 4), dtype=float64)\n"
     ]
    }
   ],
   "source": [
    "\n",
    "# 根据名字获取tensor\n",
    "import tensorflow as tf\n",
    "import numpy as np\n",
    "tf.reset_default_graph()\n",
    "\n",
    "graph = tf.get_default_graph()\n",
    "var = tf.get_variable(name=\"var\",shape=[3,4],initializer=tf.initializers.ones())\n",
    "tensor = tf.convert_to_tensor(np.random.random(size=[3,4]),name='tensor')\n",
    "dense_layer = tf.layers.Dense(units=2)\n",
    "output = dense_layer(var)\n",
    "\n",
    "named_output = tf.identity(output,\"named_output\")\n",
    "\n",
    "print(\"===============================\")\n",
    "named_output_by_name = graph.get_tensor_by_name(\"named_output:0\")\n",
    "print(named_output)\n",
    "print(named_output_by_name)\n",
    "print(\"===============================\")\n",
    "var_by_name = graph.get_tensor_by_name(\"var:0\")\n",
    "print(var)\n",
    "print(var_by_name)\n",
    "print(\"===============================\")\n",
    "# var是一个variable，var_by_name是一个tensor\n",
    "# Variable也是张量，只不过可以修改其值\n",
    "# 变量与张量的定义方式和操作行为都十分相似，实际上，它们都是 tf.Tensor 支持的一种数据结构。与张量类似，变量也有 dtype 和形状，并且可以导出至 NumPy。\n",
    "var_by_name = graph.get_tensor_by_name(\"var:0\")\n",
    "print(var)\n",
    "print(var_by_name)\n",
    "\n",
    "print(\"===============================\")\n",
    "tensor_by_name = graph.get_tensor_by_name(\"tensor:0\")\n",
    "print(tensor)\n",
    "print(tensor_by_name)"
   ]
  },
  {
   "cell_type": "code",
   "execution_count": 5,
   "outputs": [
    {
     "name": "stdout",
     "output_type": "stream",
     "text": [
      "===============================\n",
      "[<tf.Operation 'var/Initializer/ones' type=Const>, <tf.Operation 'var' type=VariableV2>, <tf.Operation 'var/Assign' type=Assign>, <tf.Operation 'var/read' type=Identity>, <tf.Operation 'tensor' type=Const>, <tf.Operation 'dense/kernel/Initializer/random_uniform/shape' type=Const>, <tf.Operation 'dense/kernel/Initializer/random_uniform/min' type=Const>, <tf.Operation 'dense/kernel/Initializer/random_uniform/max' type=Const>, <tf.Operation 'dense/kernel/Initializer/random_uniform/RandomUniform' type=RandomUniform>, <tf.Operation 'dense/kernel/Initializer/random_uniform/sub' type=Sub>, <tf.Operation 'dense/kernel/Initializer/random_uniform/mul' type=Mul>, <tf.Operation 'dense/kernel/Initializer/random_uniform' type=Add>, <tf.Operation 'dense/kernel' type=VariableV2>, <tf.Operation 'dense/kernel/Assign' type=Assign>, <tf.Operation 'dense/kernel/read' type=Identity>, <tf.Operation 'dense/bias/Initializer/zeros' type=Const>, <tf.Operation 'dense/bias' type=VariableV2>, <tf.Operation 'dense/bias/Assign' type=Assign>, <tf.Operation 'dense/bias/read' type=Identity>, <tf.Operation 'dense/MatMul' type=MatMul>, <tf.Operation 'dense/BiasAdd' type=BiasAdd>, <tf.Operation 'named_output' type=Identity>]\n",
      "===============================\n",
      "Tensor(\"named_output:0\", shape=(3, 2), dtype=float32)\n",
      "name: \"named_output\"\n",
      "op: \"Identity\"\n",
      "input: \"dense/BiasAdd\"\n",
      "attr {\n",
      "  key: \"T\"\n",
      "  value {\n",
      "    type: DT_FLOAT\n",
      "  }\n",
      "}\n",
      "\n",
      "===============================\n",
      "<tf.Variable 'var:0' shape=(3, 4) dtype=float32_ref>\n",
      "Tensor(\"var:0\", shape=(3, 4), dtype=float32_ref)\n",
      "===============================\n",
      "<tf.Variable 'var:0' shape=(3, 4) dtype=float32_ref>\n",
      "Tensor(\"var:0\", shape=(3, 4), dtype=float32_ref)\n",
      "===============================\n",
      "Tensor(\"tensor:0\", shape=(3, 4), dtype=float64)\n",
      "Tensor(\"tensor:0\", shape=(3, 4), dtype=float64)\n"
     ]
    }
   ],
   "source": [
    "# 根据名字获取op\n",
    "import tensorflow as tf\n",
    "import numpy as np\n",
    "tf.reset_default_graph()\n",
    "\n",
    "graph = tf.get_default_graph()\n",
    "var = tf.get_variable(name=\"var\",shape=[3,4],initializer=tf.initializers.ones())\n",
    "tensor = tf.convert_to_tensor(np.random.random(size=[3,4]),name='tensor')\n",
    "dense_layer = tf.layers.Dense(units=2)\n",
    "output = dense_layer(var)\n",
    "\n",
    "named_output = tf.identity(output,\"named_output\")\n",
    "print(\"===============================\")\n",
    "print(graph.get_operations())\n",
    "print(\"===============================\")\n",
    "named_output_by_name = graph.get_operation_by_name(\"named_output\")\n",
    "print(named_output)\n",
    "print(named_output_by_name)"
   ],
   "metadata": {
    "collapsed": false,
    "pycharm": {
     "name": "#%%\n"
    }
   }
  },
  {
   "cell_type": "code",
   "execution_count": 26,
   "outputs": [
    {
     "name": "stdout",
     "output_type": "stream",
     "text": [
      "==========trainable_vars=========\n",
      "[<tf.Variable 'var:0' shape=(3, 4) dtype=float32_ref>, <tf.Variable 'dense/kernel:0' shape=(4, 2) dtype=float32_ref>, <tf.Variable 'dense/bias:0' shape=(2,) dtype=float32_ref>, <tf.Variable 'dense_1/kernel:0' shape=(2, 3) dtype=float32_ref>, <tf.Variable 'dense_1/bias:0' shape=(3,) dtype=float32_ref>]\n",
      "==========losses=========\n",
      "[<tf.Tensor 'sparse_softmax_cross_entropy_loss/value:0' shape=() dtype=float32>]\n",
      "==========reg_losses=========\n",
      "[<tf.Tensor 'dense/kernel/Regularizer/add:0' shape=() dtype=float32>, <tf.Tensor 'dense_1/kernel/Regularizer/add:0' shape=() dtype=float32>]\n"
     ]
    }
   ],
   "source": [
    "# 根据名字获取get_collection_ref 获取某个集合内的全部tensor\n",
    "\n",
    "import tensorflow as tf\n",
    "import numpy as np\n",
    "tf.reset_default_graph()\n",
    "var = tf.get_variable(name=\"var\",shape=[3,4],initializer=tf.initializers.ones(),trainable=True)\n",
    "labels = tf.constant(value = np.random.randint(0,3,size=[3]))\n",
    "\n",
    "dense_layer1 = tf.layers.Dense(units=2,kernel_regularizer=tf.keras.regularizers.l2(0.2))\n",
    "output = dense_layer1(var)\n",
    "\n",
    "dense_layer2 = tf.layers.Dense(units=3,kernel_regularizer=tf.keras.regularizers.l2(0.2))\n",
    "output = dense_layer2(output)\n",
    "\n",
    "named_output = tf.identity(output,\"tensor\")\n",
    "\n",
    "loss = tf.losses.sparse_softmax_cross_entropy(labels=labels,logits=named_output)\n",
    "\n",
    "\n",
    "trainable_vars = tf.get_default_graph().get_collection_ref(tf.GraphKeys.TRAINABLE_VARIABLES)\n",
    "print(\"==========trainable_vars=========\")\n",
    "print(trainable_vars)\n",
    "\n",
    "losses = tf.get_default_graph().get_collection_ref(tf.GraphKeys.LOSSES)\n",
    "print(\"==========losses=========\")\n",
    "print(losses)\n",
    "\n",
    "reg_losses = tf.get_default_graph().get_collection_ref(tf.GraphKeys.REGULARIZATION_LOSSES)\n",
    "print(\"==========reg_losses=========\")\n",
    "print(reg_losses)\n",
    "\n"
   ],
   "metadata": {
    "collapsed": false,
    "pycharm": {
     "name": "#%%\n"
    }
   }
  },
  {
   "cell_type": "code",
   "execution_count": 29,
   "outputs": [
    {
     "name": "stdout",
     "output_type": "stream",
     "text": [
      "==========trainable_vars=========\n",
      "[<tf.Variable 'scope/var:0' shape=(3, 4) dtype=float32_ref>]\n"
     ]
    }
   ],
   "source": [
    "# 从某个集合里获取某个scope下的tensor\n",
    "import tensorflow as tf\n",
    "import numpy as np\n",
    "tf.reset_default_graph()\n",
    "with tf.variable_scope('scope'):\n",
    "    var = tf.get_variable(name=\"var\",shape=[3,4],initializer=tf.initializers.ones(),trainable=True)\n",
    "labels = tf.constant(value = np.random.randint(0,3,size=[3]))\n",
    "\n",
    "dense_layer1 = tf.layers.Dense(units=2,kernel_regularizer=tf.keras.regularizers.l2(0.2))\n",
    "output = dense_layer1(var)\n",
    "\n",
    "dense_layer2 = tf.layers.Dense(units=3,kernel_regularizer=tf.keras.regularizers.l2(0.2))\n",
    "output = dense_layer2(output)\n",
    "\n",
    "named_output = tf.identity(output,\"tensor\")\n",
    "\n",
    "loss = tf.losses.sparse_softmax_cross_entropy(labels=labels,logits=named_output)\n",
    "\n",
    "\n",
    "trainable_vars = tf.get_default_graph()\\\n",
    "    .get_collection(name=tf.GraphKeys.TRAINABLE_VARIABLES,scope=\"scope/va*\")\n",
    "print(\"==========trainable_vars=========\")\n",
    "print(trainable_vars)\n"
   ],
   "metadata": {
    "collapsed": false,
    "pycharm": {
     "name": "#%%\n"
    }
   }
  },
  {
   "cell_type": "code",
   "execution_count": 4,
   "outputs": [
    {
     "name": "stdout",
     "output_type": "stream",
     "text": [
      "===============================\n",
      "Tensor(\"named_output:0\", shape=(3, 2), dtype=float32)\n",
      "Tensor(\"named_output:0\", shape=(3, 2), dtype=float32)\n",
      "===============================\n",
      "name: \"var\"\n",
      "op: \"VariableV2\"\n",
      "attr {\n",
      "  key: \"_class\"\n",
      "  value {\n",
      "    list {\n",
      "      s: \"loc:@var\"\n",
      "    }\n",
      "  }\n",
      "}\n",
      "attr {\n",
      "  key: \"container\"\n",
      "  value {\n",
      "    s: \"\"\n",
      "  }\n",
      "}\n",
      "attr {\n",
      "  key: \"dtype\"\n",
      "  value {\n",
      "    type: DT_FLOAT\n",
      "  }\n",
      "}\n",
      "attr {\n",
      "  key: \"shape\"\n",
      "  value {\n",
      "    shape {\n",
      "      dim {\n",
      "        size: 3\n",
      "      }\n",
      "      dim {\n",
      "        size: 4\n",
      "      }\n",
      "    }\n",
      "  }\n",
      "}\n",
      "attr {\n",
      "  key: \"shared_name\"\n",
      "  value {\n",
      "    s: \"\"\n",
      "  }\n",
      "}\n",
      "\n"
     ]
    }
   ],
   "source": [
    "import tensorflow as tf\n",
    "import numpy as np\n",
    "tf.reset_default_graph()\n",
    "\n",
    "graph = tf.get_default_graph()\n",
    "var = tf.get_variable(name=\"var\",shape=[3,4],initializer=tf.initializers.ones())\n",
    "tensor = tf.convert_to_tensor(np.random.random(size=[3,4]),name='tensor')\n",
    "dense_layer = tf.layers.Dense(units=2)\n",
    "output = dense_layer(var)\n",
    "\n",
    "named_output = tf.identity(output,\"named_output\")\n",
    "\n",
    "print(\"===============================\")\n",
    "named_output_by_name = graph.as_graph_element(\"named_output:0\")\n",
    "print(named_output)\n",
    "print(named_output_by_name)\n",
    "print(\"===============================\")\n",
    "op_by_name = graph.as_graph_element(\"var\")\n",
    "print(op_by_name)"
   ],
   "metadata": {
    "collapsed": false,
    "pycharm": {
     "name": "#%%\n"
    }
   }
  },
  {
   "cell_type": "code",
   "execution_count": 4,
   "outputs": [],
   "source": [],
   "metadata": {
    "collapsed": false,
    "pycharm": {
     "name": "#%%\n"
    }
   }
  },
  {
   "cell_type": "code",
   "execution_count": null,
   "outputs": [],
   "source": [
    "\n"
   ],
   "metadata": {
    "collapsed": false,
    "pycharm": {
     "name": "#%%\n"
    }
   }
  }
 ],
 "metadata": {
  "kernelspec": {
   "display_name": "Python 3",
   "language": "python",
   "name": "python3"
  },
  "language_info": {
   "codemirror_mode": {
    "name": "ipython",
    "version": 2
   },
   "file_extension": ".py",
   "mimetype": "text/x-python",
   "name": "python",
   "nbconvert_exporter": "python",
   "pygments_lexer": "ipython2",
   "version": "2.7.6"
  }
 },
 "nbformat": 4,
 "nbformat_minor": 0
}