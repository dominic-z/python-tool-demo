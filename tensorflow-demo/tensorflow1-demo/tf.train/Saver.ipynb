{
 "cells": [
  {
   "cell_type": "code",
   "execution_count": 14,
   "metadata": {
    "collapsed": true
   },
   "outputs": [
    {
     "name": "stdout",
     "output_type": "stream",
     "text": [
      "INFO:tensorflow:Restoring parameters from models/model_demo/demo-0\n",
      "[1.2, 2.4]\n"
     ]
    }
   ],
   "source": [
    "# 简单的restore和save操作\n",
    "# !mkdir -p models/model_demo\n",
    "import tensorflow as tf\n",
    "tf.reset_default_graph()\n",
    "\n",
    "a=tf.Variable(1.2,name=\"a\",dtype=tf.float32)\n",
    "b=tf.Variable(2.4,name=\"b\",dtype=tf.float32)\n",
    "saver1=tf.train.Saver()\n",
    "\n",
    "with tf.Session()  as sess:\n",
    "    sess.run(tf.global_variables_initializer())\n",
    "    saver1.save(sess,\"models/model_demo/demo\",global_step=0)\n",
    "\n",
    "# 清空图\n",
    "tf.reset_default_graph()\n",
    "c=tf.Variable(2.5,name=\"a\",dtype=tf.float32)\n",
    "d=tf.Variable(3.9,name=\"b\",dtype=tf.float32)\n",
    "saver2=tf.train.Saver()\n",
    "\n",
    "with tf.Session()  as sess:\n",
    "    sess.run(tf.global_variables_initializer())\n",
    "    saver2.restore(sess,tf.train.latest_checkpoint(\"models/model_demo\"))\n",
    "    print(sess.run([c,d]))"
   ]
  },
  {
   "cell_type": "code",
   "execution_count": 13,
   "outputs": [
    {
     "name": "stdout",
     "output_type": "stream",
     "text": [
      "[('a', [])]\n"
     ]
    }
   ],
   "source": [
    "# 注意定义saver的位置\n",
    "import tensorflow as tf\n",
    "tf.reset_default_graph()\n",
    "\n",
    "a=tf.Variable(4.9,name=\"a\",dtype=tf.float32)\n",
    "saver=tf.train.Saver()\n",
    "b=tf.Variable(4.5,name=\"b\",dtype=tf.float32)\n",
    "\n",
    "with tf.Session()  as sess:\n",
    "    sess.run(tf.global_variables_initializer())\n",
    "    saver.save(sess,\"models/model_demo/demo\",global_step=0)\n",
    "\n",
    "print(\"only a is saved\")\n",
    "print(tf.train.list_variables(tf.train.latest_checkpoint(\"models/model_demo\")))\n"
   ],
   "metadata": {
    "collapsed": false,
    "pycharm": {
     "name": "#%%\n"
    }
   }
  },
  {
   "cell_type": "code",
   "execution_count": 17,
   "outputs": [
    {
     "name": "stdout",
     "output_type": "stream",
     "text": [
      "INFO:tensorflow:Restoring parameters from models/model_demo/demo-0\n",
      "[1.2, 5.4]\n",
      "only a is restored\n",
      "[('a', []), ('b', [])]\n"
     ]
    }
   ],
   "source": [
    "# restore的时候也要注意，下面这种方式只会将a的值读取进来，不会对b的值进行赋值，即使储存的文件里有变量b的值\n",
    "import tensorflow as tf\n",
    "tf.reset_default_graph()\n",
    "\n",
    "a=tf.Variable(4.2,name=\"a\",dtype=tf.float32)\n",
    "saver=tf.train.Saver()\n",
    "b=tf.Variable(5.4,name=\"b\",dtype=tf.float32)\n",
    "\n",
    "with tf.Session()  as sess:\n",
    "    sess.run(tf.global_variables_initializer())\n",
    "    saver.restore(sess,tf.train.latest_checkpoint(\"models/model_demo\"))\n",
    "    print(\"only a is restored\")\n",
    "    print(sess.run([a,b]))\n",
    "\n",
    "print(tf.train.list_variables(tf.train.latest_checkpoint(\"models/model_demo\")))\n"
   ],
   "metadata": {
    "collapsed": false,
    "pycharm": {
     "name": "#%%\n"
    }
   }
  },
  {
   "cell_type": "code",
   "execution_count": null,
   "outputs": [],
   "source": [
    "\n"
   ],
   "metadata": {
    "collapsed": false,
    "pycharm": {
     "name": "#%%\n"
    }
   }
  }
 ],
 "metadata": {
  "kernelspec": {
   "display_name": "Python 3",
   "language": "python",
   "name": "python3"
  },
  "language_info": {
   "codemirror_mode": {
    "name": "ipython",
    "version": 2
   },
   "file_extension": ".py",
   "mimetype": "text/x-python",
   "name": "python",
   "nbconvert_exporter": "python",
   "pygments_lexer": "ipython2",
   "version": "2.7.6"
  }
 },
 "nbformat": 4,
 "nbformat_minor": 0
}