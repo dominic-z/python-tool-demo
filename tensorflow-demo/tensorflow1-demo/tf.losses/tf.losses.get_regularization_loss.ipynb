{
 "cells": [
  {
   "cell_type": "code",
   "execution_count": 17,
   "metadata": {
    "collapsed": true
   },
   "outputs": [
    {
     "name": "stdout",
     "output_type": "stream",
     "text": [
      "==========calc_by_hand==========\n",
      "[1.86911562 2.90886542 2.46298017 2.16922401]\n",
      "==========input_arr==========\n",
      "[[0.51842449 0.62931904 0.29434438 0.18034672 0.24668099]\n",
      " [0.01490126 0.35448281 0.62182239 0.94284044 0.97481852]\n",
      " [0.45476484 0.71701633 0.41868401 0.23790231 0.63461267]\n",
      " [0.12543495 0.11359496 0.19558884 0.73851673 0.99608853]]\n",
      "==========weight_v==========\n",
      "[array([[1., 1., 1., 1., 1.],\n",
      "       [1., 1., 1., 1., 1.],\n",
      "       [1., 1., 1., 1., 1.],\n",
      "       [1., 1., 1., 1., 1.],\n",
      "       [1., 1., 1., 1., 1.]]), array([0., 0., 0., 0., 0.])]\n",
      "==========out_v==========\n",
      "[[ 9.34557812  9.34557812  9.34557812  9.34557812  9.34557812]\n",
      " [14.54432712 14.54432712 14.54432712 14.54432712 14.54432712]\n",
      " [12.31490084 12.31490084 12.31490084 12.31490084 12.31490084]\n",
      " [10.84612005 10.84612005 10.84612005 10.84612005 10.84612005]]\n",
      "==========reg_losses_v==========\n",
      "[0.24999999441206455, 0.24999999441206455]\n",
      "==========reg_loss_v==========\n",
      "0.4999999888241291\n",
      "==========reg_losses_by_add==========\n",
      "0.4999999888241291\n"
     ]
    }
   ],
   "source": [
    "import tensorflow as tf\n",
    "import numpy as np\n",
    "tf.reset_default_graph()\n",
    "\n",
    "input_arr=np.random.random(size=[4,5])\n",
    "print(\"==========calc_by_hand==========\")\n",
    "print(np.sum(input_arr,axis=1))\n",
    "\n",
    "print(\"==========input_arr==========\")\n",
    "print(input_arr)\n",
    "input_t=tf.constant(value=input_arr)\n",
    "\n",
    "dense_layer1=tf.layers.Dense(units=5,\n",
    "                            kernel_initializer=tf.ones_initializer,\n",
    "                            kernel_regularizer=tf.keras.regularizers.l2(0.01))\n",
    "dense_layer2=tf.layers.Dense(units=5,\n",
    "                            kernel_initializer=tf.ones_initializer,\n",
    "                            kernel_regularizer=tf.keras.regularizers.l2(0.01))\n",
    "\n",
    "input_t=dense_layer1(input_t)\n",
    "out=dense_layer2(input_t)\n",
    "\n",
    "reg_loss=tf.losses.get_regularization_loss()\n",
    "reg_losses=tf.losses.get_regularization_losses()\n",
    "reg_losses_by_add =tf.add_n(reg_losses)\n",
    "\n",
    "with tf.Session() as sess:\n",
    "    sess.run(tf.global_variables_initializer())\n",
    "    weight1_v,weight2_v=sess.run([dense_layer1.weights,dense_layer2.weights])\n",
    "    print(\"==========weight_v==========\")\n",
    "    print(weight1_v)\n",
    "\n",
    "\n",
    "    out_v,reg_losses_v,reg_loss_v,reg_losses_by_add_v=sess.run([out,reg_losses,reg_loss,reg_losses_by_add])\n",
    "    print(\"==========out_v==========\")\n",
    "    print(out_v)\n",
    "    print(\"==========reg_losses_v==========\")\n",
    "    print(reg_losses_v)\n",
    "    print(\"==========reg_loss_v==========\")\n",
    "    print(reg_loss_v)\n",
    "    print(\"==========reg_losses_by_add==========\")\n",
    "    print(reg_losses_by_add_v)"
   ]
  },
  {
   "cell_type": "code",
   "execution_count": 13,
   "outputs": [
    {
     "data": {
      "text/plain": "<tf.Tensor 'total_regularization_loss:0' shape=() dtype=float64>"
     },
     "execution_count": 13,
     "metadata": {},
     "output_type": "execute_result"
    }
   ],
   "source": [
    "reg_loss\n"
   ],
   "metadata": {
    "collapsed": false,
    "pycharm": {
     "name": "#%%\n"
    }
   }
  },
  {
   "cell_type": "code",
   "execution_count": 15,
   "outputs": [
    {
     "data": {
      "text/plain": "<tf.Tensor 'AddN:0' shape=() dtype=float64>"
     },
     "execution_count": 15,
     "metadata": {},
     "output_type": "execute_result"
    }
   ],
   "source": [],
   "metadata": {
    "collapsed": false,
    "pycharm": {
     "name": "#%%\n"
    }
   }
  },
  {
   "cell_type": "code",
   "execution_count": null,
   "outputs": [],
   "source": [
    "\n"
   ],
   "metadata": {
    "collapsed": false,
    "pycharm": {
     "name": "#%%\n"
    }
   }
  }
 ],
 "metadata": {
  "kernelspec": {
   "display_name": "Python 3",
   "language": "python",
   "name": "python3"
  },
  "language_info": {
   "codemirror_mode": {
    "name": "ipython",
    "version": 2
   },
   "file_extension": ".py",
   "mimetype": "text/x-python",
   "name": "python",
   "nbconvert_exporter": "python",
   "pygments_lexer": "ipython2",
   "version": "2.7.6"
  }
 },
 "nbformat": 4,
 "nbformat_minor": 0
}