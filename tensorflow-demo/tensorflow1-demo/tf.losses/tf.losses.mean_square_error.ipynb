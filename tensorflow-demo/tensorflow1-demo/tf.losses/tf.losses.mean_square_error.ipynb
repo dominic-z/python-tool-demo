{
 "cells": [
  {
   "cell_type": "code",
   "execution_count": 14,
   "metadata": {
    "collapsed": true
   },
   "outputs": [
    {
     "name": "stdout",
     "output_type": "stream",
     "text": [
      "0.2725\n",
      "[0.5 1.5]\n"
     ]
    }
   ],
   "source": [
    "import tensorflow as tf\n",
    "tf.reset_default_graph()\n",
    "\n",
    "labels=tf.constant([0,1],dtype=tf.float32)\n",
    "outputs=tf.constant([0.1,0.4],dtype=tf.float32)\n",
    "\n",
    "pos_weights=tf.constant(value=1.5,shape=labels.shape)\n",
    "neg_weights=tf.constant(value=0.5,shape=labels.shape)\n",
    "weights=tf.where(tf.greater(labels,0),x=pos_weights,y=neg_weights)\n",
    "loss=tf.losses.mean_squared_error(labels=labels,predictions=outputs,weights=weights)\n",
    "\n",
    "with tf.Session() as sess:\n",
    "    sess.run(tf.global_variables_initializer())\n",
    "    print(sess.run(loss))\n",
    "    print(sess.run(weights))"
   ]
  },
  {
   "cell_type": "code",
   "execution_count": null,
   "outputs": [],
   "source": [
    "\n"
   ],
   "metadata": {
    "collapsed": false,
    "pycharm": {
     "name": "#%%\n"
    }
   }
  }
 ],
 "metadata": {
  "kernelspec": {
   "display_name": "Python 3",
   "language": "python",
   "name": "python3"
  },
  "language_info": {
   "codemirror_mode": {
    "name": "ipython",
    "version": 2
   },
   "file_extension": ".py",
   "mimetype": "text/x-python",
   "name": "python",
   "nbconvert_exporter": "python",
   "pygments_lexer": "ipython2",
   "version": "2.7.6"
  }
 },
 "nbformat": 4,
 "nbformat_minor": 0
}