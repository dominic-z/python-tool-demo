{
 "cells": [
  {
   "cell_type": "code",
   "execution_count": 2,
   "metadata": {
    "collapsed": true
   },
   "outputs": [
    {
     "name": "stdout",
     "output_type": "stream",
     "text": [
      "[array([0., 1., 2., 3., 4., 5., 6., 7., 8., 9.], dtype=float32)]\n",
      "[array([10., 11., 12., 13., 14., 15., 16., 17., 18., 19.], dtype=float32)]\n"
     ]
    },
    {
     "ename": "OutOfRangeError",
     "evalue": "End of sequence\n\t [[node IteratorGetNext (defined at <ipython-input-2-3c8e6eecdedd>:8)  = IteratorGetNext[output_shapes=[[10]], output_types=[DT_FLOAT], _device=\"/job:localhost/replica:0/task:0/device:CPU:0\"](OneShotIterator)]]\n\nCaused by op 'IteratorGetNext', defined at:\n  File \"/usr/lib/python3.5/runpy.py\", line 184, in _run_module_as_main\n    \"__main__\", mod_spec)\n  File \"/usr/lib/python3.5/runpy.py\", line 85, in _run_code\n    exec(code, run_globals)\n  File \"/usr/local/lib/python3.5/dist-packages/ipykernel_launcher.py\", line 16, in <module>\n    app.launch_new_instance()\n  File \"/usr/local/lib/python3.5/dist-packages/traitlets/config/application.py\", line 658, in launch_instance\n    app.start()\n  File \"/usr/local/lib/python3.5/dist-packages/ipykernel/kernelapp.py\", line 505, in start\n    self.io_loop.start()\n  File \"/usr/local/lib/python3.5/dist-packages/tornado/platform/asyncio.py\", line 132, in start\n    self.asyncio_loop.run_forever()\n  File \"/usr/lib/python3.5/asyncio/base_events.py\", line 345, in run_forever\n    self._run_once()\n  File \"/usr/lib/python3.5/asyncio/base_events.py\", line 1312, in _run_once\n    handle._run()\n  File \"/usr/lib/python3.5/asyncio/events.py\", line 125, in _run\n    self._callback(*self._args)\n  File \"/usr/local/lib/python3.5/dist-packages/tornado/ioloop.py\", line 758, in _run_callback\n    ret = callback()\n  File \"/usr/local/lib/python3.5/dist-packages/tornado/stack_context.py\", line 300, in null_wrapper\n    return fn(*args, **kwargs)\n  File \"/usr/local/lib/python3.5/dist-packages/tornado/gen.py\", line 1233, in inner\n    self.run()\n  File \"/usr/local/lib/python3.5/dist-packages/tornado/gen.py\", line 1147, in run\n    yielded = self.gen.send(value)\n  File \"/usr/local/lib/python3.5/dist-packages/ipykernel/kernelbase.py\", line 357, in process_one\n    yield gen.maybe_future(dispatch(*args))\n  File \"/usr/local/lib/python3.5/dist-packages/tornado/gen.py\", line 326, in wrapper\n    yielded = next(result)\n  File \"/usr/local/lib/python3.5/dist-packages/ipykernel/kernelbase.py\", line 267, in dispatch_shell\n    yield gen.maybe_future(handler(stream, idents, msg))\n  File \"/usr/local/lib/python3.5/dist-packages/tornado/gen.py\", line 326, in wrapper\n    yielded = next(result)\n  File \"/usr/local/lib/python3.5/dist-packages/ipykernel/kernelbase.py\", line 534, in execute_request\n    user_expressions, allow_stdin,\n  File \"/usr/local/lib/python3.5/dist-packages/tornado/gen.py\", line 326, in wrapper\n    yielded = next(result)\n  File \"/usr/local/lib/python3.5/dist-packages/ipykernel/ipkernel.py\", line 294, in do_execute\n    res = shell.run_cell(code, store_history=store_history, silent=silent)\n  File \"/usr/local/lib/python3.5/dist-packages/ipykernel/zmqshell.py\", line 536, in run_cell\n    return super(ZMQInteractiveShell, self).run_cell(*args, **kwargs)\n  File \"/usr/local/lib/python3.5/dist-packages/IPython/core/interactiveshell.py\", line 2819, in run_cell\n    raw_cell, store_history, silent, shell_futures)\n  File \"/usr/local/lib/python3.5/dist-packages/IPython/core/interactiveshell.py\", line 2845, in _run_cell\n    return runner(coro)\n  File \"/usr/local/lib/python3.5/dist-packages/IPython/core/async_helpers.py\", line 67, in _pseudo_sync_runner\n    coro.send(None)\n  File \"/usr/local/lib/python3.5/dist-packages/IPython/core/interactiveshell.py\", line 3020, in run_cell_async\n    interactivity=interactivity, compiler=compiler, result=result)\n  File \"/usr/local/lib/python3.5/dist-packages/IPython/core/interactiveshell.py\", line 3185, in run_ast_nodes\n    if (yield from self.run_code(code, result)):\n  File \"/usr/local/lib/python3.5/dist-packages/IPython/core/interactiveshell.py\", line 3267, in run_code\n    exec(code_obj, self.user_global_ns, self.user_ns)\n  File \"<ipython-input-2-3c8e6eecdedd>\", line 8, in <module>\n    sample_data=iterator.get_next()\n  File \"/usr/local/lib/python3.5/dist-packages/tensorflow/python/data/ops/iterator_ops.py\", line 421, in get_next\n    name=name)), self._output_types,\n  File \"/usr/local/lib/python3.5/dist-packages/tensorflow/python/ops/gen_dataset_ops.py\", line 2069, in iterator_get_next\n    output_shapes=output_shapes, name=name)\n  File \"/usr/local/lib/python3.5/dist-packages/tensorflow/python/framework/op_def_library.py\", line 787, in _apply_op_helper\n    op_def=op_def)\n  File \"/usr/local/lib/python3.5/dist-packages/tensorflow/python/util/deprecation.py\", line 488, in new_func\n    return func(*args, **kwargs)\n  File \"/usr/local/lib/python3.5/dist-packages/tensorflow/python/framework/ops.py\", line 3274, in create_op\n    op_def=op_def)\n  File \"/usr/local/lib/python3.5/dist-packages/tensorflow/python/framework/ops.py\", line 1770, in __init__\n    self._traceback = tf_stack.extract_stack()\n\nOutOfRangeError (see above for traceback): End of sequence\n\t [[node IteratorGetNext (defined at <ipython-input-2-3c8e6eecdedd>:8)  = IteratorGetNext[output_shapes=[[10]], output_types=[DT_FLOAT], _device=\"/job:localhost/replica:0/task:0/device:CPU:0\"](OneShotIterator)]]\n",
     "output_type": "error",
     "traceback": [
      "\u001B[0;31m\u001B[0m",
      "\u001B[0;31mOutOfRangeError\u001B[0mTraceback (most recent call last)",
      "\u001B[0;32m/usr/local/lib/python3.5/dist-packages/tensorflow/python/client/session.py\u001B[0m in \u001B[0;36m_do_call\u001B[0;34m(self, fn, *args)\u001B[0m\n\u001B[1;32m   1333\u001B[0m     \u001B[0;32mtry\u001B[0m\u001B[0;34m:\u001B[0m\u001B[0;34m\u001B[0m\u001B[0m\n\u001B[0;32m-> 1334\u001B[0;31m       \u001B[0;32mreturn\u001B[0m \u001B[0mfn\u001B[0m\u001B[0;34m(\u001B[0m\u001B[0;34m*\u001B[0m\u001B[0margs\u001B[0m\u001B[0;34m)\u001B[0m\u001B[0;34m\u001B[0m\u001B[0m\n\u001B[0m\u001B[1;32m   1335\u001B[0m     \u001B[0;32mexcept\u001B[0m \u001B[0merrors\u001B[0m\u001B[0;34m.\u001B[0m\u001B[0mOpError\u001B[0m \u001B[0;32mas\u001B[0m \u001B[0me\u001B[0m\u001B[0;34m:\u001B[0m\u001B[0;34m\u001B[0m\u001B[0m\n",
      "\u001B[0;32m/usr/local/lib/python3.5/dist-packages/tensorflow/python/client/session.py\u001B[0m in \u001B[0;36m_run_fn\u001B[0;34m(feed_dict, fetch_list, target_list, options, run_metadata)\u001B[0m\n\u001B[1;32m   1318\u001B[0m       return self._call_tf_sessionrun(\n\u001B[0;32m-> 1319\u001B[0;31m           options, feed_dict, fetch_list, target_list, run_metadata)\n\u001B[0m\u001B[1;32m   1320\u001B[0m \u001B[0;34m\u001B[0m\u001B[0m\n",
      "\u001B[0;32m/usr/local/lib/python3.5/dist-packages/tensorflow/python/client/session.py\u001B[0m in \u001B[0;36m_call_tf_sessionrun\u001B[0;34m(self, options, feed_dict, fetch_list, target_list, run_metadata)\u001B[0m\n\u001B[1;32m   1406\u001B[0m         \u001B[0mself\u001B[0m\u001B[0;34m.\u001B[0m\u001B[0m_session\u001B[0m\u001B[0;34m,\u001B[0m \u001B[0moptions\u001B[0m\u001B[0;34m,\u001B[0m \u001B[0mfeed_dict\u001B[0m\u001B[0;34m,\u001B[0m \u001B[0mfetch_list\u001B[0m\u001B[0;34m,\u001B[0m \u001B[0mtarget_list\u001B[0m\u001B[0;34m,\u001B[0m\u001B[0;34m\u001B[0m\u001B[0m\n\u001B[0;32m-> 1407\u001B[0;31m         run_metadata)\n\u001B[0m\u001B[1;32m   1408\u001B[0m \u001B[0;34m\u001B[0m\u001B[0m\n",
      "\u001B[0;31mOutOfRangeError\u001B[0m: End of sequence\n\t [[{{node IteratorGetNext}} = IteratorGetNext[output_shapes=[[10]], output_types=[DT_FLOAT], _device=\"/job:localhost/replica:0/task:0/device:CPU:0\"](OneShotIterator)]]",
      "\nDuring handling of the above exception, another exception occurred:\n",
      "\u001B[0;31mOutOfRangeError\u001B[0mTraceback (most recent call last)",
      "\u001B[0;32m<ipython-input-2-3c8e6eecdedd>\u001B[0m in \u001B[0;36m<module>\u001B[0;34m\u001B[0m\n\u001B[1;32m     10\u001B[0m     \u001B[0mprint\u001B[0m\u001B[0;34m(\u001B[0m\u001B[0msess\u001B[0m\u001B[0;34m.\u001B[0m\u001B[0mrun\u001B[0m\u001B[0;34m(\u001B[0m\u001B[0;34m[\u001B[0m\u001B[0msample_data\u001B[0m\u001B[0;34m]\u001B[0m\u001B[0;34m)\u001B[0m\u001B[0;34m)\u001B[0m\u001B[0;34m\u001B[0m\u001B[0m\n\u001B[1;32m     11\u001B[0m     \u001B[0mprint\u001B[0m\u001B[0;34m(\u001B[0m\u001B[0msess\u001B[0m\u001B[0;34m.\u001B[0m\u001B[0mrun\u001B[0m\u001B[0;34m(\u001B[0m\u001B[0;34m[\u001B[0m\u001B[0msample_data\u001B[0m\u001B[0;34m]\u001B[0m\u001B[0;34m)\u001B[0m\u001B[0;34m)\u001B[0m\u001B[0;34m\u001B[0m\u001B[0m\n\u001B[0;32m---> 12\u001B[0;31m     \u001B[0mprint\u001B[0m\u001B[0;34m(\u001B[0m\u001B[0msess\u001B[0m\u001B[0;34m.\u001B[0m\u001B[0mrun\u001B[0m\u001B[0;34m(\u001B[0m\u001B[0;34m[\u001B[0m\u001B[0msample_data\u001B[0m\u001B[0;34m]\u001B[0m\u001B[0;34m)\u001B[0m\u001B[0;34m)\u001B[0m\u001B[0;34m\u001B[0m\u001B[0m\n\u001B[0m\u001B[1;32m     13\u001B[0m \u001B[0;34m\u001B[0m\u001B[0m\n\u001B[1;32m     14\u001B[0m \u001B[0;34m\u001B[0m\u001B[0m\n",
      "\u001B[0;32m/usr/local/lib/python3.5/dist-packages/tensorflow/python/client/session.py\u001B[0m in \u001B[0;36mrun\u001B[0;34m(self, fetches, feed_dict, options, run_metadata)\u001B[0m\n\u001B[1;32m    927\u001B[0m     \u001B[0;32mtry\u001B[0m\u001B[0;34m:\u001B[0m\u001B[0;34m\u001B[0m\u001B[0m\n\u001B[1;32m    928\u001B[0m       result = self._run(None, fetches, feed_dict, options_ptr,\n\u001B[0;32m--> 929\u001B[0;31m                          run_metadata_ptr)\n\u001B[0m\u001B[1;32m    930\u001B[0m       \u001B[0;32mif\u001B[0m \u001B[0mrun_metadata\u001B[0m\u001B[0;34m:\u001B[0m\u001B[0;34m\u001B[0m\u001B[0m\n\u001B[1;32m    931\u001B[0m         \u001B[0mproto_data\u001B[0m \u001B[0;34m=\u001B[0m \u001B[0mtf_session\u001B[0m\u001B[0;34m.\u001B[0m\u001B[0mTF_GetBuffer\u001B[0m\u001B[0;34m(\u001B[0m\u001B[0mrun_metadata_ptr\u001B[0m\u001B[0;34m)\u001B[0m\u001B[0;34m\u001B[0m\u001B[0m\n",
      "\u001B[0;32m/usr/local/lib/python3.5/dist-packages/tensorflow/python/client/session.py\u001B[0m in \u001B[0;36m_run\u001B[0;34m(self, handle, fetches, feed_dict, options, run_metadata)\u001B[0m\n\u001B[1;32m   1150\u001B[0m     \u001B[0;32mif\u001B[0m \u001B[0mfinal_fetches\u001B[0m \u001B[0;32mor\u001B[0m \u001B[0mfinal_targets\u001B[0m \u001B[0;32mor\u001B[0m \u001B[0;34m(\u001B[0m\u001B[0mhandle\u001B[0m \u001B[0;32mand\u001B[0m \u001B[0mfeed_dict_tensor\u001B[0m\u001B[0;34m)\u001B[0m\u001B[0;34m:\u001B[0m\u001B[0;34m\u001B[0m\u001B[0m\n\u001B[1;32m   1151\u001B[0m       results = self._do_run(handle, final_targets, final_fetches,\n\u001B[0;32m-> 1152\u001B[0;31m                              feed_dict_tensor, options, run_metadata)\n\u001B[0m\u001B[1;32m   1153\u001B[0m     \u001B[0;32melse\u001B[0m\u001B[0;34m:\u001B[0m\u001B[0;34m\u001B[0m\u001B[0m\n\u001B[1;32m   1154\u001B[0m       \u001B[0mresults\u001B[0m \u001B[0;34m=\u001B[0m \u001B[0;34m[\u001B[0m\u001B[0;34m]\u001B[0m\u001B[0;34m\u001B[0m\u001B[0m\n",
      "\u001B[0;32m/usr/local/lib/python3.5/dist-packages/tensorflow/python/client/session.py\u001B[0m in \u001B[0;36m_do_run\u001B[0;34m(self, handle, target_list, fetch_list, feed_dict, options, run_metadata)\u001B[0m\n\u001B[1;32m   1326\u001B[0m     \u001B[0;32mif\u001B[0m \u001B[0mhandle\u001B[0m \u001B[0;32mis\u001B[0m \u001B[0;32mNone\u001B[0m\u001B[0;34m:\u001B[0m\u001B[0;34m\u001B[0m\u001B[0m\n\u001B[1;32m   1327\u001B[0m       return self._do_call(_run_fn, feeds, fetches, targets, options,\n\u001B[0;32m-> 1328\u001B[0;31m                            run_metadata)\n\u001B[0m\u001B[1;32m   1329\u001B[0m     \u001B[0;32melse\u001B[0m\u001B[0;34m:\u001B[0m\u001B[0;34m\u001B[0m\u001B[0m\n\u001B[1;32m   1330\u001B[0m       \u001B[0;32mreturn\u001B[0m \u001B[0mself\u001B[0m\u001B[0;34m.\u001B[0m\u001B[0m_do_call\u001B[0m\u001B[0;34m(\u001B[0m\u001B[0m_prun_fn\u001B[0m\u001B[0;34m,\u001B[0m \u001B[0mhandle\u001B[0m\u001B[0;34m,\u001B[0m \u001B[0mfeeds\u001B[0m\u001B[0;34m,\u001B[0m \u001B[0mfetches\u001B[0m\u001B[0;34m)\u001B[0m\u001B[0;34m\u001B[0m\u001B[0m\n",
      "\u001B[0;32m/usr/local/lib/python3.5/dist-packages/tensorflow/python/client/session.py\u001B[0m in \u001B[0;36m_do_call\u001B[0;34m(self, fn, *args)\u001B[0m\n\u001B[1;32m   1346\u001B[0m           \u001B[0;32mpass\u001B[0m\u001B[0;34m\u001B[0m\u001B[0m\n\u001B[1;32m   1347\u001B[0m       \u001B[0mmessage\u001B[0m \u001B[0;34m=\u001B[0m \u001B[0merror_interpolation\u001B[0m\u001B[0;34m.\u001B[0m\u001B[0minterpolate\u001B[0m\u001B[0;34m(\u001B[0m\u001B[0mmessage\u001B[0m\u001B[0;34m,\u001B[0m \u001B[0mself\u001B[0m\u001B[0;34m.\u001B[0m\u001B[0m_graph\u001B[0m\u001B[0;34m)\u001B[0m\u001B[0;34m\u001B[0m\u001B[0m\n\u001B[0;32m-> 1348\u001B[0;31m       \u001B[0;32mraise\u001B[0m \u001B[0mtype\u001B[0m\u001B[0;34m(\u001B[0m\u001B[0me\u001B[0m\u001B[0;34m)\u001B[0m\u001B[0;34m(\u001B[0m\u001B[0mnode_def\u001B[0m\u001B[0;34m,\u001B[0m \u001B[0mop\u001B[0m\u001B[0;34m,\u001B[0m \u001B[0mmessage\u001B[0m\u001B[0;34m)\u001B[0m\u001B[0;34m\u001B[0m\u001B[0m\n\u001B[0m\u001B[1;32m   1349\u001B[0m \u001B[0;34m\u001B[0m\u001B[0m\n\u001B[1;32m   1350\u001B[0m   \u001B[0;32mdef\u001B[0m \u001B[0m_extend_graph\u001B[0m\u001B[0;34m(\u001B[0m\u001B[0mself\u001B[0m\u001B[0;34m)\u001B[0m\u001B[0;34m:\u001B[0m\u001B[0;34m\u001B[0m\u001B[0m\n",
      "\u001B[0;31mOutOfRangeError\u001B[0m: End of sequence\n\t [[node IteratorGetNext (defined at <ipython-input-2-3c8e6eecdedd>:8)  = IteratorGetNext[output_shapes=[[10]], output_types=[DT_FLOAT], _device=\"/job:localhost/replica:0/task:0/device:CPU:0\"](OneShotIterator)]]\n\nCaused by op 'IteratorGetNext', defined at:\n  File \"/usr/lib/python3.5/runpy.py\", line 184, in _run_module_as_main\n    \"__main__\", mod_spec)\n  File \"/usr/lib/python3.5/runpy.py\", line 85, in _run_code\n    exec(code, run_globals)\n  File \"/usr/local/lib/python3.5/dist-packages/ipykernel_launcher.py\", line 16, in <module>\n    app.launch_new_instance()\n  File \"/usr/local/lib/python3.5/dist-packages/traitlets/config/application.py\", line 658, in launch_instance\n    app.start()\n  File \"/usr/local/lib/python3.5/dist-packages/ipykernel/kernelapp.py\", line 505, in start\n    self.io_loop.start()\n  File \"/usr/local/lib/python3.5/dist-packages/tornado/platform/asyncio.py\", line 132, in start\n    self.asyncio_loop.run_forever()\n  File \"/usr/lib/python3.5/asyncio/base_events.py\", line 345, in run_forever\n    self._run_once()\n  File \"/usr/lib/python3.5/asyncio/base_events.py\", line 1312, in _run_once\n    handle._run()\n  File \"/usr/lib/python3.5/asyncio/events.py\", line 125, in _run\n    self._callback(*self._args)\n  File \"/usr/local/lib/python3.5/dist-packages/tornado/ioloop.py\", line 758, in _run_callback\n    ret = callback()\n  File \"/usr/local/lib/python3.5/dist-packages/tornado/stack_context.py\", line 300, in null_wrapper\n    return fn(*args, **kwargs)\n  File \"/usr/local/lib/python3.5/dist-packages/tornado/gen.py\", line 1233, in inner\n    self.run()\n  File \"/usr/local/lib/python3.5/dist-packages/tornado/gen.py\", line 1147, in run\n    yielded = self.gen.send(value)\n  File \"/usr/local/lib/python3.5/dist-packages/ipykernel/kernelbase.py\", line 357, in process_one\n    yield gen.maybe_future(dispatch(*args))\n  File \"/usr/local/lib/python3.5/dist-packages/tornado/gen.py\", line 326, in wrapper\n    yielded = next(result)\n  File \"/usr/local/lib/python3.5/dist-packages/ipykernel/kernelbase.py\", line 267, in dispatch_shell\n    yield gen.maybe_future(handler(stream, idents, msg))\n  File \"/usr/local/lib/python3.5/dist-packages/tornado/gen.py\", line 326, in wrapper\n    yielded = next(result)\n  File \"/usr/local/lib/python3.5/dist-packages/ipykernel/kernelbase.py\", line 534, in execute_request\n    user_expressions, allow_stdin,\n  File \"/usr/local/lib/python3.5/dist-packages/tornado/gen.py\", line 326, in wrapper\n    yielded = next(result)\n  File \"/usr/local/lib/python3.5/dist-packages/ipykernel/ipkernel.py\", line 294, in do_execute\n    res = shell.run_cell(code, store_history=store_history, silent=silent)\n  File \"/usr/local/lib/python3.5/dist-packages/ipykernel/zmqshell.py\", line 536, in run_cell\n    return super(ZMQInteractiveShell, self).run_cell(*args, **kwargs)\n  File \"/usr/local/lib/python3.5/dist-packages/IPython/core/interactiveshell.py\", line 2819, in run_cell\n    raw_cell, store_history, silent, shell_futures)\n  File \"/usr/local/lib/python3.5/dist-packages/IPython/core/interactiveshell.py\", line 2845, in _run_cell\n    return runner(coro)\n  File \"/usr/local/lib/python3.5/dist-packages/IPython/core/async_helpers.py\", line 67, in _pseudo_sync_runner\n    coro.send(None)\n  File \"/usr/local/lib/python3.5/dist-packages/IPython/core/interactiveshell.py\", line 3020, in run_cell_async\n    interactivity=interactivity, compiler=compiler, result=result)\n  File \"/usr/local/lib/python3.5/dist-packages/IPython/core/interactiveshell.py\", line 3185, in run_ast_nodes\n    if (yield from self.run_code(code, result)):\n  File \"/usr/local/lib/python3.5/dist-packages/IPython/core/interactiveshell.py\", line 3267, in run_code\n    exec(code_obj, self.user_global_ns, self.user_ns)\n  File \"<ipython-input-2-3c8e6eecdedd>\", line 8, in <module>\n    sample_data=iterator.get_next()\n  File \"/usr/local/lib/python3.5/dist-packages/tensorflow/python/data/ops/iterator_ops.py\", line 421, in get_next\n    name=name)), self._output_types,\n  File \"/usr/local/lib/python3.5/dist-packages/tensorflow/python/ops/gen_dataset_ops.py\", line 2069, in iterator_get_next\n    output_shapes=output_shapes, name=name)\n  File \"/usr/local/lib/python3.5/dist-packages/tensorflow/python/framework/op_def_library.py\", line 787, in _apply_op_helper\n    op_def=op_def)\n  File \"/usr/local/lib/python3.5/dist-packages/tensorflow/python/util/deprecation.py\", line 488, in new_func\n    return func(*args, **kwargs)\n  File \"/usr/local/lib/python3.5/dist-packages/tensorflow/python/framework/ops.py\", line 3274, in create_op\n    op_def=op_def)\n  File \"/usr/local/lib/python3.5/dist-packages/tensorflow/python/framework/ops.py\", line 1770, in __init__\n    self._traceback = tf_stack.extract_stack()\n\nOutOfRangeError (see above for traceback): End of sequence\n\t [[node IteratorGetNext (defined at <ipython-input-2-3c8e6eecdedd>:8)  = IteratorGetNext[output_shapes=[[10]], output_types=[DT_FLOAT], _device=\"/job:localhost/replica:0/task:0/device:CPU:0\"](OneShotIterator)]]\n"
     ]
    }
   ],
   "source": [
    "# make one shot iterator\n",
    "import tensorflow as tf\n",
    "import numpy as np\n",
    "tf.reset_default_graph()\n",
    "ds=tf.data.Dataset.from_tensor_slices(np.reshape(np.arange(0,20),newshape=[2,10]).astype(np.float32))\n",
    "iterator=sample_data=ds.make_one_shot_iterator()\n",
    "sample_data=iterator.get_next()\n",
    "with tf.Session() as sess:\n",
    "    print(sess.run([sample_data]))\n",
    "    print(sess.run([sample_data]))\n",
    "    print(sess.run([sample_data]))"
   ]
  },
  {
   "cell_type": "code",
   "execution_count": 3,
   "outputs": [
    {
     "name": "stdout",
     "output_type": "stream",
     "text": [
      "[array([0., 1., 2., 3., 4., 5., 6., 7., 8., 9.], dtype=float32)]\n",
      "[array([0., 1., 2., 3., 4., 5., 6., 7., 8., 9.], dtype=float32)]\n"
     ]
    }
   ],
   "source": [
    "# make initializable iterator\n",
    "import tensorflow as tf\n",
    "import numpy as np\n",
    "tf.reset_default_graph()\n",
    "ds=tf.data.Dataset.from_tensor_slices(np.reshape(np.arange(0,20),newshape=[2,10]).astype(np.float32))\n",
    "iterator=sample_data=ds.make_initializable_iterator()\n",
    "sample_data=iterator.get_next()\n",
    "with tf.Session() as sess:\n",
    "    sess.run(iterator.initializer)\n",
    "    print(sess.run([sample_data]))\n",
    "    sess.run(iterator.initializer)\n",
    "    print(sess.run([sample_data]))"
   ],
   "metadata": {
    "collapsed": false,
    "pycharm": {
     "name": "#%%\n"
    }
   }
  },
  {
   "cell_type": "code",
   "execution_count": 62,
   "outputs": [
    {
     "name": "stdout",
     "output_type": "stream",
     "text": [
      "1.15.2\n",
      "WARNING:tensorflow:The default value of combiner will change from \"mean\" to \"sqrtn\" after 2016/11/01.\n",
      "WARNING:tensorflow:The default value of combiner will change from \"mean\" to \"sqrtn\" after 2016/11/01.\n",
      "WARNING:tensorflow:The default value of combiner will change from \"mean\" to \"sqrtn\" after 2016/11/01.\n",
      "[SparseTensorValue(indices=array([[0, 0],\n",
      "       [1, 0]]), values=array([b'1', b'2'], dtype=object), dense_shape=array([2, 1])), SparseTensorValue(indices=array([[0, 0],\n",
      "       [0, 1],\n",
      "       [1, 0]]), values=array([b'3', b'4', b'5'], dtype=object), dense_shape=array([2, 2])), SparseTensorValue(indices=array([[0, 0],\n",
      "       [1, 0]]), values=array([b'6', b'7'], dtype=object), dense_shape=array([2, 1]))]\n",
      "[array([[-1.8911963 ,  1.6723684 ,  0.2148818 ,  0.35627836],\n",
      "       [-1.3813689 ,  0.5488272 ,  1.9147371 , -0.3831436 ]],\n",
      "      dtype=float32), array([[ 0.11691725,  0.23798639, -0.00921731, -0.94440436],\n",
      "       [-0.39179605,  0.13240324,  1.5920373 ,  0.18155167]],\n",
      "      dtype=float32), array([[ 0.34743452,  0.18026952,  0.25980872, -0.7567837 ],\n",
      "       [-0.27643877, -0.93949413,  0.11628805,  0.68984634]],\n",
      "      dtype=float32)]\n",
      "[[[-1.8911963   1.6723684   0.2148818   0.35627836]\n",
      "  [ 0.11691725  0.23798639 -0.00921731 -0.94440436]\n",
      "  [ 0.34743452  0.18026952  0.25980872 -0.7567837 ]]\n",
      "\n",
      " [[-1.3813689   0.5488272   1.9147371  -0.3831436 ]\n",
      "  [-0.39179605  0.13240324  1.5920373   0.18155167]\n",
      "  [-0.27643877 -0.93949413  0.11628805  0.68984634]]]\n"
     ]
    }
   ],
   "source": [
    "import tensorflow as tf\n",
    "tf.reset_default_graph()\n",
    "print(tf.__version__)\n",
    "# 在tf1之中配合dataset对multihot样本进行embedding\n",
    "# 注意featureId一定要从0开始，否则转稀疏矩阵时会丢到该值\n",
    "num_fields=3\n",
    "num_features=8\n",
    "raw_ds=tf.data.Dataset.from_tensor_slices([\"1:1 2:3;4 3:6\",\"1:2 2:5 3:7\",\"1:1 2:4 3:7\"])\n",
    "\n",
    "def line_tf_parser(line):\n",
    "    \"\"\"\n",
    "\n",
    "    :param line: tensor in string\n",
    "    :return: 返回的是一个list，每个元素都是一个field的feature_id字符串，用;连接\n",
    "         不借助py_function的方法\n",
    "         输出是一个tensor，shape为[num_fields]\n",
    "    \"\"\"\n",
    "    row=tf.strings.split([line],\" \") # 稀疏tensor， values就是[1:1,2:3;4]\n",
    "    field_features=tf.strings.split(row.values,\":\")  # 稀疏tensor， values就是[1,1,2,3;4]\n",
    "    field_features=tf.reshape(field_features.values,shape=[num_fields,2]) # reshape一下，使得field_features[0,0:2]代表fieldid和rawfeatureid，例如【2，3；4】\n",
    "    raw_features=tf.slice(field_features,begin=[0,1],size=[num_fields,1]) # 切片，不要第一列\n",
    "    # raw_features = tf.strings.split(raw_features,\";\")\n",
    "    # raw_features = tf.string.to_number(raw_features,tf.int64)\n",
    "    return tf.reshape(raw_features,shape=[-1])\n",
    "\n",
    "raw_fields_ds=raw_ds.map(line_tf_parser)\n",
    "raw_fields_iter=raw_fields_ds.make_initializable_iterator()\n",
    "raw_fields_item=raw_fields_iter.get_next()\n",
    "\n",
    "raw_fields_batched_ds=raw_fields_ds.batch(2)\n",
    "raw_fields_batched_iter=raw_fields_batched_ds.make_initializable_iterator()\n",
    "raw_fields_batch=raw_fields_batched_iter.get_next() # shape为[batch_size,num_fields]的item，类型string类型\n",
    "\n",
    "emb_table=tf.get_variable(\"emb_table\",shape=[num_features,4],initializer=tf.truncated_normal_initializer)\n",
    "\n",
    "\n",
    "def emb_layer(raw_batch):\n",
    "    embs=list()\n",
    "    raw_fields = list()\n",
    "    for i in range(num_fields):\n",
    "        raw_field_i=raw_batch[:,i]\n",
    "        raw_field_i=tf.strings.split(raw_field_i,\";\")\n",
    "        raw_fields.append(raw_field_i)\n",
    "\n",
    "        field_i_features = tf.SparseTensor(indices=raw_field_i.indices,values=tf.strings.to_number(raw_field_i.values,tf.int64),\n",
    "                                           dense_shape=raw_field_i.dense_shape)\n",
    "        embs.append(tf.nn.embedding_lookup_sparse(params=emb_table,sp_ids=field_i_features,sp_weights=None))\n",
    "    emb=tf.stack(embs,axis=1)\n",
    "    return raw_fields,embs,emb\n",
    "\n",
    "raw_fields,embs,emb=emb_layer(raw_fields_batch)\n",
    "\n",
    "with tf.Session() as sess:\n",
    "    sess.run(raw_fields_iter.initializer)\n",
    "    sess.run(raw_fields_batched_iter.initializer)\n",
    "    sess.run(tf.global_variables_initializer())\n",
    "    raw_fields_v,embs_v,emb_v=sess.run([raw_fields,embs,emb])\n",
    "    print(raw_fields_v)\n",
    "    print(embs_v)\n",
    "    print(emb_v)\n",
    "\n"
   ],
   "metadata": {
    "collapsed": false,
    "pycharm": {
     "name": "#%%\n"
    }
   }
  },
  {
   "cell_type": "code",
   "execution_count": 114,
   "outputs": [
    {
     "name": "stdout",
     "output_type": "stream",
     "text": [
      "1.15.2\n",
      "WARNING:tensorflow:The default value of combiner will change from \"mean\" to \"sqrtn\" after 2016/11/01.\n",
      "WARNING:tensorflow:The default value of combiner will change from \"mean\" to \"sqrtn\" after 2016/11/01.\n",
      "WARNING:tensorflow:The default value of combiner will change from \"mean\" to \"sqrtn\" after 2016/11/01.\n",
      "tf.Tensor(b'1:1', shape=(), dtype=string)\n",
      "tf.Tensor(b'2:3;4', shape=(), dtype=string)\n",
      "tf.Tensor(b'3:6', shape=(), dtype=string)\n",
      "tf.Tensor(b'1:2', shape=(), dtype=string)\n",
      "tf.Tensor(b'2:5', shape=(), dtype=string)\n",
      "tf.Tensor(b'3:7', shape=(), dtype=string)\n",
      "(array([b'1', b'2'], dtype=object), array([b'3;4', b'5'], dtype=object), array([b'6', b'7'], dtype=object))\n",
      "[[[-0.5486503   1.5331244   0.36968952  0.78226274]\n",
      "  [-0.97738576  1.0572159  -0.2437195  -0.50932246]\n",
      "  [-0.7055837   0.90787774 -0.23511706 -0.24157326]]\n",
      "\n",
      " [[-0.32546532  1.8531755  -0.6947388   0.3313469 ]\n",
      "  [ 0.36463615 -0.6116369  -0.54370946 -0.5988164 ]\n",
      "  [-0.4743176  -1.0135776   0.42608678 -1.1530648 ]]]\n",
      "tf.Tensor(b'1:1', shape=(), dtype=string)\n",
      "tf.Tensor(b'2:4', shape=(), dtype=string)\n",
      "tf.Tensor(b'3:7', shape=(), dtype=string)\n"
     ]
    }
   ],
   "source": [
    "\n",
    "# 借助py_function\n",
    "# 注意，tf1.12里没有py_function只有py_func差不太多\n",
    "import tensorflow as tf\n",
    "tf.reset_default_graph()\n",
    "print(tf.__version__)\n",
    "# 在tf1之中配合dataset对multihot样本进行embedding\n",
    "# 注意featureId一定要从0开始，否则转稀疏矩阵时会丢到该值\n",
    "num_fields=3\n",
    "num_features=8\n",
    "raw_ds=tf.data.Dataset.from_tensor_slices([\"1:1 2:3;4 3:6\",\"1:2 2:5 3:7\",\"1:1 2:4 3:7\"])\n",
    "\n",
    "def line_py_parser(line):\n",
    "    raw_feature_ids=list()\n",
    "    # 将line.numpy转换为string类型便于处理\n",
    "    # for field_features in str(line.numpy(), encoding = \"utf-8\").split(\" \"):\n",
    "    #     s=field_features.split(\":\")\n",
    "    #     raw_feature_ids.append(s[1])\n",
    "\n",
    "    for field_features in tf.strings.split([line.numpy()], \" \").values:\n",
    "        print(field_features)\n",
    "        s=tf.strings.split([field_features],\":\").values\n",
    "        raw_feature_ids.append(s[1])\n",
    "\n",
    "    return raw_feature_ids\n",
    "\n",
    "def line_tf_parser(line):\n",
    "    \"\"\"\n",
    "\n",
    "    :param line: tensor in string\n",
    "    :return: 返回的是一个list，每个元素都是一个field的feature_id字符串，用;连接\n",
    "         借助py_function\n",
    "    \"\"\"\n",
    "    res=tf.py_function(line_py_parser,inp=[line],Tout=[tf.string]*num_fields)\n",
    "\n",
    "    return res\n",
    "\n",
    "raw_fields_ds=raw_ds.map(line_tf_parser)\n",
    "raw_fields_iter=raw_fields_ds.make_initializable_iterator()\n",
    "raw_fields_item=raw_fields_iter.get_next()\n",
    "\n",
    "raw_fields_batched_ds=raw_fields_ds.batch(2)\n",
    "raw_fields_batched_iter=raw_fields_batched_ds.make_initializable_iterator()\n",
    "raw_fields_batch=raw_fields_batched_iter.get_next() # 每个item为num_fields个shape为[batch_size]，类型string类型\n",
    "\n",
    "emb_table=tf.get_variable(\"emb_table\",shape=[num_features,4],initializer=tf.truncated_normal_initializer)\n",
    "\n",
    "def emb_layer(raw_batch):\n",
    "    embs=list()\n",
    "    for i in range(num_fields):\n",
    "        raw_field_i=raw_batch[i]\n",
    "        raw_field_i=tf.strings.split(raw_field_i,\";\")\n",
    "        field_i_features = tf.SparseTensor(indices=raw_field_i.indices,values=tf.strings.to_number(raw_field_i.values,tf.int64),\n",
    "                                           dense_shape=raw_field_i.dense_shape)\n",
    "        embs.append(tf.nn.embedding_lookup_sparse(params=emb_table,sp_ids=field_i_features,sp_weights=None))\n",
    "    emb=tf.stack(embs,axis=1)\n",
    "    return emb\n",
    "\n",
    "emb=emb_layer(raw_fields_batch)\n",
    "\n",
    "with tf.Session() as sess:\n",
    "    sess.run(raw_fields_iter.initializer)\n",
    "    sess.run(raw_fields_batched_iter.initializer)\n",
    "    sess.run(tf.global_variables_initializer())\n",
    "    raw_fields_batch_v,emb_v=sess.run([raw_fields_batch,emb])\n",
    "    print(raw_fields_batch_v)\n",
    "    print(emb_v)\n"
   ],
   "metadata": {
    "collapsed": false,
    "pycharm": {
     "name": "#%%\n"
    }
   }
  },
  {
   "cell_type": "code",
   "execution_count": 1,
   "outputs": [
    {
     "name": "stderr",
     "output_type": "stream",
     "text": [
      "/Users/dominiczhu/opt/anaconda3/envs/tf112/lib/python3.6/site-packages/tensorflow/python/framework/dtypes.py:523: FutureWarning: Passing (type, 1) or '1type' as a synonym of type is deprecated; in a future version of numpy, it will be understood as (type, (1,)) / '(1,)type'.\n",
      "  _np_qint8 = np.dtype([(\"qint8\", np.int8, 1)])\n",
      "/Users/dominiczhu/opt/anaconda3/envs/tf112/lib/python3.6/site-packages/tensorflow/python/framework/dtypes.py:524: FutureWarning: Passing (type, 1) or '1type' as a synonym of type is deprecated; in a future version of numpy, it will be understood as (type, (1,)) / '(1,)type'.\n",
      "  _np_quint8 = np.dtype([(\"quint8\", np.uint8, 1)])\n",
      "/Users/dominiczhu/opt/anaconda3/envs/tf112/lib/python3.6/site-packages/tensorflow/python/framework/dtypes.py:525: FutureWarning: Passing (type, 1) or '1type' as a synonym of type is deprecated; in a future version of numpy, it will be understood as (type, (1,)) / '(1,)type'.\n",
      "  _np_qint16 = np.dtype([(\"qint16\", np.int16, 1)])\n",
      "/Users/dominiczhu/opt/anaconda3/envs/tf112/lib/python3.6/site-packages/tensorflow/python/framework/dtypes.py:526: FutureWarning: Passing (type, 1) or '1type' as a synonym of type is deprecated; in a future version of numpy, it will be understood as (type, (1,)) / '(1,)type'.\n",
      "  _np_quint16 = np.dtype([(\"quint16\", np.uint16, 1)])\n",
      "/Users/dominiczhu/opt/anaconda3/envs/tf112/lib/python3.6/site-packages/tensorflow/python/framework/dtypes.py:527: FutureWarning: Passing (type, 1) or '1type' as a synonym of type is deprecated; in a future version of numpy, it will be understood as (type, (1,)) / '(1,)type'.\n",
      "  _np_qint32 = np.dtype([(\"qint32\", np.int32, 1)])\n",
      "/Users/dominiczhu/opt/anaconda3/envs/tf112/lib/python3.6/site-packages/tensorflow/python/framework/dtypes.py:532: FutureWarning: Passing (type, 1) or '1type' as a synonym of type is deprecated; in a future version of numpy, it will be understood as (type, (1,)) / '(1,)type'.\n",
      "  np_resource = np.dtype([(\"resource\", np.ubyte, 1)])\n"
     ]
    }
   ],
   "source": [
    "\n",
    "import tensorflow as tf\n",
    "from sklearn.datasets import load_iris\n",
    "\n",
    "tf.reset_default_graph()\n",
    "\n",
    "iris = load_iris()\n",
    "\n",
    "features = tf.data.Dataset.from_tensor_slices(iris.data)  # [4,]\n",
    "labels = tf.data.Dataset.from_tensor_slices(iris.target)  # []\n",
    "\n",
    "ds = tf.data.Dataset.zip((features, labels))\n"
   ],
   "metadata": {
    "collapsed": false,
    "pycharm": {
     "name": "#%%\n"
    }
   }
  },
  {
   "cell_type": "code",
   "execution_count": 4,
   "outputs": [
    {
     "data": {
      "text/plain": "<ZipDataset shapes: ((4,), ()), types: (tf.float64, tf.int64)>"
     },
     "execution_count": 4,
     "metadata": {},
     "output_type": "execute_result"
    }
   ],
   "source": [
    "ds"
   ],
   "metadata": {
    "collapsed": false,
    "pycharm": {
     "name": "#%%\n"
    }
   }
  },
  {
   "cell_type": "code",
   "execution_count": null,
   "outputs": [],
   "source": [
    "\n"
   ],
   "metadata": {
    "collapsed": false,
    "pycharm": {
     "name": "#%%\n"
    }
   }
  }
 ],
 "metadata": {
  "kernelspec": {
   "display_name": "Python 3",
   "language": "python",
   "name": "python3"
  },
  "language_info": {
   "codemirror_mode": {
    "name": "ipython",
    "version": 2
   },
   "file_extension": ".py",
   "mimetype": "text/x-python",
   "name": "python",
   "nbconvert_exporter": "python",
   "pygments_lexer": "ipython2",
   "version": "2.7.6"
  }
 },
 "nbformat": 4,
 "nbformat_minor": 0
}