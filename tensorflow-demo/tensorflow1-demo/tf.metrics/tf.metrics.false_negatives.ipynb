{
 "cells": [
  {
   "cell_type": "code",
   "execution_count": 14,
   "metadata": {
    "collapsed": true
   },
   "outputs": [
    {
     "name": "stdout",
     "output_type": "stream",
     "text": [
      "label\n",
      "[[2 0 2 2 0 0 0 2 0 0]\n",
      " [0 2 2 2 0 2 0 2 2 0]]\n",
      "output\n",
      "[[0 0 0 0 0 0 0 0 0 0]\n",
      " [0 0 0 0 0 0 0 0 0 0]]\n",
      "[0.0]\n",
      "[0.0]\n"
     ]
    }
   ],
   "source": [
    "# 计算fp，和accuracy差不多 预测为负的正样本\n",
    "# 经过我多次实验，0代表负样本，除此之外的数都是正样本\n",
    "import tensorflow as tf\n",
    "import numpy as np\n",
    "tf.reset_default_graph()\n",
    "output_arr=np.random.choice([0,1],size=[2,10])\n",
    "label_arr=np.random.choice([0,2],size=[2,10])\n",
    "\n",
    "print(\"label\")\n",
    "print(label_arr)\n",
    "print(\"output\")\n",
    "print(output_arr)\n",
    "\n",
    "output_batch=tf.data.Dataset.from_tensor_slices(output_arr).make_one_shot_iterator().get_next()\n",
    "label_batch=tf.data.Dataset.from_tensor_slices(label_arr).make_one_shot_iterator().get_next()\n",
    "\n",
    "_,update_op=tf.metrics.true_positives(labels=label_batch,predictions=output_batch)\n",
    "with tf.Session() as sess:\n",
    "    sess.run(tf.global_variables_initializer())\n",
    "    sess.run(tf.local_variables_initializer())\n",
    "    print(sess.run([update_op]))\n",
    "    print(sess.run([update_op]))\n",
    "# print(np.sum(output_arr==label_arr))"
   ]
  },
  {
   "cell_type": "code",
   "execution_count": null,
   "outputs": [],
   "source": [
    "\n"
   ],
   "metadata": {
    "collapsed": false,
    "pycharm": {
     "name": "#%%\n"
    }
   }
  }
 ],
 "metadata": {
  "kernelspec": {
   "display_name": "Python 3",
   "language": "python",
   "name": "python3"
  },
  "language_info": {
   "codemirror_mode": {
    "name": "ipython",
    "version": 2
   },
   "file_extension": ".py",
   "mimetype": "text/x-python",
   "name": "python",
   "nbconvert_exporter": "python",
   "pygments_lexer": "ipython2",
   "version": "2.7.6"
  }
 },
 "nbformat": 4,
 "nbformat_minor": 0
}