{
 "cells": [
  {
   "cell_type": "code",
   "execution_count": 5,
   "metadata": {
    "collapsed": true
   },
   "outputs": [
    {
     "name": "stdout",
     "output_type": "stream",
     "text": [
      "[[2 0 0 1 2 0 0 0 0 0]\n",
      " [2 2 0 1 2 2 0 2 0 1]]\n",
      "[[2 2 2 1 1 2 1 2 2 2]\n",
      " [1 0 1 2 1 2 2 1 0 2]]\n",
      "[0.0, array([0.        , 0.33333334, 0.14285715], dtype=float32)]\n",
      "[0.15873016, array([0.5       , 0.14285715, 0.18181819], dtype=float32)]\n"
     ]
    }
   ],
   "source": [
    "import tensorflow as tf\n",
    "import numpy as np\n",
    "\n",
    "tf.reset_default_graph()\n",
    "predictions=np.random.choice([0,1,2],size=[2,10])\n",
    "labels=np.random.choice([0,1,2],size=[2,10])\n",
    "\n",
    "print(predictions)\n",
    "print(labels)\n",
    "\n",
    "# shape: [10,]\n",
    "predictions_batch=tf.data.Dataset.from_tensor_slices(predictions).make_one_shot_iterator().get_next()\n",
    "label_batch=tf.data.Dataset.from_tensor_slices(labels).make_one_shot_iterator().get_next()\n",
    "\n",
    "mean_accuracy,update_op=tf.metrics.mean_per_class_accuracy(\n",
    "    label_batch, predictions_batch, 3, weights=None, metrics_collections=None,\n",
    "    updates_collections=None, name=None\n",
    ")\n",
    "\n",
    "with tf.Session() as sess:\n",
    "    sess.run(tf.global_variables_initializer())\n",
    "    sess.run(tf.local_variables_initializer())\n",
    "    print(sess.run([mean_accuracy,update_op]))\n",
    "    print(sess.run([mean_accuracy,update_op]))"
   ]
  },
  {
   "cell_type": "code",
   "execution_count": 19,
   "outputs": [
    {
     "data": {
      "text/plain": "0.14285714285714285"
     },
     "execution_count": 19,
     "metadata": {},
     "output_type": "execute_result"
    }
   ],
   "source": [
    "np.sum((predictions==labels) & (labels==1))/np.sum(labels==1)"
   ],
   "metadata": {
    "collapsed": false,
    "pycharm": {
     "name": "#%%\n"
    }
   }
  },
  {
   "cell_type": "code",
   "execution_count": 20,
   "outputs": [
    {
     "name": "stdout",
     "output_type": "stream",
     "text": [
      "[[0.18525674 0.79770305 0.43972366 0.14421559 0.59062124 0.66804044\n",
      "  0.08905546 0.54652941 0.75704681 0.17446025]\n",
      " [0.64651885 0.1038739  0.59873095 0.7735293  0.97743608 0.55063135\n",
      "  0.113937   0.0248686  0.41895029 0.21041744]]\n",
      "[[2 0 0 1 0 1 1 0 2 0]\n",
      " [1 1 0 1 2 2 2 2 2 1]]\n",
      "[0.0, array([1., 0., 0.], dtype=float32)]\n",
      "[0.33333334, array([1., 0., 0.], dtype=float32)]\n"
     ]
    }
   ],
   "source": [
    "import tensorflow as tf\n",
    "import numpy as np\n",
    "\n",
    "tf.reset_default_graph()\n",
    "# prediction得是整数\n",
    "# predictions=np.random.choice([0,1,2],size=[2,10])\n",
    "predictions=np.random.random(size=[2,10])\n",
    "labels=np.random.choice([0,1,2],size=[2,10])\n",
    "\n",
    "print(predictions)\n",
    "print(labels)\n",
    "\n",
    "# shape: [10,]\n",
    "predictions_batch=tf.data.Dataset.from_tensor_slices(predictions).make_one_shot_iterator().get_next()\n",
    "label_batch=tf.data.Dataset.from_tensor_slices(labels).make_one_shot_iterator().get_next()\n",
    "\n",
    "mean_accuracy,update_op=tf.metrics.mean_per_class_accuracy(\n",
    "    label_batch, predictions_batch, 3, weights=None, metrics_collections=None,\n",
    "    updates_collections=None, name=None\n",
    ")\n",
    "\n",
    "with tf.Session() as sess:\n",
    "    sess.run(tf.global_variables_initializer())\n",
    "    sess.run(tf.local_variables_initializer())\n",
    "    print(sess.run([mean_accuracy,update_op]))\n",
    "    print(sess.run([mean_accuracy,update_op]))"
   ],
   "metadata": {
    "collapsed": false,
    "pycharm": {
     "name": "#%%\n"
    }
   }
  },
  {
   "cell_type": "code",
   "execution_count": null,
   "outputs": [],
   "source": [
    "\n"
   ],
   "metadata": {
    "collapsed": false,
    "pycharm": {
     "name": "#%%\n"
    }
   }
  }
 ],
 "metadata": {
  "kernelspec": {
   "display_name": "Python 3",
   "language": "python",
   "name": "python3"
  },
  "language_info": {
   "codemirror_mode": {
    "name": "ipython",
    "version": 2
   },
   "file_extension": ".py",
   "mimetype": "text/x-python",
   "name": "python",
   "nbconvert_exporter": "python",
   "pygments_lexer": "ipython2",
   "version": "2.7.6"
  }
 },
 "nbformat": 4,
 "nbformat_minor": 0
}