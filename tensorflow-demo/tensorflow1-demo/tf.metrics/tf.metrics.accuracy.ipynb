{
 "cells": [
  {
   "cell_type": "code",
   "execution_count": 8,
   "metadata": {
    "collapsed": true
   },
   "outputs": [
    {
     "name": "stdout",
     "output_type": "stream",
     "text": [
      "[[0 1 0 0 0 1 0 0 0 0]\n",
      " [1 1 1 1 1 0 0 1 1 1]]\n",
      "[[0 1 0 1 1 0 0 0 0 0]\n",
      " [0 0 1 1 1 1 0 1 0 0]]\n",
      "[0.0, 0.7]\n",
      "[0.7, 0.6]\n",
      "12\n"
     ]
    }
   ],
   "source": [
    "# 可以看到这个玩意不是简单的算准确度，而是叠加地来算准确度，例如下面的第二个结果，就是两次结果的综合准确度\n",
    "# update 一次才会更新这个准确度，这个操作会更新count和total，从而更新准确度\n",
    "import tensorflow as tf\n",
    "import numpy as np\n",
    "tf.reset_default_graph()\n",
    "output_arr=np.random.choice([0,1],size=[2,10])\n",
    "label_arr=np.random.choice([0,1],size=[2,10])\n",
    "\n",
    "print(output_arr)\n",
    "print(label_arr)\n",
    "\n",
    "output_batch=tf.data.Dataset.from_tensor_slices(output_arr).make_one_shot_iterator().get_next()\n",
    "label_batch=tf.data.Dataset.from_tensor_slices(label_arr).make_one_shot_iterator().get_next()\n",
    "\n",
    "accuracy,update_op=tf.metrics.accuracy(labels=label_batch,predictions=output_batch,\n",
    "                                       updates_collections=tf.GraphKeys.UPDATE_OPS,\n",
    "                                       name=\"acc_metric\")\n",
    "update_ops = tf.get_collection(tf.GraphKeys.UPDATE_OPS)  # 这个update操作需要定义在bn_layer的call之后，否则会为空\n",
    "\n",
    "with tf.Session() as sess:\n",
    "    sess.run(tf.global_variables_initializer())\n",
    "    sess.run(tf.local_variables_initializer())\n",
    "    print(sess.run([accuracy,update_op]))\n",
    "    print(sess.run([accuracy,update_op]))\n",
    "print(np.sum(output_arr==label_arr))"
   ]
  },
  {
   "cell_type": "code",
   "execution_count": 9,
   "outputs": [],
   "source": [
    "8/20"
   ],
   "metadata": {
    "collapsed": false,
    "pycharm": {
     "name": "#%%\n"
    }
   }
  },
  {
   "cell_type": "code",
   "execution_count": 35,
   "outputs": [
    {
     "data": {
      "text/plain": "0.4"
     },
     "execution_count": 35,
     "metadata": {},
     "output_type": "execute_result"
    }
   ],
   "source": [
    "running_vars = tf.get_collection(tf.GraphKeys.LOCAL_VARIABLES, scope=\"acc_metric\")\n"
   ],
   "metadata": {
    "collapsed": false,
    "pycharm": {
     "name": "#%%\n"
    }
   }
  },
  {
   "cell_type": "code",
   "execution_count": 10,
   "outputs": [
    {
     "name": "stdout",
     "output_type": "stream",
     "text": [
      "[<tf.Variable 'acc_metric/total:0' shape=() dtype=float32_ref>, <tf.Variable 'acc_metric/count:0' shape=() dtype=float32_ref>]\n",
      "[<tf.Tensor 'acc_metric/update_op:0' shape=() dtype=float32>]\n"
     ]
    }
   ],
   "source": [
    "print(running_vars)\n",
    "print(update_ops)"
   ],
   "metadata": {
    "collapsed": false,
    "pycharm": {
     "name": "#%%\n"
    }
   }
  },
  {
   "cell_type": "code",
   "execution_count": null,
   "outputs": [],
   "source": [
    "\n"
   ],
   "metadata": {
    "collapsed": false,
    "pycharm": {
     "name": "#%%\n"
    }
   }
  }
 ],
 "metadata": {
  "kernelspec": {
   "display_name": "Python 3",
   "language": "python",
   "name": "python3"
  },
  "language_info": {
   "codemirror_mode": {
    "name": "ipython",
    "version": 2
   },
   "file_extension": ".py",
   "mimetype": "text/x-python",
   "name": "python",
   "nbconvert_exporter": "python",
   "pygments_lexer": "ipython2",
   "version": "2.7.6"
  }
 },
 "nbformat": 4,
 "nbformat_minor": 0
}